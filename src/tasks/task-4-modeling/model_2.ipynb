{
 "cells": [
  {
   "cell_type": "code",
   "execution_count": 1,
   "metadata": {},
   "outputs": [],
   "source": [
    "import pandas as pd\n",
    "import os\n",
    "import numpy as np\n",
    "import IPython.display as ipd\n",
    "import librosa\n",
    "import librosa.display\n",
    "import matplotlib.pyplot as plt\n",
    "%matplotlib inline"
   ]
  },
  {
   "cell_type": "code",
   "execution_count": 2,
   "metadata": {},
   "outputs": [],
   "source": [
    "# Download dataset from \"https://www.kaggle.com/datasets/nasrulhakim86/coughvid-wav\"\n",
    "# Extract it and add the location paths"
   ]
  },
  {
   "cell_type": "code",
   "execution_count": 3,
   "metadata": {},
   "outputs": [],
   "source": [
    "audio_dataset_path = 'D:/work3/Omdena/NewDelhi_Chapter/data/archive/public_dataset/'\n",
    "metadata_file_path = 'D:/work3/Omdena/NewDelhi_Chapter/data/archive/public_dataset/metadata_compiled.csv'"
   ]
  },
  {
   "cell_type": "code",
   "execution_count": 4,
   "metadata": {},
   "outputs": [
    {
     "data": {
      "text/html": [
       "<div>\n",
       "<style scoped>\n",
       "    .dataframe tbody tr th:only-of-type {\n",
       "        vertical-align: middle;\n",
       "    }\n",
       "\n",
       "    .dataframe tbody tr th {\n",
       "        vertical-align: top;\n",
       "    }\n",
       "\n",
       "    .dataframe thead th {\n",
       "        text-align: right;\n",
       "    }\n",
       "</style>\n",
       "<table border=\"1\" class=\"dataframe\">\n",
       "  <thead>\n",
       "    <tr style=\"text-align: right;\">\n",
       "      <th></th>\n",
       "      <th>uuid</th>\n",
       "      <th>datetime</th>\n",
       "      <th>cough_detected</th>\n",
       "      <th>SNR</th>\n",
       "      <th>latitude</th>\n",
       "      <th>longitude</th>\n",
       "      <th>age</th>\n",
       "      <th>gender</th>\n",
       "      <th>respiratory_condition</th>\n",
       "      <th>fever_muscle_pain</th>\n",
       "      <th>...</th>\n",
       "      <th>quality_4</th>\n",
       "      <th>cough_type_4</th>\n",
       "      <th>dyspnea_4</th>\n",
       "      <th>wheezing_4</th>\n",
       "      <th>stridor_4</th>\n",
       "      <th>choking_4</th>\n",
       "      <th>congestion_4</th>\n",
       "      <th>nothing_4</th>\n",
       "      <th>diagnosis_4</th>\n",
       "      <th>severity_4</th>\n",
       "    </tr>\n",
       "  </thead>\n",
       "  <tbody>\n",
       "    <tr>\n",
       "      <th>0</th>\n",
       "      <td>00014dcc-0f06-4c27-8c7b-737b18a2cf4c</td>\n",
       "      <td>2020-11-25T18:58:50.488301+00:00</td>\n",
       "      <td>0.0155</td>\n",
       "      <td>7.326171</td>\n",
       "      <td>48.9</td>\n",
       "      <td>2.4</td>\n",
       "      <td>NaN</td>\n",
       "      <td>NaN</td>\n",
       "      <td>NaN</td>\n",
       "      <td>NaN</td>\n",
       "      <td>...</td>\n",
       "      <td>NaN</td>\n",
       "      <td>NaN</td>\n",
       "      <td>NaN</td>\n",
       "      <td>NaN</td>\n",
       "      <td>NaN</td>\n",
       "      <td>NaN</td>\n",
       "      <td>NaN</td>\n",
       "      <td>NaN</td>\n",
       "      <td>NaN</td>\n",
       "      <td>NaN</td>\n",
       "    </tr>\n",
       "    <tr>\n",
       "      <th>1</th>\n",
       "      <td>00039425-7f3a-42aa-ac13-834aaa2b6b92</td>\n",
       "      <td>2020-04-13T21:30:59.801831+00:00</td>\n",
       "      <td>0.9609</td>\n",
       "      <td>16.151433</td>\n",
       "      <td>31.3</td>\n",
       "      <td>34.8</td>\n",
       "      <td>15.0</td>\n",
       "      <td>male</td>\n",
       "      <td>False</td>\n",
       "      <td>False</td>\n",
       "      <td>...</td>\n",
       "      <td>NaN</td>\n",
       "      <td>NaN</td>\n",
       "      <td>NaN</td>\n",
       "      <td>NaN</td>\n",
       "      <td>NaN</td>\n",
       "      <td>NaN</td>\n",
       "      <td>NaN</td>\n",
       "      <td>NaN</td>\n",
       "      <td>NaN</td>\n",
       "      <td>NaN</td>\n",
       "    </tr>\n",
       "    <tr>\n",
       "      <th>2</th>\n",
       "      <td>0007c6f1-5441-40e6-9aaf-a761d8f2da3b</td>\n",
       "      <td>2020-10-18T15:38:38.205870+00:00</td>\n",
       "      <td>0.1643</td>\n",
       "      <td>16.217201</td>\n",
       "      <td>NaN</td>\n",
       "      <td>NaN</td>\n",
       "      <td>46.0</td>\n",
       "      <td>female</td>\n",
       "      <td>False</td>\n",
       "      <td>False</td>\n",
       "      <td>...</td>\n",
       "      <td>NaN</td>\n",
       "      <td>NaN</td>\n",
       "      <td>NaN</td>\n",
       "      <td>NaN</td>\n",
       "      <td>NaN</td>\n",
       "      <td>NaN</td>\n",
       "      <td>NaN</td>\n",
       "      <td>NaN</td>\n",
       "      <td>NaN</td>\n",
       "      <td>NaN</td>\n",
       "    </tr>\n",
       "    <tr>\n",
       "      <th>3</th>\n",
       "      <td>0009eb28-d8be-4dc1-92bb-907e53bc5c7a</td>\n",
       "      <td>2020-04-12T04:02:18.159383+00:00</td>\n",
       "      <td>0.9301</td>\n",
       "      <td>20.146058</td>\n",
       "      <td>40.0</td>\n",
       "      <td>-75.1</td>\n",
       "      <td>34.0</td>\n",
       "      <td>male</td>\n",
       "      <td>True</td>\n",
       "      <td>False</td>\n",
       "      <td>...</td>\n",
       "      <td>NaN</td>\n",
       "      <td>NaN</td>\n",
       "      <td>NaN</td>\n",
       "      <td>NaN</td>\n",
       "      <td>NaN</td>\n",
       "      <td>NaN</td>\n",
       "      <td>NaN</td>\n",
       "      <td>NaN</td>\n",
       "      <td>NaN</td>\n",
       "      <td>NaN</td>\n",
       "    </tr>\n",
       "    <tr>\n",
       "      <th>4</th>\n",
       "      <td>0012c608-33d0-4ef7-bde3-75a0b1a0024e</td>\n",
       "      <td>2020-04-15T01:03:59.029326+00:00</td>\n",
       "      <td>0.0482</td>\n",
       "      <td>0.000000</td>\n",
       "      <td>-16.5</td>\n",
       "      <td>-71.5</td>\n",
       "      <td>NaN</td>\n",
       "      <td>NaN</td>\n",
       "      <td>NaN</td>\n",
       "      <td>NaN</td>\n",
       "      <td>...</td>\n",
       "      <td>NaN</td>\n",
       "      <td>NaN</td>\n",
       "      <td>NaN</td>\n",
       "      <td>NaN</td>\n",
       "      <td>NaN</td>\n",
       "      <td>NaN</td>\n",
       "      <td>NaN</td>\n",
       "      <td>NaN</td>\n",
       "      <td>NaN</td>\n",
       "      <td>NaN</td>\n",
       "    </tr>\n",
       "  </tbody>\n",
       "</table>\n",
       "<p>5 rows × 51 columns</p>\n",
       "</div>"
      ],
      "text/plain": [
       "                                   uuid                          datetime  \\\n",
       "0  00014dcc-0f06-4c27-8c7b-737b18a2cf4c  2020-11-25T18:58:50.488301+00:00   \n",
       "1  00039425-7f3a-42aa-ac13-834aaa2b6b92  2020-04-13T21:30:59.801831+00:00   \n",
       "2  0007c6f1-5441-40e6-9aaf-a761d8f2da3b  2020-10-18T15:38:38.205870+00:00   \n",
       "3  0009eb28-d8be-4dc1-92bb-907e53bc5c7a  2020-04-12T04:02:18.159383+00:00   \n",
       "4  0012c608-33d0-4ef7-bde3-75a0b1a0024e  2020-04-15T01:03:59.029326+00:00   \n",
       "\n",
       "   cough_detected        SNR  latitude  longitude   age  gender  \\\n",
       "0          0.0155   7.326171      48.9        2.4   NaN     NaN   \n",
       "1          0.9609  16.151433      31.3       34.8  15.0    male   \n",
       "2          0.1643  16.217201       NaN        NaN  46.0  female   \n",
       "3          0.9301  20.146058      40.0      -75.1  34.0    male   \n",
       "4          0.0482   0.000000     -16.5      -71.5   NaN     NaN   \n",
       "\n",
       "  respiratory_condition fever_muscle_pain  ... quality_4 cough_type_4  \\\n",
       "0                   NaN               NaN  ...       NaN          NaN   \n",
       "1                 False             False  ...       NaN          NaN   \n",
       "2                 False             False  ...       NaN          NaN   \n",
       "3                  True             False  ...       NaN          NaN   \n",
       "4                   NaN               NaN  ...       NaN          NaN   \n",
       "\n",
       "  dyspnea_4 wheezing_4 stridor_4 choking_4 congestion_4 nothing_4 diagnosis_4  \\\n",
       "0       NaN        NaN       NaN       NaN          NaN       NaN         NaN   \n",
       "1       NaN        NaN       NaN       NaN          NaN       NaN         NaN   \n",
       "2       NaN        NaN       NaN       NaN          NaN       NaN         NaN   \n",
       "3       NaN        NaN       NaN       NaN          NaN       NaN         NaN   \n",
       "4       NaN        NaN       NaN       NaN          NaN       NaN         NaN   \n",
       "\n",
       "  severity_4  \n",
       "0        NaN  \n",
       "1        NaN  \n",
       "2        NaN  \n",
       "3        NaN  \n",
       "4        NaN  \n",
       "\n",
       "[5 rows x 51 columns]"
      ]
     },
     "execution_count": 4,
     "metadata": {},
     "output_type": "execute_result"
    }
   ],
   "source": [
    "metadf = pd.read_csv(metadata_file_path)\n",
    "metadf.head()"
   ]
  },
  {
   "cell_type": "code",
   "execution_count": 5,
   "metadata": {},
   "outputs": [
    {
     "name": "stdout",
     "output_type": "stream",
     "text": [
      "Index(['uuid', 'datetime', 'cough_detected', 'SNR', 'latitude', 'longitude',\n",
      "       'age', 'gender', 'respiratory_condition', 'fever_muscle_pain', 'status',\n",
      "       'quality_1', 'cough_type_1', 'dyspnea_1', 'wheezing_1', 'stridor_1',\n",
      "       'choking_1', 'congestion_1', 'nothing_1', 'diagnosis_1', 'severity_1',\n",
      "       'quality_2', 'cough_type_2', 'dyspnea_2', 'wheezing_2', 'stridor_2',\n",
      "       'choking_2', 'congestion_2', 'nothing_2', 'diagnosis_2', 'severity_2',\n",
      "       'quality_3', 'cough_type_3', 'dyspnea_3', 'wheezing_3', 'stridor_3',\n",
      "       'choking_3', 'congestion_3', 'nothing_3', 'diagnosis_3', 'severity_3',\n",
      "       'quality_4', 'cough_type_4', 'dyspnea_4', 'wheezing_4', 'stridor_4',\n",
      "       'choking_4', 'congestion_4', 'nothing_4', 'diagnosis_4', 'severity_4'],\n",
      "      dtype='object')\n"
     ]
    }
   ],
   "source": [
    "print(metadf.columns)"
   ]
  },
  {
   "cell_type": "code",
   "execution_count": 6,
   "metadata": {},
   "outputs": [
    {
     "data": {
      "text/plain": [
       "healthy        12479\n",
       "symptomatic     2590\n",
       "COVID-19        1155\n",
       "Name: status, dtype: int64"
      ]
     },
     "execution_count": 6,
     "metadata": {},
     "output_type": "execute_result"
    }
   ],
   "source": [
    "metadf['status'].value_counts()"
   ]
  },
  {
   "cell_type": "code",
   "execution_count": 310,
   "metadata": {},
   "outputs": [
    {
     "data": {
      "text/plain": [
       "False    13403\n",
       "True      2821\n",
       "Name: respiratory_condition, dtype: int64"
      ]
     },
     "execution_count": 310,
     "metadata": {},
     "output_type": "execute_result"
    }
   ],
   "source": [
    "#metadf['respiratory_condition'].value_counts()"
   ]
  },
  {
   "cell_type": "code",
   "execution_count": 311,
   "metadata": {},
   "outputs": [
    {
     "data": {
      "text/plain": [
       "False    14296\n",
       "True      1928\n",
       "Name: fever_muscle_pain, dtype: int64"
      ]
     },
     "execution_count": 311,
     "metadata": {},
     "output_type": "execute_result"
    }
   ],
   "source": [
    "#metadf['fever_muscle_pain'].value_counts()"
   ]
  },
  {
   "cell_type": "code",
   "execution_count": 312,
   "metadata": {},
   "outputs": [
    {
     "data": {
      "text/plain": [
       "1.0000    2816\n",
       "0.0000     106\n",
       "0.9956      55\n",
       "0.9958      52\n",
       "0.9955      51\n",
       "          ... \n",
       "0.1348       1\n",
       "0.0027       1\n",
       "0.1947       1\n",
       "0.4124       1\n",
       "0.5257       1\n",
       "Name: cough_detected, Length: 7212, dtype: int64"
      ]
     },
     "execution_count": 312,
     "metadata": {},
     "output_type": "execute_result"
    }
   ],
   "source": [
    "#metadf['cough_detected'].value_counts()"
   ]
  },
  {
   "cell_type": "code",
   "execution_count": 7,
   "metadata": {},
   "outputs": [],
   "source": [
    "metadf2 = metadf[((metadf['cough_detected'] > 0.99) & (metadf['status'] == 'healthy')) |\n",
    "                 ((metadf['cough_detected'] > 0) & (metadf['status'] == 'COVID-19')) |\n",
    "                 ((metadf['cough_detected'] > 0) & (metadf['status'] == 'symptomatic'))]"
   ]
  },
  {
   "cell_type": "code",
   "execution_count": 369,
   "metadata": {},
   "outputs": [],
   "source": [
    "# This would create a bit more balanced dataset\n",
    "'''\n",
    "metadf2 = metadf[((metadf['cough_detected'] > 0.996) & (metadf['status'] == 'healthy')) |\n",
    "                 ((metadf['cough_detected'] > 0.5) & (metadf['status'] == 'COVID-19')) |\n",
    "                 ((metadf['cough_detected'] > 0.98) & (metadf['status'] == 'symptomatic'))]\n",
    "'''"
   ]
  },
  {
   "cell_type": "code",
   "execution_count": 8,
   "metadata": {},
   "outputs": [
    {
     "data": {
      "text/plain": [
       "healthy        2761\n",
       "symptomatic    2575\n",
       "COVID-19       1133\n",
       "Name: status, dtype: int64"
      ]
     },
     "execution_count": 8,
     "metadata": {},
     "output_type": "execute_result"
    }
   ],
   "source": [
    "metadf2['status'].value_counts()"
   ]
  },
  {
   "cell_type": "code",
   "execution_count": 389,
   "metadata": {},
   "outputs": [
    {
     "data": {
      "text/plain": [
       "1.0000    2500\n",
       "0.9958      42\n",
       "0.9955      42\n",
       "0.9936      39\n",
       "0.9956      38\n",
       "          ... \n",
       "0.8955       1\n",
       "0.0260       1\n",
       "0.5336       1\n",
       "0.3786       1\n",
       "0.5257       1\n",
       "Name: cough_detected, Length: 1581, dtype: int64"
      ]
     },
     "execution_count": 389,
     "metadata": {},
     "output_type": "execute_result"
    }
   ],
   "source": [
    "#metadf2['cough_detected'].value_counts()"
   ]
  },
  {
   "cell_type": "code",
   "execution_count": 316,
   "metadata": {},
   "outputs": [
    {
     "data": {
      "text/plain": [
       "False    2878\n",
       "True      982\n",
       "Name: respiratory_condition, dtype: int64"
      ]
     },
     "execution_count": 316,
     "metadata": {},
     "output_type": "execute_result"
    }
   ],
   "source": [
    "#metadf2['respiratory_condition'].value_counts()"
   ]
  },
  {
   "cell_type": "code",
   "execution_count": 317,
   "metadata": {},
   "outputs": [
    {
     "data": {
      "text/plain": [
       "False    3095\n",
       "True      765\n",
       "Name: fever_muscle_pain, dtype: int64"
      ]
     },
     "execution_count": 317,
     "metadata": {},
     "output_type": "execute_result"
    }
   ],
   "source": [
    "#metadf2['fever_muscle_pain'].value_counts()"
   ]
  },
  {
   "cell_type": "code",
   "execution_count": 319,
   "metadata": {},
   "outputs": [
    {
     "data": {
      "text/plain": [
       "ok      521\n",
       "poor    137\n",
       "good     31\n",
       "Name: quality_1, dtype: int64"
      ]
     },
     "execution_count": 319,
     "metadata": {},
     "output_type": "execute_result"
    }
   ],
   "source": [
    "#metadf2['quality_1'].value_counts()"
   ]
  },
  {
   "cell_type": "code",
   "execution_count": 320,
   "metadata": {},
   "outputs": [
    {
     "data": {
      "text/plain": [
       "dry        368\n",
       "unknown    263\n",
       "wet         58\n",
       "Name: cough_type_1, dtype: int64"
      ]
     },
     "execution_count": 320,
     "metadata": {},
     "output_type": "execute_result"
    }
   ],
   "source": [
    "#metadf2['cough_type_1'].value_counts()"
   ]
  },
  {
   "cell_type": "code",
   "execution_count": 321,
   "metadata": {},
   "outputs": [
    {
     "data": {
      "text/plain": [
       "False    685\n",
       "True       4\n",
       "Name: dyspnea_1, dtype: int64"
      ]
     },
     "execution_count": 321,
     "metadata": {},
     "output_type": "execute_result"
    }
   ],
   "source": [
    "#metadf2['dyspnea_1'].value_counts()"
   ]
  },
  {
   "cell_type": "code",
   "execution_count": 322,
   "metadata": {},
   "outputs": [
    {
     "data": {
      "text/plain": [
       "False    640\n",
       "True      49\n",
       "Name: wheezing_1, dtype: int64"
      ]
     },
     "execution_count": 322,
     "metadata": {},
     "output_type": "execute_result"
    }
   ],
   "source": [
    "#metadf2['wheezing_1'].value_counts()"
   ]
  },
  {
   "cell_type": "code",
   "execution_count": 323,
   "metadata": {},
   "outputs": [
    {
     "data": {
      "text/plain": [
       "False    689\n",
       "Name: stridor_1, dtype: int64"
      ]
     },
     "execution_count": 323,
     "metadata": {},
     "output_type": "execute_result"
    }
   ],
   "source": [
    "#metadf2['stridor_1'].value_counts()"
   ]
  },
  {
   "cell_type": "code",
   "execution_count": 324,
   "metadata": {},
   "outputs": [
    {
     "data": {
      "text/plain": [
       "False    688\n",
       "True       1\n",
       "Name: choking_1, dtype: int64"
      ]
     },
     "execution_count": 324,
     "metadata": {},
     "output_type": "execute_result"
    }
   ],
   "source": [
    "#metadf2['choking_1'].value_counts()"
   ]
  },
  {
   "cell_type": "code",
   "execution_count": 325,
   "metadata": {},
   "outputs": [
    {
     "data": {
      "text/plain": [
       "False    675\n",
       "True      14\n",
       "Name: congestion_1, dtype: int64"
      ]
     },
     "execution_count": 325,
     "metadata": {},
     "output_type": "execute_result"
    }
   ],
   "source": [
    "#metadf2['congestion_1'].value_counts()"
   ]
  },
  {
   "cell_type": "code",
   "execution_count": 326,
   "metadata": {},
   "outputs": [
    {
     "data": {
      "text/plain": [
       "True     625\n",
       "False     64\n",
       "Name: nothing_1, dtype: int64"
      ]
     },
     "execution_count": 326,
     "metadata": {},
     "output_type": "execute_result"
    }
   ],
   "source": [
    "#metadf2['nothing_1'].value_counts()"
   ]
  },
  {
   "cell_type": "code",
   "execution_count": 327,
   "metadata": {},
   "outputs": [
    {
     "data": {
      "text/plain": [
       "COVID-19               244\n",
       "healthy_cough          207\n",
       "lower_infection        204\n",
       "upper_infection         20\n",
       "obstructive_disease     14\n",
       "Name: diagnosis_1, dtype: int64"
      ]
     },
     "execution_count": 327,
     "metadata": {},
     "output_type": "execute_result"
    }
   ],
   "source": [
    "#metadf2['diagnosis_1'].value_counts()"
   ]
  },
  {
   "cell_type": "code",
   "execution_count": 328,
   "metadata": {},
   "outputs": [
    {
     "data": {
      "text/plain": [
       "mild           447\n",
       "pseudocough    199\n",
       "severe          31\n",
       "unknown         12\n",
       "Name: severity_1, dtype: int64"
      ]
     },
     "execution_count": 328,
     "metadata": {},
     "output_type": "execute_result"
    }
   ],
   "source": [
    "#metadf2['severity_1'].value_counts()"
   ]
  },
  {
   "cell_type": "code",
   "execution_count": 9,
   "metadata": {},
   "outputs": [],
   "source": [
    "newdf = metadf2"
   ]
  },
  {
   "cell_type": "code",
   "execution_count": 272,
   "metadata": {},
   "outputs": [],
   "source": [
    "'''\n",
    "newdf = metadf[(((metadf['cough_detected'] > 0.5) & (metadf['status'] == 'healthy')) \n",
    "                & (((metadf['quality_1'] == 'good') | (metadf['quality_1'] == 'ok')) |\n",
    "                 ((metadf['quality_2'] == 'good') | (metadf['quality_2'] == 'ok')) |\n",
    "                 ((metadf['quality_3'] == 'good') | (metadf['quality_3'] == 'ok')) |\n",
    "                 ((metadf['quality_4'] == 'good') | (metadf['quality_4'] == 'ok')))) \n",
    "                 |\n",
    "                 (((metadf['cough_detected'] > 0.5) & (metadf['status'] == 'symptomatic')) \n",
    "                & (((metadf['quality_1'] == 'good') | (metadf['quality_1'] == 'ok')) |\n",
    "                 ((metadf['quality_2'] == 'good') | (metadf['quality_2'] == 'ok')) |\n",
    "                 ((metadf['quality_3'] == 'good') | (metadf['quality_3'] == 'ok')) |\n",
    "                 ((metadf['quality_4'] == 'good') | (metadf['quality_4'] == 'ok'))))\n",
    "                 |\n",
    "                 ((metadf['cough_detected'] > 0) & (metadf['status'] == 'COVID-19'))]\n",
    "'''"
   ]
  },
  {
   "cell_type": "code",
   "execution_count": 10,
   "metadata": {},
   "outputs": [
    {
     "data": {
      "text/html": [
       "<div>\n",
       "<style scoped>\n",
       "    .dataframe tbody tr th:only-of-type {\n",
       "        vertical-align: middle;\n",
       "    }\n",
       "\n",
       "    .dataframe tbody tr th {\n",
       "        vertical-align: top;\n",
       "    }\n",
       "\n",
       "    .dataframe thead th {\n",
       "        text-align: right;\n",
       "    }\n",
       "</style>\n",
       "<table border=\"1\" class=\"dataframe\">\n",
       "  <thead>\n",
       "    <tr style=\"text-align: right;\">\n",
       "      <th></th>\n",
       "      <th>uuid</th>\n",
       "      <th>datetime</th>\n",
       "      <th>cough_detected</th>\n",
       "      <th>SNR</th>\n",
       "      <th>latitude</th>\n",
       "      <th>longitude</th>\n",
       "      <th>age</th>\n",
       "      <th>gender</th>\n",
       "      <th>respiratory_condition</th>\n",
       "      <th>fever_muscle_pain</th>\n",
       "      <th>...</th>\n",
       "      <th>quality_4</th>\n",
       "      <th>cough_type_4</th>\n",
       "      <th>dyspnea_4</th>\n",
       "      <th>wheezing_4</th>\n",
       "      <th>stridor_4</th>\n",
       "      <th>choking_4</th>\n",
       "      <th>congestion_4</th>\n",
       "      <th>nothing_4</th>\n",
       "      <th>diagnosis_4</th>\n",
       "      <th>severity_4</th>\n",
       "    </tr>\n",
       "  </thead>\n",
       "  <tbody>\n",
       "    <tr>\n",
       "      <th>5</th>\n",
       "      <td>001328dc-ea5d-4847-9ccf-c5aa2a3f2d0f</td>\n",
       "      <td>2020-04-13T22:23:06.997578+00:00</td>\n",
       "      <td>0.9968</td>\n",
       "      <td>13.146502</td>\n",
       "      <td>NaN</td>\n",
       "      <td>NaN</td>\n",
       "      <td>21.0</td>\n",
       "      <td>male</td>\n",
       "      <td>False</td>\n",
       "      <td>False</td>\n",
       "      <td>...</td>\n",
       "      <td>NaN</td>\n",
       "      <td>NaN</td>\n",
       "      <td>NaN</td>\n",
       "      <td>NaN</td>\n",
       "      <td>NaN</td>\n",
       "      <td>NaN</td>\n",
       "      <td>NaN</td>\n",
       "      <td>NaN</td>\n",
       "      <td>NaN</td>\n",
       "      <td>NaN</td>\n",
       "    </tr>\n",
       "    <tr>\n",
       "      <th>7</th>\n",
       "      <td>001d8e33-a4af-4edb-98ba-b03f891d9a6c</td>\n",
       "      <td>2020-05-13T01:27:42.552773+00:00</td>\n",
       "      <td>0.0306</td>\n",
       "      <td>12.713480</td>\n",
       "      <td>13.8</td>\n",
       "      <td>-89.6</td>\n",
       "      <td>NaN</td>\n",
       "      <td>female</td>\n",
       "      <td>False</td>\n",
       "      <td>True</td>\n",
       "      <td>...</td>\n",
       "      <td>NaN</td>\n",
       "      <td>NaN</td>\n",
       "      <td>NaN</td>\n",
       "      <td>NaN</td>\n",
       "      <td>NaN</td>\n",
       "      <td>NaN</td>\n",
       "      <td>NaN</td>\n",
       "      <td>NaN</td>\n",
       "      <td>NaN</td>\n",
       "      <td>NaN</td>\n",
       "    </tr>\n",
       "    <tr>\n",
       "      <th>12</th>\n",
       "      <td>0029d048-898a-4c70-89c7-0815cdcf7391</td>\n",
       "      <td>2020-07-16T03:01:55.059762+00:00</td>\n",
       "      <td>1.0000</td>\n",
       "      <td>9.624196</td>\n",
       "      <td>NaN</td>\n",
       "      <td>NaN</td>\n",
       "      <td>35.0</td>\n",
       "      <td>male</td>\n",
       "      <td>True</td>\n",
       "      <td>False</td>\n",
       "      <td>...</td>\n",
       "      <td>good</td>\n",
       "      <td>dry</td>\n",
       "      <td>False</td>\n",
       "      <td>False</td>\n",
       "      <td>False</td>\n",
       "      <td>False</td>\n",
       "      <td>False</td>\n",
       "      <td>True</td>\n",
       "      <td>upper_infection</td>\n",
       "      <td>mild</td>\n",
       "    </tr>\n",
       "    <tr>\n",
       "      <th>13</th>\n",
       "      <td>002d28bc-7806-4dfb-9c9b-afa8cb623cac</td>\n",
       "      <td>2020-04-16T22:10:24.107938+00:00</td>\n",
       "      <td>0.9959</td>\n",
       "      <td>35.641847</td>\n",
       "      <td>NaN</td>\n",
       "      <td>NaN</td>\n",
       "      <td>46.0</td>\n",
       "      <td>female</td>\n",
       "      <td>False</td>\n",
       "      <td>False</td>\n",
       "      <td>...</td>\n",
       "      <td>NaN</td>\n",
       "      <td>NaN</td>\n",
       "      <td>NaN</td>\n",
       "      <td>NaN</td>\n",
       "      <td>NaN</td>\n",
       "      <td>NaN</td>\n",
       "      <td>NaN</td>\n",
       "      <td>NaN</td>\n",
       "      <td>NaN</td>\n",
       "      <td>NaN</td>\n",
       "    </tr>\n",
       "    <tr>\n",
       "      <th>17</th>\n",
       "      <td>00357712-dd5a-4c0a-90a4-39f1f4b9d5fd</td>\n",
       "      <td>2020-04-10T12:48:17.554497+00:00</td>\n",
       "      <td>0.0576</td>\n",
       "      <td>0.000000</td>\n",
       "      <td>46.8</td>\n",
       "      <td>6.6</td>\n",
       "      <td>NaN</td>\n",
       "      <td>male</td>\n",
       "      <td>True</td>\n",
       "      <td>False</td>\n",
       "      <td>...</td>\n",
       "      <td>NaN</td>\n",
       "      <td>NaN</td>\n",
       "      <td>NaN</td>\n",
       "      <td>NaN</td>\n",
       "      <td>NaN</td>\n",
       "      <td>NaN</td>\n",
       "      <td>NaN</td>\n",
       "      <td>NaN</td>\n",
       "      <td>NaN</td>\n",
       "      <td>NaN</td>\n",
       "    </tr>\n",
       "    <tr>\n",
       "      <th>...</th>\n",
       "      <td>...</td>\n",
       "      <td>...</td>\n",
       "      <td>...</td>\n",
       "      <td>...</td>\n",
       "      <td>...</td>\n",
       "      <td>...</td>\n",
       "      <td>...</td>\n",
       "      <td>...</td>\n",
       "      <td>...</td>\n",
       "      <td>...</td>\n",
       "      <td>...</td>\n",
       "      <td>...</td>\n",
       "      <td>...</td>\n",
       "      <td>...</td>\n",
       "      <td>...</td>\n",
       "      <td>...</td>\n",
       "      <td>...</td>\n",
       "      <td>...</td>\n",
       "      <td>...</td>\n",
       "      <td>...</td>\n",
       "      <td>...</td>\n",
       "    </tr>\n",
       "    <tr>\n",
       "      <th>27534</th>\n",
       "      <td>ffd18a56-096d-40fc-9862-e5c5a8ca1fcd</td>\n",
       "      <td>2020-04-14T05:56:02.587585+00:00</td>\n",
       "      <td>1.0000</td>\n",
       "      <td>12.290065</td>\n",
       "      <td>46.5</td>\n",
       "      <td>6.6</td>\n",
       "      <td>25.0</td>\n",
       "      <td>female</td>\n",
       "      <td>False</td>\n",
       "      <td>False</td>\n",
       "      <td>...</td>\n",
       "      <td>ok</td>\n",
       "      <td>dry</td>\n",
       "      <td>False</td>\n",
       "      <td>False</td>\n",
       "      <td>False</td>\n",
       "      <td>False</td>\n",
       "      <td>False</td>\n",
       "      <td>True</td>\n",
       "      <td>COVID-19</td>\n",
       "      <td>mild</td>\n",
       "    </tr>\n",
       "    <tr>\n",
       "      <th>27539</th>\n",
       "      <td>ffe0658f-bade-4654-ad79-40a468aabb03</td>\n",
       "      <td>2020-04-14T01:58:32.200245+00:00</td>\n",
       "      <td>1.0000</td>\n",
       "      <td>21.960583</td>\n",
       "      <td>41.6</td>\n",
       "      <td>60.9</td>\n",
       "      <td>22.0</td>\n",
       "      <td>male</td>\n",
       "      <td>True</td>\n",
       "      <td>True</td>\n",
       "      <td>...</td>\n",
       "      <td>poor</td>\n",
       "      <td>unknown</td>\n",
       "      <td>False</td>\n",
       "      <td>False</td>\n",
       "      <td>False</td>\n",
       "      <td>False</td>\n",
       "      <td>False</td>\n",
       "      <td>False</td>\n",
       "      <td>NaN</td>\n",
       "      <td>unknown</td>\n",
       "    </tr>\n",
       "    <tr>\n",
       "      <th>27540</th>\n",
       "      <td>ffe13fcf-c5c2-4a6a-a9fc-e010f4f033c1</td>\n",
       "      <td>2020-04-13T21:08:50.708320+00:00</td>\n",
       "      <td>0.9485</td>\n",
       "      <td>9.966762</td>\n",
       "      <td>41.1</td>\n",
       "      <td>28.8</td>\n",
       "      <td>31.0</td>\n",
       "      <td>male</td>\n",
       "      <td>False</td>\n",
       "      <td>False</td>\n",
       "      <td>...</td>\n",
       "      <td>NaN</td>\n",
       "      <td>NaN</td>\n",
       "      <td>NaN</td>\n",
       "      <td>NaN</td>\n",
       "      <td>NaN</td>\n",
       "      <td>NaN</td>\n",
       "      <td>NaN</td>\n",
       "      <td>NaN</td>\n",
       "      <td>NaN</td>\n",
       "      <td>NaN</td>\n",
       "    </tr>\n",
       "    <tr>\n",
       "      <th>27542</th>\n",
       "      <td>ffedc843-bfc2-4ad6-a749-2bc86bdac84a</td>\n",
       "      <td>2020-06-05T03:41:37.481463+00:00</td>\n",
       "      <td>1.0000</td>\n",
       "      <td>33.661082</td>\n",
       "      <td>-34.5</td>\n",
       "      <td>-58.5</td>\n",
       "      <td>23.0</td>\n",
       "      <td>male</td>\n",
       "      <td>False</td>\n",
       "      <td>False</td>\n",
       "      <td>...</td>\n",
       "      <td>good</td>\n",
       "      <td>dry</td>\n",
       "      <td>False</td>\n",
       "      <td>False</td>\n",
       "      <td>False</td>\n",
       "      <td>False</td>\n",
       "      <td>False</td>\n",
       "      <td>True</td>\n",
       "      <td>healthy_cough</td>\n",
       "      <td>pseudocough</td>\n",
       "    </tr>\n",
       "    <tr>\n",
       "      <th>27546</th>\n",
       "      <td>fff3ff61-2387-4139-938b-539db01e6be5</td>\n",
       "      <td>2020-06-28T21:28:21.530881+00:00</td>\n",
       "      <td>0.5257</td>\n",
       "      <td>43.932829</td>\n",
       "      <td>51.6</td>\n",
       "      <td>-0.2</td>\n",
       "      <td>NaN</td>\n",
       "      <td>female</td>\n",
       "      <td>False</td>\n",
       "      <td>False</td>\n",
       "      <td>...</td>\n",
       "      <td>NaN</td>\n",
       "      <td>NaN</td>\n",
       "      <td>NaN</td>\n",
       "      <td>NaN</td>\n",
       "      <td>NaN</td>\n",
       "      <td>NaN</td>\n",
       "      <td>NaN</td>\n",
       "      <td>NaN</td>\n",
       "      <td>NaN</td>\n",
       "      <td>NaN</td>\n",
       "    </tr>\n",
       "  </tbody>\n",
       "</table>\n",
       "<p>6469 rows × 51 columns</p>\n",
       "</div>"
      ],
      "text/plain": [
       "                                       uuid                          datetime  \\\n",
       "5      001328dc-ea5d-4847-9ccf-c5aa2a3f2d0f  2020-04-13T22:23:06.997578+00:00   \n",
       "7      001d8e33-a4af-4edb-98ba-b03f891d9a6c  2020-05-13T01:27:42.552773+00:00   \n",
       "12     0029d048-898a-4c70-89c7-0815cdcf7391  2020-07-16T03:01:55.059762+00:00   \n",
       "13     002d28bc-7806-4dfb-9c9b-afa8cb623cac  2020-04-16T22:10:24.107938+00:00   \n",
       "17     00357712-dd5a-4c0a-90a4-39f1f4b9d5fd  2020-04-10T12:48:17.554497+00:00   \n",
       "...                                     ...                               ...   \n",
       "27534  ffd18a56-096d-40fc-9862-e5c5a8ca1fcd  2020-04-14T05:56:02.587585+00:00   \n",
       "27539  ffe0658f-bade-4654-ad79-40a468aabb03  2020-04-14T01:58:32.200245+00:00   \n",
       "27540  ffe13fcf-c5c2-4a6a-a9fc-e010f4f033c1  2020-04-13T21:08:50.708320+00:00   \n",
       "27542  ffedc843-bfc2-4ad6-a749-2bc86bdac84a  2020-06-05T03:41:37.481463+00:00   \n",
       "27546  fff3ff61-2387-4139-938b-539db01e6be5  2020-06-28T21:28:21.530881+00:00   \n",
       "\n",
       "       cough_detected        SNR  latitude  longitude   age  gender  \\\n",
       "5              0.9968  13.146502       NaN        NaN  21.0    male   \n",
       "7              0.0306  12.713480      13.8      -89.6   NaN  female   \n",
       "12             1.0000   9.624196       NaN        NaN  35.0    male   \n",
       "13             0.9959  35.641847       NaN        NaN  46.0  female   \n",
       "17             0.0576   0.000000      46.8        6.6   NaN    male   \n",
       "...               ...        ...       ...        ...   ...     ...   \n",
       "27534          1.0000  12.290065      46.5        6.6  25.0  female   \n",
       "27539          1.0000  21.960583      41.6       60.9  22.0    male   \n",
       "27540          0.9485   9.966762      41.1       28.8  31.0    male   \n",
       "27542          1.0000  33.661082     -34.5      -58.5  23.0    male   \n",
       "27546          0.5257  43.932829      51.6       -0.2   NaN  female   \n",
       "\n",
       "      respiratory_condition fever_muscle_pain  ... quality_4 cough_type_4  \\\n",
       "5                     False             False  ...       NaN          NaN   \n",
       "7                     False              True  ...       NaN          NaN   \n",
       "12                     True             False  ...      good          dry   \n",
       "13                    False             False  ...       NaN          NaN   \n",
       "17                     True             False  ...       NaN          NaN   \n",
       "...                     ...               ...  ...       ...          ...   \n",
       "27534                 False             False  ...        ok          dry   \n",
       "27539                  True              True  ...      poor      unknown   \n",
       "27540                 False             False  ...       NaN          NaN   \n",
       "27542                 False             False  ...      good          dry   \n",
       "27546                 False             False  ...       NaN          NaN   \n",
       "\n",
       "      dyspnea_4 wheezing_4 stridor_4 choking_4 congestion_4 nothing_4  \\\n",
       "5           NaN        NaN       NaN       NaN          NaN       NaN   \n",
       "7           NaN        NaN       NaN       NaN          NaN       NaN   \n",
       "12        False      False     False     False        False      True   \n",
       "13          NaN        NaN       NaN       NaN          NaN       NaN   \n",
       "17          NaN        NaN       NaN       NaN          NaN       NaN   \n",
       "...         ...        ...       ...       ...          ...       ...   \n",
       "27534     False      False     False     False        False      True   \n",
       "27539     False      False     False     False        False     False   \n",
       "27540       NaN        NaN       NaN       NaN          NaN       NaN   \n",
       "27542     False      False     False     False        False      True   \n",
       "27546       NaN        NaN       NaN       NaN          NaN       NaN   \n",
       "\n",
       "           diagnosis_4   severity_4  \n",
       "5                  NaN          NaN  \n",
       "7                  NaN          NaN  \n",
       "12     upper_infection         mild  \n",
       "13                 NaN          NaN  \n",
       "17                 NaN          NaN  \n",
       "...                ...          ...  \n",
       "27534         COVID-19         mild  \n",
       "27539              NaN      unknown  \n",
       "27540              NaN          NaN  \n",
       "27542    healthy_cough  pseudocough  \n",
       "27546              NaN          NaN  \n",
       "\n",
       "[6469 rows x 51 columns]"
      ]
     },
     "execution_count": 10,
     "metadata": {},
     "output_type": "execute_result"
    }
   ],
   "source": [
    "newdf"
   ]
  },
  {
   "cell_type": "code",
   "execution_count": 11,
   "metadata": {},
   "outputs": [
    {
     "data": {
      "text/plain": [
       "healthy        2761\n",
       "symptomatic    2575\n",
       "COVID-19       1133\n",
       "Name: status, dtype: int64"
      ]
     },
     "execution_count": 11,
     "metadata": {},
     "output_type": "execute_result"
    }
   ],
   "source": [
    "# This indicates we have a somewhat balanced dataset\n",
    "newdf['status'].value_counts()"
   ]
  },
  {
   "cell_type": "code",
   "execution_count": 12,
   "metadata": {},
   "outputs": [],
   "source": [
    "newdf = newdf.fillna(\"\")"
   ]
  },
  {
   "cell_type": "code",
   "execution_count": 13,
   "metadata": {},
   "outputs": [],
   "source": [
    "newdf.drop(newdf.loc[newdf['status']==\"unknown\"].index, inplace=True)\n",
    "newdf.drop(newdf.loc[newdf['status']==\"\"].index, inplace=True)\n",
    "newdf.drop(newdf.loc[newdf['status']==\"symptomatic\"].index, inplace=True)"
   ]
  },
  {
   "cell_type": "code",
   "execution_count": 14,
   "metadata": {},
   "outputs": [
    {
     "data": {
      "text/html": [
       "<div>\n",
       "<style scoped>\n",
       "    .dataframe tbody tr th:only-of-type {\n",
       "        vertical-align: middle;\n",
       "    }\n",
       "\n",
       "    .dataframe tbody tr th {\n",
       "        vertical-align: top;\n",
       "    }\n",
       "\n",
       "    .dataframe thead th {\n",
       "        text-align: right;\n",
       "    }\n",
       "</style>\n",
       "<table border=\"1\" class=\"dataframe\">\n",
       "  <thead>\n",
       "    <tr style=\"text-align: right;\">\n",
       "      <th></th>\n",
       "      <th>uuid</th>\n",
       "      <th>datetime</th>\n",
       "      <th>cough_detected</th>\n",
       "      <th>SNR</th>\n",
       "      <th>latitude</th>\n",
       "      <th>longitude</th>\n",
       "      <th>age</th>\n",
       "      <th>gender</th>\n",
       "      <th>respiratory_condition</th>\n",
       "      <th>fever_muscle_pain</th>\n",
       "      <th>...</th>\n",
       "      <th>quality_4</th>\n",
       "      <th>cough_type_4</th>\n",
       "      <th>dyspnea_4</th>\n",
       "      <th>wheezing_4</th>\n",
       "      <th>stridor_4</th>\n",
       "      <th>choking_4</th>\n",
       "      <th>congestion_4</th>\n",
       "      <th>nothing_4</th>\n",
       "      <th>diagnosis_4</th>\n",
       "      <th>severity_4</th>\n",
       "    </tr>\n",
       "  </thead>\n",
       "  <tbody>\n",
       "    <tr>\n",
       "      <th>5</th>\n",
       "      <td>001328dc-ea5d-4847-9ccf-c5aa2a3f2d0f</td>\n",
       "      <td>2020-04-13T22:23:06.997578+00:00</td>\n",
       "      <td>0.9968</td>\n",
       "      <td>13.146502</td>\n",
       "      <td></td>\n",
       "      <td></td>\n",
       "      <td>21.0</td>\n",
       "      <td>male</td>\n",
       "      <td>False</td>\n",
       "      <td>False</td>\n",
       "      <td>...</td>\n",
       "      <td></td>\n",
       "      <td></td>\n",
       "      <td></td>\n",
       "      <td></td>\n",
       "      <td></td>\n",
       "      <td></td>\n",
       "      <td></td>\n",
       "      <td></td>\n",
       "      <td></td>\n",
       "      <td></td>\n",
       "    </tr>\n",
       "    <tr>\n",
       "      <th>7</th>\n",
       "      <td>001d8e33-a4af-4edb-98ba-b03f891d9a6c</td>\n",
       "      <td>2020-05-13T01:27:42.552773+00:00</td>\n",
       "      <td>0.0306</td>\n",
       "      <td>12.713480</td>\n",
       "      <td>13.8</td>\n",
       "      <td>-89.6</td>\n",
       "      <td></td>\n",
       "      <td>female</td>\n",
       "      <td>False</td>\n",
       "      <td>True</td>\n",
       "      <td>...</td>\n",
       "      <td></td>\n",
       "      <td></td>\n",
       "      <td></td>\n",
       "      <td></td>\n",
       "      <td></td>\n",
       "      <td></td>\n",
       "      <td></td>\n",
       "      <td></td>\n",
       "      <td></td>\n",
       "      <td></td>\n",
       "    </tr>\n",
       "    <tr>\n",
       "      <th>13</th>\n",
       "      <td>002d28bc-7806-4dfb-9c9b-afa8cb623cac</td>\n",
       "      <td>2020-04-16T22:10:24.107938+00:00</td>\n",
       "      <td>0.9959</td>\n",
       "      <td>35.641847</td>\n",
       "      <td></td>\n",
       "      <td></td>\n",
       "      <td>46.0</td>\n",
       "      <td>female</td>\n",
       "      <td>False</td>\n",
       "      <td>False</td>\n",
       "      <td>...</td>\n",
       "      <td></td>\n",
       "      <td></td>\n",
       "      <td></td>\n",
       "      <td></td>\n",
       "      <td></td>\n",
       "      <td></td>\n",
       "      <td></td>\n",
       "      <td></td>\n",
       "      <td></td>\n",
       "      <td></td>\n",
       "    </tr>\n",
       "    <tr>\n",
       "      <th>17</th>\n",
       "      <td>00357712-dd5a-4c0a-90a4-39f1f4b9d5fd</td>\n",
       "      <td>2020-04-10T12:48:17.554497+00:00</td>\n",
       "      <td>0.0576</td>\n",
       "      <td>0.000000</td>\n",
       "      <td>46.8</td>\n",
       "      <td>6.6</td>\n",
       "      <td></td>\n",
       "      <td>male</td>\n",
       "      <td>True</td>\n",
       "      <td>False</td>\n",
       "      <td>...</td>\n",
       "      <td></td>\n",
       "      <td></td>\n",
       "      <td></td>\n",
       "      <td></td>\n",
       "      <td></td>\n",
       "      <td></td>\n",
       "      <td></td>\n",
       "      <td></td>\n",
       "      <td></td>\n",
       "      <td></td>\n",
       "    </tr>\n",
       "    <tr>\n",
       "      <th>27</th>\n",
       "      <td>0044cb7b-448c-44e5-8302-ad8bd106fe3e</td>\n",
       "      <td>2020-05-13T18:38:39.956383+00:00</td>\n",
       "      <td>0.9947</td>\n",
       "      <td>10.109472</td>\n",
       "      <td>41.6</td>\n",
       "      <td>-4.8</td>\n",
       "      <td>41.0</td>\n",
       "      <td>female</td>\n",
       "      <td>True</td>\n",
       "      <td>False</td>\n",
       "      <td>...</td>\n",
       "      <td></td>\n",
       "      <td></td>\n",
       "      <td></td>\n",
       "      <td></td>\n",
       "      <td></td>\n",
       "      <td></td>\n",
       "      <td></td>\n",
       "      <td></td>\n",
       "      <td></td>\n",
       "      <td></td>\n",
       "    </tr>\n",
       "    <tr>\n",
       "      <th>...</th>\n",
       "      <td>...</td>\n",
       "      <td>...</td>\n",
       "      <td>...</td>\n",
       "      <td>...</td>\n",
       "      <td>...</td>\n",
       "      <td>...</td>\n",
       "      <td>...</td>\n",
       "      <td>...</td>\n",
       "      <td>...</td>\n",
       "      <td>...</td>\n",
       "      <td>...</td>\n",
       "      <td>...</td>\n",
       "      <td>...</td>\n",
       "      <td>...</td>\n",
       "      <td>...</td>\n",
       "      <td>...</td>\n",
       "      <td>...</td>\n",
       "      <td>...</td>\n",
       "      <td>...</td>\n",
       "      <td>...</td>\n",
       "      <td>...</td>\n",
       "    </tr>\n",
       "    <tr>\n",
       "      <th>27525</th>\n",
       "      <td>ffbc6bfc-bd8f-4d65-97a7-638d69f42205</td>\n",
       "      <td>2020-04-17T18:45:20.041238+00:00</td>\n",
       "      <td>0.9943</td>\n",
       "      <td>8.252409</td>\n",
       "      <td></td>\n",
       "      <td></td>\n",
       "      <td>35.0</td>\n",
       "      <td>male</td>\n",
       "      <td>False</td>\n",
       "      <td>False</td>\n",
       "      <td>...</td>\n",
       "      <td></td>\n",
       "      <td></td>\n",
       "      <td></td>\n",
       "      <td></td>\n",
       "      <td></td>\n",
       "      <td></td>\n",
       "      <td></td>\n",
       "      <td></td>\n",
       "      <td></td>\n",
       "      <td></td>\n",
       "    </tr>\n",
       "    <tr>\n",
       "      <th>27526</th>\n",
       "      <td>ffbca476-8b35-4797-bc8a-b7f0a2f24b55</td>\n",
       "      <td>2020-04-11T18:42:24.065752+00:00</td>\n",
       "      <td>0.7466</td>\n",
       "      <td>13.204350</td>\n",
       "      <td>41.0</td>\n",
       "      <td>28.6</td>\n",
       "      <td></td>\n",
       "      <td>female</td>\n",
       "      <td>False</td>\n",
       "      <td>False</td>\n",
       "      <td>...</td>\n",
       "      <td></td>\n",
       "      <td></td>\n",
       "      <td></td>\n",
       "      <td></td>\n",
       "      <td></td>\n",
       "      <td></td>\n",
       "      <td></td>\n",
       "      <td></td>\n",
       "      <td></td>\n",
       "      <td></td>\n",
       "    </tr>\n",
       "    <tr>\n",
       "      <th>27534</th>\n",
       "      <td>ffd18a56-096d-40fc-9862-e5c5a8ca1fcd</td>\n",
       "      <td>2020-04-14T05:56:02.587585+00:00</td>\n",
       "      <td>1.0000</td>\n",
       "      <td>12.290065</td>\n",
       "      <td>46.5</td>\n",
       "      <td>6.6</td>\n",
       "      <td>25.0</td>\n",
       "      <td>female</td>\n",
       "      <td>False</td>\n",
       "      <td>False</td>\n",
       "      <td>...</td>\n",
       "      <td>ok</td>\n",
       "      <td>dry</td>\n",
       "      <td>False</td>\n",
       "      <td>False</td>\n",
       "      <td>False</td>\n",
       "      <td>False</td>\n",
       "      <td>False</td>\n",
       "      <td>True</td>\n",
       "      <td>COVID-19</td>\n",
       "      <td>mild</td>\n",
       "    </tr>\n",
       "    <tr>\n",
       "      <th>27539</th>\n",
       "      <td>ffe0658f-bade-4654-ad79-40a468aabb03</td>\n",
       "      <td>2020-04-14T01:58:32.200245+00:00</td>\n",
       "      <td>1.0000</td>\n",
       "      <td>21.960583</td>\n",
       "      <td>41.6</td>\n",
       "      <td>60.9</td>\n",
       "      <td>22.0</td>\n",
       "      <td>male</td>\n",
       "      <td>True</td>\n",
       "      <td>True</td>\n",
       "      <td>...</td>\n",
       "      <td>poor</td>\n",
       "      <td>unknown</td>\n",
       "      <td>False</td>\n",
       "      <td>False</td>\n",
       "      <td>False</td>\n",
       "      <td>False</td>\n",
       "      <td>False</td>\n",
       "      <td>False</td>\n",
       "      <td></td>\n",
       "      <td>unknown</td>\n",
       "    </tr>\n",
       "    <tr>\n",
       "      <th>27542</th>\n",
       "      <td>ffedc843-bfc2-4ad6-a749-2bc86bdac84a</td>\n",
       "      <td>2020-06-05T03:41:37.481463+00:00</td>\n",
       "      <td>1.0000</td>\n",
       "      <td>33.661082</td>\n",
       "      <td>-34.5</td>\n",
       "      <td>-58.5</td>\n",
       "      <td>23.0</td>\n",
       "      <td>male</td>\n",
       "      <td>False</td>\n",
       "      <td>False</td>\n",
       "      <td>...</td>\n",
       "      <td>good</td>\n",
       "      <td>dry</td>\n",
       "      <td>False</td>\n",
       "      <td>False</td>\n",
       "      <td>False</td>\n",
       "      <td>False</td>\n",
       "      <td>False</td>\n",
       "      <td>True</td>\n",
       "      <td>healthy_cough</td>\n",
       "      <td>pseudocough</td>\n",
       "    </tr>\n",
       "  </tbody>\n",
       "</table>\n",
       "<p>3894 rows × 51 columns</p>\n",
       "</div>"
      ],
      "text/plain": [
       "                                       uuid                          datetime  \\\n",
       "5      001328dc-ea5d-4847-9ccf-c5aa2a3f2d0f  2020-04-13T22:23:06.997578+00:00   \n",
       "7      001d8e33-a4af-4edb-98ba-b03f891d9a6c  2020-05-13T01:27:42.552773+00:00   \n",
       "13     002d28bc-7806-4dfb-9c9b-afa8cb623cac  2020-04-16T22:10:24.107938+00:00   \n",
       "17     00357712-dd5a-4c0a-90a4-39f1f4b9d5fd  2020-04-10T12:48:17.554497+00:00   \n",
       "27     0044cb7b-448c-44e5-8302-ad8bd106fe3e  2020-05-13T18:38:39.956383+00:00   \n",
       "...                                     ...                               ...   \n",
       "27525  ffbc6bfc-bd8f-4d65-97a7-638d69f42205  2020-04-17T18:45:20.041238+00:00   \n",
       "27526  ffbca476-8b35-4797-bc8a-b7f0a2f24b55  2020-04-11T18:42:24.065752+00:00   \n",
       "27534  ffd18a56-096d-40fc-9862-e5c5a8ca1fcd  2020-04-14T05:56:02.587585+00:00   \n",
       "27539  ffe0658f-bade-4654-ad79-40a468aabb03  2020-04-14T01:58:32.200245+00:00   \n",
       "27542  ffedc843-bfc2-4ad6-a749-2bc86bdac84a  2020-06-05T03:41:37.481463+00:00   \n",
       "\n",
       "       cough_detected        SNR latitude longitude   age  gender  \\\n",
       "5              0.9968  13.146502                     21.0    male   \n",
       "7              0.0306  12.713480     13.8     -89.6        female   \n",
       "13             0.9959  35.641847                     46.0  female   \n",
       "17             0.0576   0.000000     46.8       6.6          male   \n",
       "27             0.9947  10.109472     41.6      -4.8  41.0  female   \n",
       "...               ...        ...      ...       ...   ...     ...   \n",
       "27525          0.9943   8.252409                     35.0    male   \n",
       "27526          0.7466  13.204350     41.0      28.6        female   \n",
       "27534          1.0000  12.290065     46.5       6.6  25.0  female   \n",
       "27539          1.0000  21.960583     41.6      60.9  22.0    male   \n",
       "27542          1.0000  33.661082    -34.5     -58.5  23.0    male   \n",
       "\n",
       "       respiratory_condition  fever_muscle_pain  ... quality_4 cough_type_4  \\\n",
       "5                      False              False  ...                          \n",
       "7                      False               True  ...                          \n",
       "13                     False              False  ...                          \n",
       "17                      True              False  ...                          \n",
       "27                      True              False  ...                          \n",
       "...                      ...                ...  ...       ...          ...   \n",
       "27525                  False              False  ...                          \n",
       "27526                  False              False  ...                          \n",
       "27534                  False              False  ...        ok          dry   \n",
       "27539                   True               True  ...      poor      unknown   \n",
       "27542                  False              False  ...      good          dry   \n",
       "\n",
       "      dyspnea_4 wheezing_4 stridor_4 choking_4 congestion_4 nothing_4  \\\n",
       "5                                                                       \n",
       "7                                                                       \n",
       "13                                                                      \n",
       "17                                                                      \n",
       "27                                                                      \n",
       "...         ...        ...       ...       ...          ...       ...   \n",
       "27525                                                                   \n",
       "27526                                                                   \n",
       "27534     False      False     False     False        False      True   \n",
       "27539     False      False     False     False        False     False   \n",
       "27542     False      False     False     False        False      True   \n",
       "\n",
       "         diagnosis_4   severity_4  \n",
       "5                                  \n",
       "7                                  \n",
       "13                                 \n",
       "17                                 \n",
       "27                                 \n",
       "...              ...          ...  \n",
       "27525                              \n",
       "27526                              \n",
       "27534       COVID-19         mild  \n",
       "27539                     unknown  \n",
       "27542  healthy_cough  pseudocough  \n",
       "\n",
       "[3894 rows x 51 columns]"
      ]
     },
     "execution_count": 14,
     "metadata": {},
     "output_type": "execute_result"
    }
   ],
   "source": [
    "newdf"
   ]
  },
  {
   "cell_type": "code",
   "execution_count": 15,
   "metadata": {},
   "outputs": [],
   "source": [
    "status_label_map = {\"healthy\":0, \"COVID-19\": 1}\n",
    "newdf = newdf.replace({\"status\": status_label_map})"
   ]
  },
  {
   "cell_type": "code",
   "execution_count": 16,
   "metadata": {},
   "outputs": [
    {
     "data": {
      "text/plain": [
       "0    2761\n",
       "1    1133\n",
       "Name: status, dtype: int64"
      ]
     },
     "execution_count": 16,
     "metadata": {},
     "output_type": "execute_result"
    }
   ],
   "source": [
    "newdf.status.value_counts()"
   ]
  },
  {
   "cell_type": "code",
   "execution_count": 17,
   "metadata": {},
   "outputs": [],
   "source": [
    "from sklearn.preprocessing import StandardScaler\n",
    "from sklearn.preprocessing import scale\n",
    "def features_extractor(file_name):\n",
    "    audio, sample_rate = librosa.load(file_name)\n",
    "\n",
    "    mfccs_features = librosa.feature.mfcc(y=audio, sr=sample_rate, n_mfcc=20)\n",
    "    mfccs_scaled_features = np.mean(mfccs_features.T,axis=0)\n",
    "\n",
    "    mel_spectrogram = librosa.feature.melspectrogram(y=audio, sr=sample_rate, n_fft=2048, hop_length=512, n_mels=20)\n",
    "    mel_scaled_features = np.mean(mel_spectrogram.T,axis=0)\n",
    "\n",
    "    #stft = np.abs(librosa.stft(audio))\n",
    "    #chroma = librosa.feature.chroma_stft(S=stft, sr=sample_rate)\n",
    "    #chroma_scaled_features = np.mean(chroma.T,axis=0)\n",
    "\n",
    "\n",
    "    return mfccs_scaled_features, mel_scaled_features #, chroma_scaled_features\n",
    "    "
   ]
  },
  {
   "cell_type": "code",
   "execution_count": 18,
   "metadata": {},
   "outputs": [
    {
     "name": "stderr",
     "output_type": "stream",
     "text": [
      "0it [00:00, ?it/s]"
     ]
    },
    {
     "name": "stderr",
     "output_type": "stream",
     "text": [
      "3894it [04:50, 13.42it/s]\n"
     ]
    }
   ],
   "source": [
    "import numpy as np\n",
    "from tqdm import tqdm\n",
    "# Extract Mel Frequency Cepstral Coefficients and Mel Spectogram\n",
    "extracted_features=[]\n",
    "for index_num,row in tqdm(newdf.iterrows()):\n",
    "    file_name = os.path.join(audio_dataset_path,str(row[\"uuid\"])+\".wav\")\n",
    "    final_class_labels=row[\"status\"]\n",
    "    mfcc, melspec = features_extractor(file_name)\n",
    "    extracted_features.append([mfcc,melspec,final_class_labels])"
   ]
  },
  {
   "cell_type": "code",
   "execution_count": 19,
   "metadata": {},
   "outputs": [
    {
     "data": {
      "text/html": [
       "<div>\n",
       "<style scoped>\n",
       "    .dataframe tbody tr th:only-of-type {\n",
       "        vertical-align: middle;\n",
       "    }\n",
       "\n",
       "    .dataframe tbody tr th {\n",
       "        vertical-align: top;\n",
       "    }\n",
       "\n",
       "    .dataframe thead th {\n",
       "        text-align: right;\n",
       "    }\n",
       "</style>\n",
       "<table border=\"1\" class=\"dataframe\">\n",
       "  <thead>\n",
       "    <tr style=\"text-align: right;\">\n",
       "      <th></th>\n",
       "      <th>feature1</th>\n",
       "      <th>feature2</th>\n",
       "      <th>status</th>\n",
       "    </tr>\n",
       "  </thead>\n",
       "  <tbody>\n",
       "    <tr>\n",
       "      <th>0</th>\n",
       "      <td>[-519.8622, 26.079721, -28.713432, 7.9876924, ...</td>\n",
       "      <td>[0.7552014, 1.6019976, 1.7519484, 0.89610916, ...</td>\n",
       "      <td>0</td>\n",
       "    </tr>\n",
       "    <tr>\n",
       "      <th>1</th>\n",
       "      <td>[-517.534, 125.805275, -59.390606, -13.782511,...</td>\n",
       "      <td>[0.05159273, 0.09458568, 0.079764344, 0.082790...</td>\n",
       "      <td>1</td>\n",
       "    </tr>\n",
       "    <tr>\n",
       "      <th>2</th>\n",
       "      <td>[-507.23135, 19.040976, -16.899456, 5.4804497,...</td>\n",
       "      <td>[1.23425, 1.3887762, 3.1613564, 5.6069775, 0.7...</td>\n",
       "      <td>0</td>\n",
       "    </tr>\n",
       "    <tr>\n",
       "      <th>3</th>\n",
       "      <td>[-957.87195, -0.9061077, -0.47938585, -3.27202...</td>\n",
       "      <td>[1.8812892e-07, 4.6140246e-07, 2.4876701e-06, ...</td>\n",
       "      <td>1</td>\n",
       "    </tr>\n",
       "    <tr>\n",
       "      <th>4</th>\n",
       "      <td>[-530.66626, 18.382118, -13.436043, 13.502346,...</td>\n",
       "      <td>[0.9630484, 0.69150233, 0.6723138, 0.98637956,...</td>\n",
       "      <td>0</td>\n",
       "    </tr>\n",
       "  </tbody>\n",
       "</table>\n",
       "</div>"
      ],
      "text/plain": [
       "                                            feature1  \\\n",
       "0  [-519.8622, 26.079721, -28.713432, 7.9876924, ...   \n",
       "1  [-517.534, 125.805275, -59.390606, -13.782511,...   \n",
       "2  [-507.23135, 19.040976, -16.899456, 5.4804497,...   \n",
       "3  [-957.87195, -0.9061077, -0.47938585, -3.27202...   \n",
       "4  [-530.66626, 18.382118, -13.436043, 13.502346,...   \n",
       "\n",
       "                                            feature2  status  \n",
       "0  [0.7552014, 1.6019976, 1.7519484, 0.89610916, ...       0  \n",
       "1  [0.05159273, 0.09458568, 0.079764344, 0.082790...       1  \n",
       "2  [1.23425, 1.3887762, 3.1613564, 5.6069775, 0.7...       0  \n",
       "3  [1.8812892e-07, 4.6140246e-07, 2.4876701e-06, ...       1  \n",
       "4  [0.9630484, 0.69150233, 0.6723138, 0.98637956,...       0  "
      ]
     },
     "execution_count": 19,
     "metadata": {},
     "output_type": "execute_result"
    }
   ],
   "source": [
    "### converting extracted_features to Pandas dataframe\n",
    "extracted_features_df = pd.DataFrame(extracted_features,columns=['feature1','feature2','status'])\n",
    "extracted_features_df.head()"
   ]
  },
  {
   "cell_type": "code",
   "execution_count": 20,
   "metadata": {},
   "outputs": [
    {
     "data": {
      "text/plain": [
       "(3894, 3)"
      ]
     },
     "execution_count": 20,
     "metadata": {},
     "output_type": "execute_result"
    }
   ],
   "source": [
    "extracted_features_df.shape"
   ]
  },
  {
   "cell_type": "code",
   "execution_count": 18,
   "metadata": {},
   "outputs": [],
   "source": [
    "#extracted_features_df.to_parquet(\"mfcc120_melspec120_coughvid.parquet\", index=False)"
   ]
  },
  {
   "cell_type": "code",
   "execution_count": 21,
   "metadata": {},
   "outputs": [],
   "source": [
    "### Split the dataset into independent and dependent dataset\n",
    "X1 = np.array(extracted_features_df['feature1'].tolist())\n",
    "X2 = np.array(extracted_features_df['feature2'].tolist())\n",
    "#X3 = np.array(extracted_features_df['feature3'].tolist())\n",
    "X = np.concatenate((X1, X2), axis=1)\n",
    "#X = np.concatenate((X, X3), axis=1)\n",
    "y = np.array(extracted_features_df['status'].tolist())"
   ]
  },
  {
   "cell_type": "code",
   "execution_count": 22,
   "metadata": {},
   "outputs": [
    {
     "data": {
      "text/plain": [
       "array([[-5.19862183e+02,  2.60797215e+01, -2.87134323e+01, ...,\n",
       "         6.74860850e-02,  6.51411572e-03,  2.23455629e-07],\n",
       "       [-5.17533997e+02,  1.25805275e+02, -5.93906059e+01, ...,\n",
       "         1.39014261e-07,  2.55018993e-08,  1.24391333e-08],\n",
       "       [-5.07231354e+02,  1.90409756e+01, -1.68994560e+01, ...,\n",
       "         1.84057932e-02,  2.10750964e-03,  6.39381099e-08],\n",
       "       ...,\n",
       "       [-4.52715881e+02,  6.16545258e+01, -7.46882248e+00, ...,\n",
       "         6.09648637e-02,  2.67244852e-03,  1.69884615e-07],\n",
       "       [-3.63734161e+02,  5.07491608e+01, -3.20017853e+01, ...,\n",
       "         1.31206006e-01,  5.18728513e-03,  2.02179422e-06],\n",
       "       [-4.20832428e+02,  2.41599216e+01, -7.46264648e+00, ...,\n",
       "         5.03229257e-03,  4.55800124e-04,  3.49893909e-08]], dtype=float32)"
      ]
     },
     "execution_count": 22,
     "metadata": {},
     "output_type": "execute_result"
    }
   ],
   "source": [
    "X"
   ]
  },
  {
   "cell_type": "code",
   "execution_count": 23,
   "metadata": {},
   "outputs": [
    {
     "data": {
      "text/plain": [
       "(3894, 40)"
      ]
     },
     "execution_count": 23,
     "metadata": {},
     "output_type": "execute_result"
    }
   ],
   "source": [
    "X.shape"
   ]
  },
  {
   "cell_type": "code",
   "execution_count": 24,
   "metadata": {},
   "outputs": [],
   "source": [
    "### Label Encoding\n",
    "y = np.array(pd.get_dummies(y))"
   ]
  },
  {
   "cell_type": "code",
   "execution_count": 25,
   "metadata": {},
   "outputs": [
    {
     "data": {
      "text/plain": [
       "array([[1, 0],\n",
       "       [0, 1],\n",
       "       [1, 0],\n",
       "       ...,\n",
       "       [1, 0],\n",
       "       [0, 1],\n",
       "       [1, 0]], dtype=uint8)"
      ]
     },
     "execution_count": 25,
     "metadata": {},
     "output_type": "execute_result"
    }
   ],
   "source": [
    "y"
   ]
  },
  {
   "cell_type": "code",
   "execution_count": 26,
   "metadata": {},
   "outputs": [
    {
     "data": {
      "text/plain": [
       "(3894, 2)"
      ]
     },
     "execution_count": 26,
     "metadata": {},
     "output_type": "execute_result"
    }
   ],
   "source": [
    "y.shape"
   ]
  },
  {
   "cell_type": "code",
   "execution_count": 27,
   "metadata": {},
   "outputs": [],
   "source": [
    "### Train Test Split\n",
    "from sklearn.model_selection import train_test_split\n",
    "X_train,X_test,y_train,y_test=train_test_split(X,y,test_size=0.3,random_state=0)"
   ]
  },
  {
   "cell_type": "code",
   "execution_count": 28,
   "metadata": {},
   "outputs": [],
   "source": [
    "from sklearn.model_selection import train_test_split\n",
    "X_val,X_test,y_val,y_test=train_test_split(X_test,y_test,test_size=0.5,random_state=0)"
   ]
  },
  {
   "cell_type": "code",
   "execution_count": 29,
   "metadata": {},
   "outputs": [
    {
     "data": {
      "text/plain": [
       "array([[-5.0309824e+02,  3.2177372e+01, -9.5139322e+00, ...,\n",
       "         4.2314533e-02,  9.5569873e-03,  3.6970384e-06],\n",
       "       [-4.3479297e+02,  3.3146671e+01, -1.3733380e+01, ...,\n",
       "         2.6959516e-02,  2.5374566e-03,  2.6322647e-08],\n",
       "       [-4.9038992e+02,  3.5989269e+01, -6.6987963e+00, ...,\n",
       "         1.5972402e-02,  6.0006225e-04,  5.5401738e-08],\n",
       "       ...,\n",
       "       [-4.3351312e+02,  8.2059555e+01, -2.7975716e+01, ...,\n",
       "         3.9175409e-03,  5.4975174e-04,  2.2569317e-07],\n",
       "       [-4.2224606e+02,  5.0633659e+01, -8.4757417e-01, ...,\n",
       "         7.7954382e-03,  1.6793501e-04,  2.6065035e-08],\n",
       "       [-3.7718286e+02,  7.0876511e+01, -1.9725002e+01, ...,\n",
       "         7.2035249e-03,  3.1879969e-04,  2.1329990e-08]], dtype=float32)"
      ]
     },
     "execution_count": 29,
     "metadata": {},
     "output_type": "execute_result"
    }
   ],
   "source": [
    "X_train"
   ]
  },
  {
   "cell_type": "code",
   "execution_count": 30,
   "metadata": {},
   "outputs": [
    {
     "data": {
      "text/plain": [
       "array([[1, 0],\n",
       "       [0, 1],\n",
       "       [1, 0],\n",
       "       ...,\n",
       "       [1, 0],\n",
       "       [0, 1],\n",
       "       [1, 0]], dtype=uint8)"
      ]
     },
     "execution_count": 30,
     "metadata": {},
     "output_type": "execute_result"
    }
   ],
   "source": [
    "y"
   ]
  },
  {
   "cell_type": "code",
   "execution_count": 31,
   "metadata": {},
   "outputs": [
    {
     "data": {
      "text/plain": [
       "(2725, 40)"
      ]
     },
     "execution_count": 31,
     "metadata": {},
     "output_type": "execute_result"
    }
   ],
   "source": [
    "X_train.shape"
   ]
  },
  {
   "cell_type": "code",
   "execution_count": 32,
   "metadata": {},
   "outputs": [
    {
     "data": {
      "text/plain": [
       "(584, 40)"
      ]
     },
     "execution_count": 32,
     "metadata": {},
     "output_type": "execute_result"
    }
   ],
   "source": [
    "X_val.shape"
   ]
  },
  {
   "cell_type": "code",
   "execution_count": 33,
   "metadata": {},
   "outputs": [
    {
     "data": {
      "text/plain": [
       "(585, 40)"
      ]
     },
     "execution_count": 33,
     "metadata": {},
     "output_type": "execute_result"
    }
   ],
   "source": [
    "X_test.shape"
   ]
  },
  {
   "cell_type": "code",
   "execution_count": 34,
   "metadata": {},
   "outputs": [
    {
     "data": {
      "text/plain": [
       "(2725, 2)"
      ]
     },
     "execution_count": 34,
     "metadata": {},
     "output_type": "execute_result"
    }
   ],
   "source": [
    "y_train.shape"
   ]
  },
  {
   "cell_type": "code",
   "execution_count": 35,
   "metadata": {},
   "outputs": [
    {
     "data": {
      "text/plain": [
       "(584, 2)"
      ]
     },
     "execution_count": 35,
     "metadata": {},
     "output_type": "execute_result"
    }
   ],
   "source": [
    "y_val.shape"
   ]
  },
  {
   "cell_type": "code",
   "execution_count": 36,
   "metadata": {},
   "outputs": [
    {
     "data": {
      "text/plain": [
       "(585, 2)"
      ]
     },
     "execution_count": 36,
     "metadata": {},
     "output_type": "execute_result"
    }
   ],
   "source": [
    "y_test.shape"
   ]
  },
  {
   "cell_type": "code",
   "execution_count": null,
   "metadata": {},
   "outputs": [],
   "source": [
    "# TRAIN an XGBOOST MODEL"
   ]
  },
  {
   "cell_type": "code",
   "execution_count": 37,
   "metadata": {},
   "outputs": [],
   "source": [
    "# Define the model\n",
    "from xgboost import XGBClassifier\n",
    "from sklearn.metrics import accuracy_score\n",
    "model = XGBClassifier()"
   ]
  },
  {
   "cell_type": "code",
   "execution_count": 38,
   "metadata": {},
   "outputs": [
    {
     "data": {
      "text/html": [
       "<style>#sk-container-id-1 {color: black;background-color: white;}#sk-container-id-1 pre{padding: 0;}#sk-container-id-1 div.sk-toggleable {background-color: white;}#sk-container-id-1 label.sk-toggleable__label {cursor: pointer;display: block;width: 100%;margin-bottom: 0;padding: 0.3em;box-sizing: border-box;text-align: center;}#sk-container-id-1 label.sk-toggleable__label-arrow:before {content: \"▸\";float: left;margin-right: 0.25em;color: #696969;}#sk-container-id-1 label.sk-toggleable__label-arrow:hover:before {color: black;}#sk-container-id-1 div.sk-estimator:hover label.sk-toggleable__label-arrow:before {color: black;}#sk-container-id-1 div.sk-toggleable__content {max-height: 0;max-width: 0;overflow: hidden;text-align: left;background-color: #f0f8ff;}#sk-container-id-1 div.sk-toggleable__content pre {margin: 0.2em;color: black;border-radius: 0.25em;background-color: #f0f8ff;}#sk-container-id-1 input.sk-toggleable__control:checked~div.sk-toggleable__content {max-height: 200px;max-width: 100%;overflow: auto;}#sk-container-id-1 input.sk-toggleable__control:checked~label.sk-toggleable__label-arrow:before {content: \"▾\";}#sk-container-id-1 div.sk-estimator input.sk-toggleable__control:checked~label.sk-toggleable__label {background-color: #d4ebff;}#sk-container-id-1 div.sk-label input.sk-toggleable__control:checked~label.sk-toggleable__label {background-color: #d4ebff;}#sk-container-id-1 input.sk-hidden--visually {border: 0;clip: rect(1px 1px 1px 1px);clip: rect(1px, 1px, 1px, 1px);height: 1px;margin: -1px;overflow: hidden;padding: 0;position: absolute;width: 1px;}#sk-container-id-1 div.sk-estimator {font-family: monospace;background-color: #f0f8ff;border: 1px dotted black;border-radius: 0.25em;box-sizing: border-box;margin-bottom: 0.5em;}#sk-container-id-1 div.sk-estimator:hover {background-color: #d4ebff;}#sk-container-id-1 div.sk-parallel-item::after {content: \"\";width: 100%;border-bottom: 1px solid gray;flex-grow: 1;}#sk-container-id-1 div.sk-label:hover label.sk-toggleable__label {background-color: #d4ebff;}#sk-container-id-1 div.sk-serial::before {content: \"\";position: absolute;border-left: 1px solid gray;box-sizing: border-box;top: 0;bottom: 0;left: 50%;z-index: 0;}#sk-container-id-1 div.sk-serial {display: flex;flex-direction: column;align-items: center;background-color: white;padding-right: 0.2em;padding-left: 0.2em;position: relative;}#sk-container-id-1 div.sk-item {position: relative;z-index: 1;}#sk-container-id-1 div.sk-parallel {display: flex;align-items: stretch;justify-content: center;background-color: white;position: relative;}#sk-container-id-1 div.sk-item::before, #sk-container-id-1 div.sk-parallel-item::before {content: \"\";position: absolute;border-left: 1px solid gray;box-sizing: border-box;top: 0;bottom: 0;left: 50%;z-index: -1;}#sk-container-id-1 div.sk-parallel-item {display: flex;flex-direction: column;z-index: 1;position: relative;background-color: white;}#sk-container-id-1 div.sk-parallel-item:first-child::after {align-self: flex-end;width: 50%;}#sk-container-id-1 div.sk-parallel-item:last-child::after {align-self: flex-start;width: 50%;}#sk-container-id-1 div.sk-parallel-item:only-child::after {width: 0;}#sk-container-id-1 div.sk-dashed-wrapped {border: 1px dashed gray;margin: 0 0.4em 0.5em 0.4em;box-sizing: border-box;padding-bottom: 0.4em;background-color: white;}#sk-container-id-1 div.sk-label label {font-family: monospace;font-weight: bold;display: inline-block;line-height: 1.2em;}#sk-container-id-1 div.sk-label-container {text-align: center;}#sk-container-id-1 div.sk-container {/* jupyter's `normalize.less` sets `[hidden] { display: none; }` but bootstrap.min.css set `[hidden] { display: none !important; }` so we also need the `!important` here to be able to override the default hidden behavior on the sphinx rendered scikit-learn.org. See: https://github.com/scikit-learn/scikit-learn/issues/21755 */display: inline-block !important;position: relative;}#sk-container-id-1 div.sk-text-repr-fallback {display: none;}</style><div id=\"sk-container-id-1\" class=\"sk-top-container\"><div class=\"sk-text-repr-fallback\"><pre>XGBClassifier(base_score=0.5, booster=&#x27;gbtree&#x27;, callbacks=None,\n",
       "              colsample_bylevel=1, colsample_bynode=1, colsample_bytree=1,\n",
       "              early_stopping_rounds=None, enable_categorical=False,\n",
       "              eval_metric=None, gamma=0, gpu_id=-1, grow_policy=&#x27;depthwise&#x27;,\n",
       "              importance_type=None, interaction_constraints=&#x27;&#x27;,\n",
       "              learning_rate=0.300000012, max_bin=256, max_cat_to_onehot=4,\n",
       "              max_delta_step=0, max_depth=6, max_leaves=0, min_child_weight=1,\n",
       "              missing=nan, monotone_constraints=&#x27;()&#x27;, n_estimators=100,\n",
       "              n_jobs=0, num_parallel_tree=1, predictor=&#x27;auto&#x27;, random_state=0,\n",
       "              reg_alpha=0, reg_lambda=1, ...)</pre><b>In a Jupyter environment, please rerun this cell to show the HTML representation or trust the notebook. <br />On GitHub, the HTML representation is unable to render, please try loading this page with nbviewer.org.</b></div><div class=\"sk-container\" hidden><div class=\"sk-item\"><div class=\"sk-estimator sk-toggleable\"><input class=\"sk-toggleable__control sk-hidden--visually\" id=\"sk-estimator-id-1\" type=\"checkbox\" checked><label for=\"sk-estimator-id-1\" class=\"sk-toggleable__label sk-toggleable__label-arrow\">XGBClassifier</label><div class=\"sk-toggleable__content\"><pre>XGBClassifier(base_score=0.5, booster=&#x27;gbtree&#x27;, callbacks=None,\n",
       "              colsample_bylevel=1, colsample_bynode=1, colsample_bytree=1,\n",
       "              early_stopping_rounds=None, enable_categorical=False,\n",
       "              eval_metric=None, gamma=0, gpu_id=-1, grow_policy=&#x27;depthwise&#x27;,\n",
       "              importance_type=None, interaction_constraints=&#x27;&#x27;,\n",
       "              learning_rate=0.300000012, max_bin=256, max_cat_to_onehot=4,\n",
       "              max_delta_step=0, max_depth=6, max_leaves=0, min_child_weight=1,\n",
       "              missing=nan, monotone_constraints=&#x27;()&#x27;, n_estimators=100,\n",
       "              n_jobs=0, num_parallel_tree=1, predictor=&#x27;auto&#x27;, random_state=0,\n",
       "              reg_alpha=0, reg_lambda=1, ...)</pre></div></div></div></div></div>"
      ],
      "text/plain": [
       "XGBClassifier(base_score=0.5, booster='gbtree', callbacks=None,\n",
       "              colsample_bylevel=1, colsample_bynode=1, colsample_bytree=1,\n",
       "              early_stopping_rounds=None, enable_categorical=False,\n",
       "              eval_metric=None, gamma=0, gpu_id=-1, grow_policy='depthwise',\n",
       "              importance_type=None, interaction_constraints='',\n",
       "              learning_rate=0.300000012, max_bin=256, max_cat_to_onehot=4,\n",
       "              max_delta_step=0, max_depth=6, max_leaves=0, min_child_weight=1,\n",
       "              missing=nan, monotone_constraints='()', n_estimators=100,\n",
       "              n_jobs=0, num_parallel_tree=1, predictor='auto', random_state=0,\n",
       "              reg_alpha=0, reg_lambda=1, ...)"
      ]
     },
     "execution_count": 38,
     "metadata": {},
     "output_type": "execute_result"
    }
   ],
   "source": [
    "# Train the model\n",
    "model.fit(X_train, y_train)"
   ]
  },
  {
   "cell_type": "code",
   "execution_count": 39,
   "metadata": {},
   "outputs": [],
   "source": [
    "# Get the predictions\n",
    "y_pred = model.predict(X_test)\n",
    "predictions = [np.round(x) for x in y_pred]"
   ]
  },
  {
   "cell_type": "code",
   "execution_count": 40,
   "metadata": {},
   "outputs": [
    {
     "name": "stdout",
     "output_type": "stream",
     "text": [
      "Accuracy: 78.80%\n"
     ]
    }
   ],
   "source": [
    "# Check the accuracy\n",
    "accuracy = accuracy_score(y_test, predictions)\n",
    "print(\"Accuracy: %.2f%%\" % (accuracy * 100.0))"
   ]
  },
  {
   "cell_type": "code",
   "execution_count": null,
   "metadata": {},
   "outputs": [],
   "source": [
    "# Train an ANN model"
   ]
  },
  {
   "cell_type": "code",
   "execution_count": 41,
   "metadata": {},
   "outputs": [],
   "source": [
    "# Define the model\n",
    "from tensorflow.keras.models import Sequential\n",
    "from tensorflow.keras.layers import Dense,Dropout,Activation,Flatten\n",
    "from tensorflow.keras.optimizers import Adam\n",
    "from sklearn import metrics\n",
    "\n",
    "### No of classes\n",
    "num_labels = y.shape[1]\n",
    "\n",
    "model=Sequential()\n",
    "#First Layer\n",
    "model.add(Dense(1024,input_shape=(40,)))\n",
    "model.add(Activation('relu'))\n",
    "model.add(Dropout(0.50))\n",
    "\n",
    "#Second Layer\n",
    "model.add(Dense(512))\n",
    "model.add(Activation('relu'))\n",
    "model.add(Dropout(0.30))\n",
    "\n",
    "#Third Layer\n",
    "model.add(Dense(256))\n",
    "model.add(Activation('relu'))\n",
    "model.add(Dropout(0.25))\n",
    "\n",
    "#Fourth Layer\n",
    "model.add(Dense(128))\n",
    "model.add(Activation('relu'))\n",
    "model.add(Dropout(0.25))\n",
    "\n",
    "#Final Layer\n",
    "model.add(Dense(num_labels))\n",
    "model.add(Activation('softmax'))"
   ]
  },
  {
   "cell_type": "code",
   "execution_count": 42,
   "metadata": {},
   "outputs": [
    {
     "name": "stdout",
     "output_type": "stream",
     "text": [
      "Model: \"sequential\"\n",
      "_________________________________________________________________\n",
      " Layer (type)                Output Shape              Param #   \n",
      "=================================================================\n",
      " dense (Dense)               (None, 1024)              41984     \n",
      "                                                                 \n",
      " activation (Activation)     (None, 1024)              0         \n",
      "                                                                 \n",
      " dropout (Dropout)           (None, 1024)              0         \n",
      "                                                                 \n",
      " dense_1 (Dense)             (None, 512)               524800    \n",
      "                                                                 \n",
      " activation_1 (Activation)   (None, 512)               0         \n",
      "                                                                 \n",
      " dropout_1 (Dropout)         (None, 512)               0         \n",
      "                                                                 \n",
      " dense_2 (Dense)             (None, 256)               131328    \n",
      "                                                                 \n",
      " activation_2 (Activation)   (None, 256)               0         \n",
      "                                                                 \n",
      " dropout_2 (Dropout)         (None, 256)               0         \n",
      "                                                                 \n",
      " dense_3 (Dense)             (None, 128)               32896     \n",
      "                                                                 \n",
      " activation_3 (Activation)   (None, 128)               0         \n",
      "                                                                 \n",
      " dropout_3 (Dropout)         (None, 128)               0         \n",
      "                                                                 \n",
      " dense_4 (Dense)             (None, 2)                 258       \n",
      "                                                                 \n",
      " activation_4 (Activation)   (None, 2)                 0         \n",
      "                                                                 \n",
      "=================================================================\n",
      "Total params: 731,266\n",
      "Trainable params: 731,266\n",
      "Non-trainable params: 0\n",
      "_________________________________________________________________\n"
     ]
    }
   ],
   "source": [
    "model.summary()"
   ]
  },
  {
   "cell_type": "code",
   "execution_count": 43,
   "metadata": {},
   "outputs": [],
   "source": [
    "# Compile the model with loss and optimizer\n",
    "model.compile(loss='categorical_crossentropy',metrics=['accuracy'],optimizer='adam')"
   ]
  },
  {
   "cell_type": "code",
   "execution_count": 44,
   "metadata": {},
   "outputs": [
    {
     "name": "stdout",
     "output_type": "stream",
     "text": [
      "Epoch 1/200\n",
      "82/86 [===========================>..] - ETA: 0s - loss: 3.4435 - accuracy: 0.5926\n",
      "Epoch 1: val_loss improved from inf to 0.62360, saving model to audio_classification_v3.0.hdf5\n",
      "86/86 [==============================] - 2s 14ms/step - loss: 3.3611 - accuracy: 0.5934 - val_loss: 0.6236 - val_accuracy: 0.6969\n",
      "Epoch 2/200\n",
      "81/86 [===========================>..] - ETA: 0s - loss: 0.8664 - accuracy: 0.6184\n",
      "Epoch 2: val_loss did not improve from 0.62360\n",
      "86/86 [==============================] - 1s 10ms/step - loss: 0.8619 - accuracy: 0.6158 - val_loss: 0.6353 - val_accuracy: 0.6969\n",
      "Epoch 3/200\n",
      "86/86 [==============================] - ETA: 0s - loss: 0.6950 - accuracy: 0.6683\n",
      "Epoch 3: val_loss did not improve from 0.62360\n",
      "86/86 [==============================] - 1s 13ms/step - loss: 0.6950 - accuracy: 0.6683 - val_loss: 0.6258 - val_accuracy: 0.6969\n",
      "Epoch 4/200\n",
      "83/86 [===========================>..] - ETA: 0s - loss: 0.6485 - accuracy: 0.6965\n",
      "Epoch 4: val_loss improved from 0.62360 to 0.61989, saving model to audio_classification_v3.0.hdf5\n",
      "86/86 [==============================] - 2s 19ms/step - loss: 0.6476 - accuracy: 0.6972 - val_loss: 0.6199 - val_accuracy: 0.6969\n",
      "Epoch 5/200\n",
      "83/86 [===========================>..] - ETA: 0s - loss: 0.6311 - accuracy: 0.7048\n",
      "Epoch 5: val_loss did not improve from 0.61989\n",
      "86/86 [==============================] - 1s 10ms/step - loss: 0.6326 - accuracy: 0.7042 - val_loss: 0.6275 - val_accuracy: 0.6986\n",
      "Epoch 6/200\n",
      "84/86 [============================>.] - ETA: 0s - loss: 0.6299 - accuracy: 0.6994\n",
      "Epoch 6: val_loss improved from 0.61989 to 0.61587, saving model to audio_classification_v3.0.hdf5\n",
      "86/86 [==============================] - 1s 11ms/step - loss: 0.6322 - accuracy: 0.6983 - val_loss: 0.6159 - val_accuracy: 0.6986\n",
      "Epoch 7/200\n",
      "80/86 [==========================>...] - ETA: 0s - loss: 0.6212 - accuracy: 0.7133\n",
      "Epoch 7: val_loss did not improve from 0.61587\n",
      "86/86 [==============================] - 1s 10ms/step - loss: 0.6219 - accuracy: 0.7138 - val_loss: 0.6201 - val_accuracy: 0.6969\n",
      "Epoch 8/200\n",
      "85/86 [============================>.] - ETA: 0s - loss: 0.6112 - accuracy: 0.7199\n",
      "Epoch 8: val_loss improved from 0.61587 to 0.60328, saving model to audio_classification_v3.0.hdf5\n",
      "86/86 [==============================] - 1s 11ms/step - loss: 0.6109 - accuracy: 0.7200 - val_loss: 0.6033 - val_accuracy: 0.7072\n",
      "Epoch 9/200\n",
      "82/86 [===========================>..] - ETA: 0s - loss: 0.5893 - accuracy: 0.7355\n",
      "Epoch 9: val_loss improved from 0.60328 to 0.57942, saving model to audio_classification_v3.0.hdf5\n",
      "86/86 [==============================] - 1s 11ms/step - loss: 0.5897 - accuracy: 0.7347 - val_loss: 0.5794 - val_accuracy: 0.7414\n",
      "Epoch 10/200\n",
      "85/86 [============================>.] - ETA: 0s - loss: 0.5793 - accuracy: 0.7426\n",
      "Epoch 10: val_loss did not improve from 0.57942\n",
      "86/86 [==============================] - 1s 10ms/step - loss: 0.5788 - accuracy: 0.7431 - val_loss: 0.5841 - val_accuracy: 0.7260\n",
      "Epoch 11/200\n",
      "86/86 [==============================] - ETA: 0s - loss: 0.5794 - accuracy: 0.7383\n",
      "Epoch 11: val_loss improved from 0.57942 to 0.56522, saving model to audio_classification_v3.0.hdf5\n",
      "86/86 [==============================] - 1s 16ms/step - loss: 0.5794 - accuracy: 0.7383 - val_loss: 0.5652 - val_accuracy: 0.7432\n",
      "Epoch 12/200\n",
      "82/86 [===========================>..] - ETA: 0s - loss: 0.5584 - accuracy: 0.7538\n",
      "Epoch 12: val_loss improved from 0.56522 to 0.55577, saving model to audio_classification_v3.0.hdf5\n",
      "86/86 [==============================] - 1s 14ms/step - loss: 0.5537 - accuracy: 0.7574 - val_loss: 0.5558 - val_accuracy: 0.7432\n",
      "Epoch 13/200\n",
      "85/86 [============================>.] - ETA: 0s - loss: 0.5438 - accuracy: 0.7625\n",
      "Epoch 13: val_loss improved from 0.55577 to 0.54763, saving model to audio_classification_v3.0.hdf5\n",
      "86/86 [==============================] - 3s 38ms/step - loss: 0.5438 - accuracy: 0.7622 - val_loss: 0.5476 - val_accuracy: 0.7414\n",
      "Epoch 14/200\n",
      "84/86 [============================>.] - ETA: 0s - loss: 0.5426 - accuracy: 0.7574\n",
      "Epoch 14: val_loss improved from 0.54763 to 0.54120, saving model to audio_classification_v3.0.hdf5\n",
      "86/86 [==============================] - 2s 21ms/step - loss: 0.5434 - accuracy: 0.7567 - val_loss: 0.5412 - val_accuracy: 0.7449\n",
      "Epoch 15/200\n",
      "83/86 [===========================>..] - ETA: 0s - loss: 0.5402 - accuracy: 0.7628\n",
      "Epoch 15: val_loss improved from 0.54120 to 0.53721, saving model to audio_classification_v3.0.hdf5\n",
      "86/86 [==============================] - 2s 22ms/step - loss: 0.5368 - accuracy: 0.7659 - val_loss: 0.5372 - val_accuracy: 0.7449\n",
      "Epoch 16/200\n",
      "84/86 [============================>.] - ETA: 0s - loss: 0.5158 - accuracy: 0.7705\n",
      "Epoch 16: val_loss improved from 0.53721 to 0.52221, saving model to audio_classification_v3.0.hdf5\n",
      "86/86 [==============================] - 1s 15ms/step - loss: 0.5165 - accuracy: 0.7703 - val_loss: 0.5222 - val_accuracy: 0.7551\n",
      "Epoch 17/200\n",
      "83/86 [===========================>..] - ETA: 0s - loss: 0.5034 - accuracy: 0.7737\n",
      "Epoch 17: val_loss improved from 0.52221 to 0.51976, saving model to audio_classification_v3.0.hdf5\n",
      "86/86 [==============================] - 1s 17ms/step - loss: 0.5056 - accuracy: 0.7732 - val_loss: 0.5198 - val_accuracy: 0.7688\n",
      "Epoch 18/200\n",
      "84/86 [============================>.] - ETA: 0s - loss: 0.5049 - accuracy: 0.7757\n",
      "Epoch 18: val_loss improved from 0.51976 to 0.50127, saving model to audio_classification_v3.0.hdf5\n",
      "86/86 [==============================] - 1s 16ms/step - loss: 0.5057 - accuracy: 0.7750 - val_loss: 0.5013 - val_accuracy: 0.7586\n",
      "Epoch 19/200\n",
      "85/86 [============================>.] - ETA: 0s - loss: 0.5038 - accuracy: 0.7739\n",
      "Epoch 19: val_loss improved from 0.50127 to 0.49604, saving model to audio_classification_v3.0.hdf5\n",
      "86/86 [==============================] - 2s 19ms/step - loss: 0.5035 - accuracy: 0.7743 - val_loss: 0.4960 - val_accuracy: 0.7825\n",
      "Epoch 20/200\n",
      "84/86 [============================>.] - ETA: 0s - loss: 0.5096 - accuracy: 0.7816\n",
      "Epoch 20: val_loss did not improve from 0.49604\n",
      "86/86 [==============================] - 1s 11ms/step - loss: 0.5100 - accuracy: 0.7809 - val_loss: 0.5166 - val_accuracy: 0.7534\n",
      "Epoch 21/200\n",
      "82/86 [===========================>..] - ETA: 0s - loss: 0.4904 - accuracy: 0.7866\n",
      "Epoch 21: val_loss did not improve from 0.49604\n",
      "86/86 [==============================] - 1s 10ms/step - loss: 0.4899 - accuracy: 0.7879 - val_loss: 0.5060 - val_accuracy: 0.7603\n",
      "Epoch 22/200\n",
      "82/86 [===========================>..] - ETA: 0s - loss: 0.4990 - accuracy: 0.7782\n",
      "Epoch 22: val_loss improved from 0.49604 to 0.48591, saving model to audio_classification_v3.0.hdf5\n",
      "86/86 [==============================] - 1s 15ms/step - loss: 0.4970 - accuracy: 0.7806 - val_loss: 0.4859 - val_accuracy: 0.7860\n",
      "Epoch 23/200\n",
      "81/86 [===========================>..] - ETA: 0s - loss: 0.4875 - accuracy: 0.7789\n",
      "Epoch 23: val_loss did not improve from 0.48591\n",
      "86/86 [==============================] - 1s 11ms/step - loss: 0.4886 - accuracy: 0.7787 - val_loss: 0.4882 - val_accuracy: 0.7654\n",
      "Epoch 24/200\n",
      "84/86 [============================>.] - ETA: 0s - loss: 0.4735 - accuracy: 0.7999\n",
      "Epoch 24: val_loss did not improve from 0.48591\n",
      "86/86 [==============================] - 1s 11ms/step - loss: 0.4724 - accuracy: 0.8004 - val_loss: 0.4909 - val_accuracy: 0.7757\n",
      "Epoch 25/200\n",
      "81/86 [===========================>..] - ETA: 0s - loss: 0.4865 - accuracy: 0.7894\n",
      "Epoch 25: val_loss did not improve from 0.48591\n",
      "86/86 [==============================] - 1s 11ms/step - loss: 0.4833 - accuracy: 0.7905 - val_loss: 0.4941 - val_accuracy: 0.7551\n",
      "Epoch 26/200\n",
      "82/86 [===========================>..] - ETA: 0s - loss: 0.4755 - accuracy: 0.7912\n",
      "Epoch 26: val_loss improved from 0.48591 to 0.48363, saving model to audio_classification_v3.0.hdf5\n",
      "86/86 [==============================] - 1s 13ms/step - loss: 0.4721 - accuracy: 0.7934 - val_loss: 0.4836 - val_accuracy: 0.7877\n",
      "Epoch 27/200\n",
      "85/86 [============================>.] - ETA: 0s - loss: 0.4739 - accuracy: 0.7971\n",
      "Epoch 27: val_loss improved from 0.48363 to 0.48106, saving model to audio_classification_v3.0.hdf5\n",
      "86/86 [==============================] - 1s 11ms/step - loss: 0.4739 - accuracy: 0.7967 - val_loss: 0.4811 - val_accuracy: 0.7808\n",
      "Epoch 28/200\n",
      "83/86 [===========================>..] - ETA: 0s - loss: 0.4729 - accuracy: 0.7880\n",
      "Epoch 28: val_loss improved from 0.48106 to 0.47295, saving model to audio_classification_v3.0.hdf5\n",
      "86/86 [==============================] - 1s 13ms/step - loss: 0.4750 - accuracy: 0.7868 - val_loss: 0.4730 - val_accuracy: 0.7928\n",
      "Epoch 29/200\n",
      "84/86 [============================>.] - ETA: 0s - loss: 0.4585 - accuracy: 0.8032\n",
      "Epoch 29: val_loss improved from 0.47295 to 0.46745, saving model to audio_classification_v3.0.hdf5\n",
      "86/86 [==============================] - 1s 14ms/step - loss: 0.4585 - accuracy: 0.8037 - val_loss: 0.4674 - val_accuracy: 0.7911\n",
      "Epoch 30/200\n",
      "85/86 [============================>.] - ETA: 0s - loss: 0.4599 - accuracy: 0.7963\n",
      "Epoch 30: val_loss did not improve from 0.46745\n",
      "86/86 [==============================] - 1s 10ms/step - loss: 0.4611 - accuracy: 0.7956 - val_loss: 0.4882 - val_accuracy: 0.7979\n",
      "Epoch 31/200\n",
      "82/86 [===========================>..] - ETA: 0s - loss: 0.4573 - accuracy: 0.8056\n",
      "Epoch 31: val_loss did not improve from 0.46745\n",
      "86/86 [==============================] - 1s 12ms/step - loss: 0.4571 - accuracy: 0.8051 - val_loss: 0.4824 - val_accuracy: 0.7791\n",
      "Epoch 32/200\n",
      "86/86 [==============================] - ETA: 0s - loss: 0.4579 - accuracy: 0.8062\n",
      "Epoch 32: val_loss did not improve from 0.46745\n",
      "86/86 [==============================] - 1s 11ms/step - loss: 0.4579 - accuracy: 0.8062 - val_loss: 0.4740 - val_accuracy: 0.7997\n",
      "Epoch 33/200\n",
      "85/86 [============================>.] - ETA: 0s - loss: 0.4643 - accuracy: 0.7985\n",
      "Epoch 33: val_loss did not improve from 0.46745\n",
      "86/86 [==============================] - 1s 10ms/step - loss: 0.4644 - accuracy: 0.7985 - val_loss: 0.4924 - val_accuracy: 0.7808\n",
      "Epoch 34/200\n",
      "81/86 [===========================>..] - ETA: 0s - loss: 0.4702 - accuracy: 0.7978\n",
      "Epoch 34: val_loss did not improve from 0.46745\n",
      "86/86 [==============================] - 1s 10ms/step - loss: 0.4703 - accuracy: 0.7963 - val_loss: 0.4687 - val_accuracy: 0.7877\n",
      "Epoch 35/200\n",
      "82/86 [===========================>..] - ETA: 0s - loss: 0.4508 - accuracy: 0.8091\n",
      "Epoch 35: val_loss did not improve from 0.46745\n",
      "86/86 [==============================] - 1s 10ms/step - loss: 0.4540 - accuracy: 0.8077 - val_loss: 0.4716 - val_accuracy: 0.7774\n",
      "Epoch 36/200\n",
      "85/86 [============================>.] - ETA: 0s - loss: 0.4551 - accuracy: 0.7912\n",
      "Epoch 36: val_loss improved from 0.46745 to 0.46465, saving model to audio_classification_v3.0.hdf5\n",
      "86/86 [==============================] - 1s 12ms/step - loss: 0.4550 - accuracy: 0.7912 - val_loss: 0.4647 - val_accuracy: 0.7825\n",
      "Epoch 37/200\n",
      "85/86 [============================>.] - ETA: 0s - loss: 0.4592 - accuracy: 0.8004\n",
      "Epoch 37: val_loss did not improve from 0.46465\n",
      "86/86 [==============================] - 1s 11ms/step - loss: 0.4589 - accuracy: 0.8004 - val_loss: 0.4725 - val_accuracy: 0.7774\n",
      "Epoch 38/200\n",
      "85/86 [============================>.] - ETA: 0s - loss: 0.4532 - accuracy: 0.8077\n",
      "Epoch 38: val_loss did not improve from 0.46465\n",
      "86/86 [==============================] - 1s 13ms/step - loss: 0.4527 - accuracy: 0.8081 - val_loss: 0.4806 - val_accuracy: 0.7774\n",
      "Epoch 39/200\n",
      "85/86 [============================>.] - ETA: 0s - loss: 0.4464 - accuracy: 0.8107\n",
      "Epoch 39: val_loss improved from 0.46465 to 0.45919, saving model to audio_classification_v3.0.hdf5\n",
      "86/86 [==============================] - 2s 20ms/step - loss: 0.4460 - accuracy: 0.8110 - val_loss: 0.4592 - val_accuracy: 0.7911\n",
      "Epoch 40/200\n",
      "86/86 [==============================] - ETA: 0s - loss: 0.4484 - accuracy: 0.8044\n",
      "Epoch 40: val_loss did not improve from 0.45919\n",
      "86/86 [==============================] - 1s 12ms/step - loss: 0.4484 - accuracy: 0.8044 - val_loss: 0.4735 - val_accuracy: 0.7962\n",
      "Epoch 41/200\n",
      "85/86 [============================>.] - ETA: 0s - loss: 0.4495 - accuracy: 0.8110\n",
      "Epoch 41: val_loss did not improve from 0.45919\n",
      "86/86 [==============================] - 1s 12ms/step - loss: 0.4488 - accuracy: 0.8114 - val_loss: 0.4963 - val_accuracy: 0.7688\n",
      "Epoch 42/200\n",
      "83/86 [===========================>..] - ETA: 0s - loss: 0.4520 - accuracy: 0.8110\n",
      "Epoch 42: val_loss did not improve from 0.45919\n",
      "86/86 [==============================] - 1s 10ms/step - loss: 0.4522 - accuracy: 0.8099 - val_loss: 0.4941 - val_accuracy: 0.7620\n",
      "Epoch 43/200\n",
      "80/86 [==========================>...] - ETA: 0s - loss: 0.4464 - accuracy: 0.8094\n",
      "Epoch 43: val_loss improved from 0.45919 to 0.45613, saving model to audio_classification_v3.0.hdf5\n",
      "86/86 [==============================] - 1s 13ms/step - loss: 0.4503 - accuracy: 0.8066 - val_loss: 0.4561 - val_accuracy: 0.7945\n",
      "Epoch 44/200\n",
      "85/86 [============================>.] - ETA: 0s - loss: 0.4492 - accuracy: 0.8096\n",
      "Epoch 44: val_loss did not improve from 0.45613\n",
      "86/86 [==============================] - 1s 14ms/step - loss: 0.4496 - accuracy: 0.8092 - val_loss: 0.4639 - val_accuracy: 0.7945\n",
      "Epoch 45/200\n",
      "85/86 [============================>.] - ETA: 0s - loss: 0.4417 - accuracy: 0.8158\n",
      "Epoch 45: val_loss did not improve from 0.45613\n",
      "86/86 [==============================] - 1s 11ms/step - loss: 0.4425 - accuracy: 0.8154 - val_loss: 0.4832 - val_accuracy: 0.7825\n",
      "Epoch 46/200\n",
      "82/86 [===========================>..] - ETA: 0s - loss: 0.4422 - accuracy: 0.8121\n",
      "Epoch 46: val_loss did not improve from 0.45613\n",
      "86/86 [==============================] - 1s 12ms/step - loss: 0.4422 - accuracy: 0.8114 - val_loss: 0.4650 - val_accuracy: 0.7877\n",
      "Epoch 47/200\n",
      "84/86 [============================>.] - ETA: 0s - loss: 0.4387 - accuracy: 0.8103\n",
      "Epoch 47: val_loss did not improve from 0.45613\n",
      "86/86 [==============================] - 1s 10ms/step - loss: 0.4378 - accuracy: 0.8110 - val_loss: 0.4631 - val_accuracy: 0.7962\n",
      "Epoch 48/200\n",
      "84/86 [============================>.] - ETA: 0s - loss: 0.4593 - accuracy: 0.8017\n",
      "Epoch 48: val_loss did not improve from 0.45613\n",
      "86/86 [==============================] - 1s 10ms/step - loss: 0.4579 - accuracy: 0.8026 - val_loss: 0.4643 - val_accuracy: 0.7945\n",
      "Epoch 49/200\n",
      "80/86 [==========================>...] - ETA: 0s - loss: 0.4426 - accuracy: 0.8172\n",
      "Epoch 49: val_loss did not improve from 0.45613\n",
      "86/86 [==============================] - 1s 11ms/step - loss: 0.4438 - accuracy: 0.8154 - val_loss: 0.4865 - val_accuracy: 0.7723\n",
      "Epoch 50/200\n",
      "83/86 [===========================>..] - ETA: 0s - loss: 0.4351 - accuracy: 0.8170\n",
      "Epoch 50: val_loss did not improve from 0.45613\n",
      "86/86 [==============================] - 1s 13ms/step - loss: 0.4338 - accuracy: 0.8176 - val_loss: 0.4575 - val_accuracy: 0.7962\n",
      "Epoch 51/200\n",
      "85/86 [============================>.] - ETA: 0s - loss: 0.4442 - accuracy: 0.8110\n",
      "Epoch 51: val_loss did not improve from 0.45613\n",
      "86/86 [==============================] - 1s 13ms/step - loss: 0.4450 - accuracy: 0.8103 - val_loss: 0.4822 - val_accuracy: 0.7825\n",
      "Epoch 52/200\n",
      "83/86 [===========================>..] - ETA: 0s - loss: 0.4453 - accuracy: 0.7918\n",
      "Epoch 52: val_loss did not improve from 0.45613\n",
      "86/86 [==============================] - 1s 9ms/step - loss: 0.4410 - accuracy: 0.7941 - val_loss: 0.4805 - val_accuracy: 0.7877\n",
      "Epoch 53/200\n",
      "84/86 [============================>.] - ETA: 0s - loss: 0.4299 - accuracy: 0.8155\n",
      "Epoch 53: val_loss did not improve from 0.45613\n",
      "86/86 [==============================] - 1s 12ms/step - loss: 0.4301 - accuracy: 0.8150 - val_loss: 0.4646 - val_accuracy: 0.7979\n",
      "Epoch 54/200\n",
      "86/86 [==============================] - ETA: 0s - loss: 0.4334 - accuracy: 0.8187\n",
      "Epoch 54: val_loss did not improve from 0.45613\n",
      "86/86 [==============================] - 1s 12ms/step - loss: 0.4334 - accuracy: 0.8187 - val_loss: 0.4587 - val_accuracy: 0.8014\n",
      "Epoch 55/200\n",
      "86/86 [==============================] - ETA: 0s - loss: 0.4328 - accuracy: 0.8088\n",
      "Epoch 55: val_loss did not improve from 0.45613\n",
      "86/86 [==============================] - 1s 13ms/step - loss: 0.4328 - accuracy: 0.8088 - val_loss: 0.4611 - val_accuracy: 0.7962\n",
      "Epoch 56/200\n",
      "85/86 [============================>.] - ETA: 0s - loss: 0.4380 - accuracy: 0.8180\n",
      "Epoch 56: val_loss did not improve from 0.45613\n",
      "86/86 [==============================] - 1s 13ms/step - loss: 0.4380 - accuracy: 0.8176 - val_loss: 0.4651 - val_accuracy: 0.7860\n",
      "Epoch 57/200\n",
      "84/86 [============================>.] - ETA: 0s - loss: 0.4259 - accuracy: 0.8181\n",
      "Epoch 57: val_loss did not improve from 0.45613\n",
      "86/86 [==============================] - 1s 13ms/step - loss: 0.4272 - accuracy: 0.8176 - val_loss: 0.4830 - val_accuracy: 0.7911\n",
      "Epoch 58/200\n",
      "85/86 [============================>.] - ETA: 0s - loss: 0.4271 - accuracy: 0.8136\n",
      "Epoch 58: val_loss did not improve from 0.45613\n",
      "86/86 [==============================] - 1s 12ms/step - loss: 0.4268 - accuracy: 0.8136 - val_loss: 0.4945 - val_accuracy: 0.7688\n",
      "Epoch 59/200\n",
      "81/86 [===========================>..] - ETA: 0s - loss: 0.4264 - accuracy: 0.8137\n",
      "Epoch 59: val_loss did not improve from 0.45613\n",
      "86/86 [==============================] - 1s 12ms/step - loss: 0.4275 - accuracy: 0.8150 - val_loss: 0.4748 - val_accuracy: 0.7962\n",
      "Epoch 60/200\n",
      "83/86 [===========================>..] - ETA: 0s - loss: 0.4331 - accuracy: 0.8204\n",
      "Epoch 60: val_loss did not improve from 0.45613\n",
      "86/86 [==============================] - 1s 12ms/step - loss: 0.4329 - accuracy: 0.8202 - val_loss: 0.4712 - val_accuracy: 0.7928\n",
      "Epoch 61/200\n",
      "86/86 [==============================] - ETA: 0s - loss: 0.4177 - accuracy: 0.8194\n",
      "Epoch 61: val_loss did not improve from 0.45613\n",
      "86/86 [==============================] - 1s 12ms/step - loss: 0.4177 - accuracy: 0.8194 - val_loss: 0.4740 - val_accuracy: 0.7911\n",
      "Epoch 62/200\n",
      "81/86 [===========================>..] - ETA: 0s - loss: 0.4249 - accuracy: 0.8202\n",
      "Epoch 62: val_loss did not improve from 0.45613\n",
      "86/86 [==============================] - 1s 10ms/step - loss: 0.4255 - accuracy: 0.8202 - val_loss: 0.4822 - val_accuracy: 0.7928\n",
      "Epoch 63/200\n",
      "83/86 [===========================>..] - ETA: 0s - loss: 0.4203 - accuracy: 0.8185\n",
      "Epoch 63: val_loss did not improve from 0.45613\n",
      "86/86 [==============================] - 1s 10ms/step - loss: 0.4218 - accuracy: 0.8183 - val_loss: 0.4891 - val_accuracy: 0.7962\n",
      "Epoch 64/200\n",
      "81/86 [===========================>..] - ETA: 0s - loss: 0.4344 - accuracy: 0.8179\n",
      "Epoch 64: val_loss did not improve from 0.45613\n",
      "86/86 [==============================] - 1s 10ms/step - loss: 0.4301 - accuracy: 0.8198 - val_loss: 0.4771 - val_accuracy: 0.7928\n",
      "Epoch 65/200\n",
      "86/86 [==============================] - ETA: 0s - loss: 0.4181 - accuracy: 0.8191\n",
      "Epoch 65: val_loss did not improve from 0.45613\n",
      "86/86 [==============================] - 1s 9ms/step - loss: 0.4181 - accuracy: 0.8191 - val_loss: 0.4776 - val_accuracy: 0.7860\n",
      "Epoch 66/200\n",
      "82/86 [===========================>..] - ETA: 0s - loss: 0.4334 - accuracy: 0.8155\n",
      "Epoch 66: val_loss did not improve from 0.45613\n",
      "86/86 [==============================] - 1s 10ms/step - loss: 0.4282 - accuracy: 0.8194 - val_loss: 0.4925 - val_accuracy: 0.7877\n",
      "Epoch 67/200\n",
      "84/86 [============================>.] - ETA: 0s - loss: 0.4332 - accuracy: 0.8181\n",
      "Epoch 67: val_loss did not improve from 0.45613\n",
      "86/86 [==============================] - 1s 9ms/step - loss: 0.4330 - accuracy: 0.8176 - val_loss: 0.5421 - val_accuracy: 0.7877\n",
      "Epoch 68/200\n",
      "84/86 [============================>.] - ETA: 0s - loss: 0.4187 - accuracy: 0.8218\n",
      "Epoch 68: val_loss did not improve from 0.45613\n",
      "86/86 [==============================] - 1s 11ms/step - loss: 0.4183 - accuracy: 0.8217 - val_loss: 0.4827 - val_accuracy: 0.7945\n",
      "Epoch 69/200\n",
      "82/86 [===========================>..] - ETA: 0s - loss: 0.4209 - accuracy: 0.8201\n",
      "Epoch 69: val_loss did not improve from 0.45613\n",
      "86/86 [==============================] - 1s 10ms/step - loss: 0.4198 - accuracy: 0.8213 - val_loss: 0.4934 - val_accuracy: 0.7945\n",
      "Epoch 70/200\n",
      "86/86 [==============================] - ETA: 0s - loss: 0.4119 - accuracy: 0.8235\n",
      "Epoch 70: val_loss did not improve from 0.45613\n",
      "86/86 [==============================] - 1s 11ms/step - loss: 0.4119 - accuracy: 0.8235 - val_loss: 0.4685 - val_accuracy: 0.7979\n",
      "Epoch 71/200\n",
      "84/86 [============================>.] - ETA: 0s - loss: 0.4188 - accuracy: 0.8181\n",
      "Epoch 71: val_loss did not improve from 0.45613\n",
      "86/86 [==============================] - 1s 12ms/step - loss: 0.4185 - accuracy: 0.8183 - val_loss: 0.4838 - val_accuracy: 0.7877\n",
      "Epoch 72/200\n",
      "82/86 [===========================>..] - ETA: 0s - loss: 0.4126 - accuracy: 0.8232\n",
      "Epoch 72: val_loss did not improve from 0.45613\n",
      "86/86 [==============================] - 1s 10ms/step - loss: 0.4140 - accuracy: 0.8235 - val_loss: 0.4833 - val_accuracy: 0.7928\n",
      "Epoch 73/200\n",
      "84/86 [============================>.] - ETA: 0s - loss: 0.4142 - accuracy: 0.8274\n",
      "Epoch 73: val_loss did not improve from 0.45613\n",
      "86/86 [==============================] - 1s 14ms/step - loss: 0.4128 - accuracy: 0.8286 - val_loss: 0.4785 - val_accuracy: 0.7877\n",
      "Epoch 74/200\n",
      "86/86 [==============================] - ETA: 0s - loss: 0.4136 - accuracy: 0.8272\n",
      "Epoch 74: val_loss did not improve from 0.45613\n",
      "86/86 [==============================] - 1s 12ms/step - loss: 0.4136 - accuracy: 0.8272 - val_loss: 0.4645 - val_accuracy: 0.8048\n",
      "Epoch 75/200\n",
      "85/86 [============================>.] - ETA: 0s - loss: 0.4152 - accuracy: 0.8246\n",
      "Epoch 75: val_loss did not improve from 0.45613\n",
      "86/86 [==============================] - 1s 14ms/step - loss: 0.4160 - accuracy: 0.8242 - val_loss: 0.5023 - val_accuracy: 0.7740\n",
      "Epoch 76/200\n",
      "83/86 [===========================>..] - ETA: 0s - loss: 0.4195 - accuracy: 0.8298\n",
      "Epoch 76: val_loss did not improve from 0.45613\n",
      "86/86 [==============================] - 1s 11ms/step - loss: 0.4160 - accuracy: 0.8312 - val_loss: 0.4864 - val_accuracy: 0.7911\n",
      "Epoch 77/200\n",
      "86/86 [==============================] - ETA: 0s - loss: 0.4252 - accuracy: 0.8253\n",
      "Epoch 77: val_loss did not improve from 0.45613\n",
      "86/86 [==============================] - 1s 12ms/step - loss: 0.4252 - accuracy: 0.8253 - val_loss: 0.4974 - val_accuracy: 0.7894\n",
      "Epoch 78/200\n",
      "82/86 [===========================>..] - ETA: 0s - loss: 0.4103 - accuracy: 0.8228\n",
      "Epoch 78: val_loss did not improve from 0.45613\n",
      "86/86 [==============================] - 1s 11ms/step - loss: 0.4106 - accuracy: 0.8228 - val_loss: 0.4826 - val_accuracy: 0.7945\n",
      "Epoch 79/200\n",
      "84/86 [============================>.] - ETA: 0s - loss: 0.4314 - accuracy: 0.8140\n",
      "Epoch 79: val_loss did not improve from 0.45613\n",
      "86/86 [==============================] - 1s 11ms/step - loss: 0.4284 - accuracy: 0.8161 - val_loss: 0.4746 - val_accuracy: 0.7791\n",
      "Epoch 80/200\n",
      "84/86 [============================>.] - ETA: 0s - loss: 0.4145 - accuracy: 0.8229\n",
      "Epoch 80: val_loss did not improve from 0.45613\n",
      "86/86 [==============================] - 1s 14ms/step - loss: 0.4135 - accuracy: 0.8235 - val_loss: 0.4775 - val_accuracy: 0.7945\n",
      "Epoch 81/200\n",
      "85/86 [============================>.] - ETA: 0s - loss: 0.4036 - accuracy: 0.8335\n",
      "Epoch 81: val_loss did not improve from 0.45613\n",
      "86/86 [==============================] - 1s 11ms/step - loss: 0.4036 - accuracy: 0.8334 - val_loss: 0.4752 - val_accuracy: 0.7979\n",
      "Epoch 82/200\n",
      "84/86 [============================>.] - ETA: 0s - loss: 0.3975 - accuracy: 0.8304\n",
      "Epoch 82: val_loss did not improve from 0.45613\n",
      "86/86 [==============================] - 1s 10ms/step - loss: 0.4009 - accuracy: 0.8286 - val_loss: 0.5120 - val_accuracy: 0.7791\n",
      "Epoch 83/200\n",
      "85/86 [============================>.] - ETA: 0s - loss: 0.4060 - accuracy: 0.8217\n",
      "Epoch 83: val_loss did not improve from 0.45613\n",
      "86/86 [==============================] - 1s 9ms/step - loss: 0.4059 - accuracy: 0.8217 - val_loss: 0.4787 - val_accuracy: 0.7962\n",
      "Epoch 84/200\n",
      "85/86 [============================>.] - ETA: 0s - loss: 0.4111 - accuracy: 0.8184\n",
      "Epoch 84: val_loss did not improve from 0.45613\n",
      "86/86 [==============================] - 1s 10ms/step - loss: 0.4104 - accuracy: 0.8187 - val_loss: 0.5137 - val_accuracy: 0.7877\n",
      "Epoch 85/200\n",
      "83/86 [===========================>..] - ETA: 0s - loss: 0.4058 - accuracy: 0.8238\n",
      "Epoch 85: val_loss did not improve from 0.45613\n",
      "86/86 [==============================] - 1s 10ms/step - loss: 0.4050 - accuracy: 0.8239 - val_loss: 0.4868 - val_accuracy: 0.7997\n",
      "Epoch 86/200\n",
      "86/86 [==============================] - ETA: 0s - loss: 0.3980 - accuracy: 0.8264\n",
      "Epoch 86: val_loss did not improve from 0.45613\n",
      "86/86 [==============================] - 1s 9ms/step - loss: 0.3980 - accuracy: 0.8264 - val_loss: 0.4953 - val_accuracy: 0.7997\n",
      "Epoch 87/200\n",
      "86/86 [==============================] - ETA: 0s - loss: 0.4098 - accuracy: 0.8283\n",
      "Epoch 87: val_loss did not improve from 0.45613\n",
      "86/86 [==============================] - 1s 10ms/step - loss: 0.4098 - accuracy: 0.8283 - val_loss: 0.4784 - val_accuracy: 0.7808\n",
      "Epoch 88/200\n",
      "82/86 [===========================>..] - ETA: 0s - loss: 0.4109 - accuracy: 0.8255\n",
      "Epoch 88: val_loss did not improve from 0.45613\n",
      "86/86 [==============================] - 1s 10ms/step - loss: 0.4090 - accuracy: 0.8268 - val_loss: 0.5058 - val_accuracy: 0.7911\n",
      "Epoch 89/200\n",
      "80/86 [==========================>...] - ETA: 0s - loss: 0.4023 - accuracy: 0.8297\n",
      "Epoch 89: val_loss did not improve from 0.45613\n",
      "86/86 [==============================] - 1s 9ms/step - loss: 0.4048 - accuracy: 0.8290 - val_loss: 0.4885 - val_accuracy: 0.7791\n",
      "Epoch 90/200\n",
      "81/86 [===========================>..] - ETA: 0s - loss: 0.3999 - accuracy: 0.8314\n",
      "Epoch 90: val_loss did not improve from 0.45613\n",
      "86/86 [==============================] - 1s 10ms/step - loss: 0.4028 - accuracy: 0.8301 - val_loss: 0.4989 - val_accuracy: 0.7894\n",
      "Epoch 91/200\n",
      "84/86 [============================>.] - ETA: 0s - loss: 0.4008 - accuracy: 0.8281\n",
      "Epoch 91: val_loss did not improve from 0.45613\n",
      "86/86 [==============================] - 1s 9ms/step - loss: 0.4012 - accuracy: 0.8279 - val_loss: 0.5189 - val_accuracy: 0.7928\n",
      "Epoch 92/200\n",
      "81/86 [===========================>..] - ETA: 0s - loss: 0.4004 - accuracy: 0.8283\n",
      "Epoch 92: val_loss did not improve from 0.45613\n",
      "86/86 [==============================] - 1s 10ms/step - loss: 0.3992 - accuracy: 0.8308 - val_loss: 0.5081 - val_accuracy: 0.7945\n",
      "Epoch 93/200\n",
      "84/86 [============================>.] - ETA: 0s - loss: 0.4050 - accuracy: 0.8292\n",
      "Epoch 93: val_loss did not improve from 0.45613\n",
      "86/86 [==============================] - 1s 10ms/step - loss: 0.4051 - accuracy: 0.8283 - val_loss: 0.5132 - val_accuracy: 0.7928\n",
      "Epoch 94/200\n",
      "81/86 [===========================>..] - ETA: 0s - loss: 0.4007 - accuracy: 0.8364\n",
      "Epoch 94: val_loss did not improve from 0.45613\n",
      "86/86 [==============================] - 1s 9ms/step - loss: 0.3993 - accuracy: 0.8367 - val_loss: 0.5377 - val_accuracy: 0.7620\n",
      "Epoch 95/200\n",
      "82/86 [===========================>..] - ETA: 0s - loss: 0.4006 - accuracy: 0.8327\n",
      "Epoch 95: val_loss did not improve from 0.45613\n",
      "86/86 [==============================] - 1s 10ms/step - loss: 0.4023 - accuracy: 0.8319 - val_loss: 0.5081 - val_accuracy: 0.7877\n",
      "Epoch 96/200\n",
      "81/86 [===========================>..] - ETA: 0s - loss: 0.3959 - accuracy: 0.8326\n",
      "Epoch 96: val_loss did not improve from 0.45613\n",
      "86/86 [==============================] - 1s 9ms/step - loss: 0.4007 - accuracy: 0.8305 - val_loss: 0.4948 - val_accuracy: 0.7877\n",
      "Epoch 97/200\n",
      "85/86 [============================>.] - ETA: 0s - loss: 0.3973 - accuracy: 0.8360\n",
      "Epoch 97: val_loss did not improve from 0.45613\n",
      "86/86 [==============================] - 1s 10ms/step - loss: 0.3971 - accuracy: 0.8360 - val_loss: 0.4985 - val_accuracy: 0.7791\n",
      "Epoch 98/200\n",
      "83/86 [===========================>..] - ETA: 0s - loss: 0.3915 - accuracy: 0.8370\n",
      "Epoch 98: val_loss did not improve from 0.45613\n",
      "86/86 [==============================] - 1s 11ms/step - loss: 0.3907 - accuracy: 0.8382 - val_loss: 0.5163 - val_accuracy: 0.7894\n",
      "Epoch 99/200\n",
      "83/86 [===========================>..] - ETA: 0s - loss: 0.4037 - accuracy: 0.8343\n",
      "Epoch 99: val_loss did not improve from 0.45613\n",
      "86/86 [==============================] - 1s 10ms/step - loss: 0.4009 - accuracy: 0.8360 - val_loss: 0.5032 - val_accuracy: 0.7928\n",
      "Epoch 100/200\n",
      "82/86 [===========================>..] - ETA: 0s - loss: 0.3928 - accuracy: 0.8357\n",
      "Epoch 100: val_loss did not improve from 0.45613\n",
      "86/86 [==============================] - 1s 11ms/step - loss: 0.3939 - accuracy: 0.8352 - val_loss: 0.5045 - val_accuracy: 0.7791\n",
      "Epoch 101/200\n",
      "83/86 [===========================>..] - ETA: 0s - loss: 0.3990 - accuracy: 0.8276\n",
      "Epoch 101: val_loss did not improve from 0.45613\n",
      "86/86 [==============================] - 1s 12ms/step - loss: 0.3970 - accuracy: 0.8290 - val_loss: 0.4884 - val_accuracy: 0.7928\n",
      "Epoch 102/200\n",
      "83/86 [===========================>..] - ETA: 0s - loss: 0.3844 - accuracy: 0.8411\n",
      "Epoch 102: val_loss did not improve from 0.45613\n",
      "86/86 [==============================] - 1s 11ms/step - loss: 0.3867 - accuracy: 0.8411 - val_loss: 0.5275 - val_accuracy: 0.7979\n",
      "Epoch 103/200\n",
      "82/86 [===========================>..] - ETA: 0s - loss: 0.3976 - accuracy: 0.8346\n",
      "Epoch 103: val_loss did not improve from 0.45613\n",
      "86/86 [==============================] - 1s 13ms/step - loss: 0.3980 - accuracy: 0.8341 - val_loss: 0.4986 - val_accuracy: 0.7860\n",
      "Epoch 104/200\n",
      "84/86 [============================>.] - ETA: 0s - loss: 0.3899 - accuracy: 0.8423\n",
      "Epoch 104: val_loss did not improve from 0.45613\n",
      "86/86 [==============================] - 1s 12ms/step - loss: 0.3894 - accuracy: 0.8426 - val_loss: 0.5080 - val_accuracy: 0.7911\n",
      "Epoch 105/200\n",
      "84/86 [============================>.] - ETA: 0s - loss: 0.3989 - accuracy: 0.8352\n",
      "Epoch 105: val_loss did not improve from 0.45613\n",
      "86/86 [==============================] - 1s 14ms/step - loss: 0.3989 - accuracy: 0.8349 - val_loss: 0.4987 - val_accuracy: 0.7825\n",
      "Epoch 106/200\n",
      "86/86 [==============================] - ETA: 0s - loss: 0.3845 - accuracy: 0.8404\n",
      "Epoch 106: val_loss did not improve from 0.45613\n",
      "86/86 [==============================] - 1s 11ms/step - loss: 0.3845 - accuracy: 0.8404 - val_loss: 0.5395 - val_accuracy: 0.7962\n",
      "Epoch 107/200\n",
      "83/86 [===========================>..] - ETA: 0s - loss: 0.3879 - accuracy: 0.8389\n",
      "Epoch 107: val_loss did not improve from 0.45613\n",
      "86/86 [==============================] - 1s 11ms/step - loss: 0.3853 - accuracy: 0.8400 - val_loss: 0.5080 - val_accuracy: 0.7962\n",
      "Epoch 108/200\n",
      "81/86 [===========================>..] - ETA: 0s - loss: 0.3919 - accuracy: 0.8306\n",
      "Epoch 108: val_loss did not improve from 0.45613\n",
      "86/86 [==============================] - 1s 12ms/step - loss: 0.3906 - accuracy: 0.8312 - val_loss: 0.5194 - val_accuracy: 0.7962\n",
      "Epoch 109/200\n",
      "82/86 [===========================>..] - ETA: 0s - loss: 0.3822 - accuracy: 0.8403\n",
      "Epoch 109: val_loss did not improve from 0.45613\n",
      "86/86 [==============================] - 1s 11ms/step - loss: 0.3872 - accuracy: 0.8371 - val_loss: 0.5016 - val_accuracy: 0.7962\n",
      "Epoch 110/200\n",
      "83/86 [===========================>..] - ETA: 0s - loss: 0.3879 - accuracy: 0.8332\n",
      "Epoch 110: val_loss did not improve from 0.45613\n",
      "86/86 [==============================] - 1s 10ms/step - loss: 0.3883 - accuracy: 0.8338 - val_loss: 0.5262 - val_accuracy: 0.7911\n",
      "Epoch 111/200\n",
      "85/86 [============================>.] - ETA: 0s - loss: 0.3819 - accuracy: 0.8496\n",
      "Epoch 111: val_loss did not improve from 0.45613\n",
      "86/86 [==============================] - 1s 11ms/step - loss: 0.3813 - accuracy: 0.8499 - val_loss: 0.4970 - val_accuracy: 0.7962\n",
      "Epoch 112/200\n",
      "84/86 [============================>.] - ETA: 0s - loss: 0.3817 - accuracy: 0.8408\n",
      "Epoch 112: val_loss did not improve from 0.45613\n",
      "86/86 [==============================] - 1s 11ms/step - loss: 0.3832 - accuracy: 0.8411 - val_loss: 0.5407 - val_accuracy: 0.7928\n",
      "Epoch 113/200\n",
      "85/86 [============================>.] - ETA: 0s - loss: 0.3830 - accuracy: 0.8438\n",
      "Epoch 113: val_loss did not improve from 0.45613\n",
      "86/86 [==============================] - 1s 11ms/step - loss: 0.3832 - accuracy: 0.8437 - val_loss: 0.4876 - val_accuracy: 0.7997\n",
      "Epoch 114/200\n",
      "83/86 [===========================>..] - ETA: 0s - loss: 0.3863 - accuracy: 0.8411\n",
      "Epoch 114: val_loss did not improve from 0.45613\n",
      "86/86 [==============================] - 1s 15ms/step - loss: 0.3855 - accuracy: 0.8404 - val_loss: 0.5018 - val_accuracy: 0.8014\n",
      "Epoch 115/200\n",
      "86/86 [==============================] - ETA: 0s - loss: 0.3883 - accuracy: 0.8415\n",
      "Epoch 115: val_loss did not improve from 0.45613\n",
      "86/86 [==============================] - 1s 12ms/step - loss: 0.3883 - accuracy: 0.8415 - val_loss: 0.4965 - val_accuracy: 0.7962\n",
      "Epoch 116/200\n",
      "85/86 [============================>.] - ETA: 0s - loss: 0.3902 - accuracy: 0.8386\n",
      "Epoch 116: val_loss did not improve from 0.45613\n",
      "86/86 [==============================] - 1s 11ms/step - loss: 0.3896 - accuracy: 0.8389 - val_loss: 0.5042 - val_accuracy: 0.7945\n",
      "Epoch 117/200\n",
      "84/86 [============================>.] - ETA: 0s - loss: 0.3876 - accuracy: 0.8423\n",
      "Epoch 117: val_loss did not improve from 0.45613\n",
      "86/86 [==============================] - 1s 12ms/step - loss: 0.3869 - accuracy: 0.8426 - val_loss: 0.5347 - val_accuracy: 0.7842\n",
      "Epoch 118/200\n",
      "84/86 [============================>.] - ETA: 0s - loss: 0.3879 - accuracy: 0.8404\n",
      "Epoch 118: val_loss did not improve from 0.45613\n",
      "86/86 [==============================] - 1s 12ms/step - loss: 0.3872 - accuracy: 0.8411 - val_loss: 0.5629 - val_accuracy: 0.7962\n",
      "Epoch 119/200\n",
      "82/86 [===========================>..] - ETA: 0s - loss: 0.3718 - accuracy: 0.8377\n",
      "Epoch 119: val_loss did not improve from 0.45613\n",
      "86/86 [==============================] - 1s 13ms/step - loss: 0.3703 - accuracy: 0.8400 - val_loss: 0.5530 - val_accuracy: 0.7791\n",
      "Epoch 120/200\n",
      "83/86 [===========================>..] - ETA: 0s - loss: 0.3830 - accuracy: 0.8430\n",
      "Epoch 120: val_loss did not improve from 0.45613\n",
      "86/86 [==============================] - 1s 11ms/step - loss: 0.3820 - accuracy: 0.8437 - val_loss: 0.5048 - val_accuracy: 0.7979\n",
      "Epoch 121/200\n",
      "84/86 [============================>.] - ETA: 0s - loss: 0.3748 - accuracy: 0.8430\n",
      "Epoch 121: val_loss did not improve from 0.45613\n",
      "86/86 [==============================] - 1s 12ms/step - loss: 0.3741 - accuracy: 0.8437 - val_loss: 0.5107 - val_accuracy: 0.7928\n",
      "Epoch 122/200\n",
      "83/86 [===========================>..] - ETA: 0s - loss: 0.3821 - accuracy: 0.8468\n",
      "Epoch 122: val_loss did not improve from 0.45613\n",
      "86/86 [==============================] - 1s 14ms/step - loss: 0.3850 - accuracy: 0.8459 - val_loss: 0.5538 - val_accuracy: 0.7791\n",
      "Epoch 123/200\n",
      "86/86 [==============================] - ETA: 0s - loss: 0.3876 - accuracy: 0.8378\n",
      "Epoch 123: val_loss did not improve from 0.45613\n",
      "86/86 [==============================] - 1s 14ms/step - loss: 0.3876 - accuracy: 0.8378 - val_loss: 0.5166 - val_accuracy: 0.7894\n",
      "Epoch 124/200\n",
      "83/86 [===========================>..] - ETA: 0s - loss: 0.3902 - accuracy: 0.8438\n",
      "Epoch 124: val_loss did not improve from 0.45613\n",
      "86/86 [==============================] - 1s 11ms/step - loss: 0.3878 - accuracy: 0.8455 - val_loss: 0.5320 - val_accuracy: 0.7928\n",
      "Epoch 125/200\n",
      "82/86 [===========================>..] - ETA: 0s - loss: 0.3792 - accuracy: 0.8449\n",
      "Epoch 125: val_loss did not improve from 0.45613\n",
      "86/86 [==============================] - 1s 11ms/step - loss: 0.3782 - accuracy: 0.8455 - val_loss: 0.5466 - val_accuracy: 0.7825\n",
      "Epoch 126/200\n",
      "83/86 [===========================>..] - ETA: 0s - loss: 0.3737 - accuracy: 0.8445\n",
      "Epoch 126: val_loss did not improve from 0.45613\n",
      "86/86 [==============================] - 1s 11ms/step - loss: 0.3764 - accuracy: 0.8429 - val_loss: 0.5412 - val_accuracy: 0.7894\n",
      "Epoch 127/200\n",
      "82/86 [===========================>..] - ETA: 0s - loss: 0.3744 - accuracy: 0.8411\n",
      "Epoch 127: val_loss did not improve from 0.45613\n",
      "86/86 [==============================] - 1s 12ms/step - loss: 0.3754 - accuracy: 0.8400 - val_loss: 0.5329 - val_accuracy: 0.7825\n",
      "Epoch 128/200\n",
      "84/86 [============================>.] - ETA: 0s - loss: 0.3768 - accuracy: 0.8467\n",
      "Epoch 128: val_loss did not improve from 0.45613\n",
      "86/86 [==============================] - 1s 13ms/step - loss: 0.3762 - accuracy: 0.8470 - val_loss: 0.5143 - val_accuracy: 0.7928\n",
      "Epoch 129/200\n",
      "82/86 [===========================>..] - ETA: 0s - loss: 0.3811 - accuracy: 0.8422\n",
      "Epoch 129: val_loss did not improve from 0.45613\n",
      "86/86 [==============================] - 1s 14ms/step - loss: 0.3786 - accuracy: 0.8429 - val_loss: 0.5363 - val_accuracy: 0.7808\n",
      "Epoch 130/200\n",
      "86/86 [==============================] - ETA: 0s - loss: 0.3763 - accuracy: 0.8521\n",
      "Epoch 130: val_loss did not improve from 0.45613\n",
      "86/86 [==============================] - 1s 14ms/step - loss: 0.3763 - accuracy: 0.8521 - val_loss: 0.5171 - val_accuracy: 0.8031\n",
      "Epoch 131/200\n",
      "82/86 [===========================>..] - ETA: 0s - loss: 0.3831 - accuracy: 0.8377\n",
      "Epoch 131: val_loss did not improve from 0.45613\n",
      "86/86 [==============================] - 1s 12ms/step - loss: 0.3790 - accuracy: 0.8393 - val_loss: 0.5358 - val_accuracy: 0.7945\n",
      "Epoch 132/200\n",
      "86/86 [==============================] - ETA: 0s - loss: 0.3755 - accuracy: 0.8477\n",
      "Epoch 132: val_loss did not improve from 0.45613\n",
      "86/86 [==============================] - 1s 11ms/step - loss: 0.3755 - accuracy: 0.8477 - val_loss: 0.5320 - val_accuracy: 0.7877\n",
      "Epoch 133/200\n",
      "83/86 [===========================>..] - ETA: 0s - loss: 0.3771 - accuracy: 0.8483\n",
      "Epoch 133: val_loss did not improve from 0.45613\n",
      "86/86 [==============================] - 1s 12ms/step - loss: 0.3795 - accuracy: 0.8473 - val_loss: 0.5249 - val_accuracy: 0.7962\n",
      "Epoch 134/200\n",
      "81/86 [===========================>..] - ETA: 0s - loss: 0.3772 - accuracy: 0.8457\n",
      "Epoch 134: val_loss did not improve from 0.45613\n",
      "86/86 [==============================] - 1s 12ms/step - loss: 0.3771 - accuracy: 0.8459 - val_loss: 0.5357 - val_accuracy: 0.7962\n",
      "Epoch 135/200\n",
      "82/86 [===========================>..] - ETA: 0s - loss: 0.3705 - accuracy: 0.8438\n",
      "Epoch 135: val_loss did not improve from 0.45613\n",
      "86/86 [==============================] - 1s 10ms/step - loss: 0.3731 - accuracy: 0.8426 - val_loss: 0.5129 - val_accuracy: 0.7894\n",
      "Epoch 136/200\n",
      "80/86 [==========================>...] - ETA: 0s - loss: 0.3790 - accuracy: 0.8461\n",
      "Epoch 136: val_loss did not improve from 0.45613\n",
      "86/86 [==============================] - 1s 9ms/step - loss: 0.3811 - accuracy: 0.8451 - val_loss: 0.5478 - val_accuracy: 0.7928\n",
      "Epoch 137/200\n",
      "86/86 [==============================] - ETA: 0s - loss: 0.3684 - accuracy: 0.8488\n",
      "Epoch 137: val_loss did not improve from 0.45613\n",
      "86/86 [==============================] - 1s 10ms/step - loss: 0.3684 - accuracy: 0.8488 - val_loss: 0.5556 - val_accuracy: 0.8014\n",
      "Epoch 138/200\n",
      "86/86 [==============================] - ETA: 0s - loss: 0.3662 - accuracy: 0.8459\n",
      "Epoch 138: val_loss did not improve from 0.45613\n",
      "86/86 [==============================] - 1s 9ms/step - loss: 0.3662 - accuracy: 0.8459 - val_loss: 0.5902 - val_accuracy: 0.8014\n",
      "Epoch 139/200\n",
      "83/86 [===========================>..] - ETA: 0s - loss: 0.3549 - accuracy: 0.8558\n",
      "Epoch 139: val_loss did not improve from 0.45613\n",
      "86/86 [==============================] - 1s 9ms/step - loss: 0.3590 - accuracy: 0.8539 - val_loss: 0.5569 - val_accuracy: 0.8065\n",
      "Epoch 140/200\n",
      "84/86 [============================>.] - ETA: 0s - loss: 0.3684 - accuracy: 0.8534\n",
      "Epoch 140: val_loss did not improve from 0.45613\n",
      "86/86 [==============================] - 1s 9ms/step - loss: 0.3711 - accuracy: 0.8514 - val_loss: 0.5248 - val_accuracy: 0.7911\n",
      "Epoch 141/200\n",
      "82/86 [===========================>..] - ETA: 0s - loss: 0.3694 - accuracy: 0.8472\n",
      "Epoch 141: val_loss did not improve from 0.45613\n",
      "86/86 [==============================] - 1s 9ms/step - loss: 0.3699 - accuracy: 0.8473 - val_loss: 0.5582 - val_accuracy: 0.7928\n",
      "Epoch 142/200\n",
      "83/86 [===========================>..] - ETA: 0s - loss: 0.3676 - accuracy: 0.8475\n",
      "Epoch 142: val_loss did not improve from 0.45613\n",
      "86/86 [==============================] - 1s 9ms/step - loss: 0.3685 - accuracy: 0.8477 - val_loss: 0.5413 - val_accuracy: 0.8082\n",
      "Epoch 143/200\n",
      "86/86 [==============================] - ETA: 0s - loss: 0.3730 - accuracy: 0.8440\n",
      "Epoch 143: val_loss did not improve from 0.45613\n",
      "86/86 [==============================] - 1s 9ms/step - loss: 0.3730 - accuracy: 0.8440 - val_loss: 0.5653 - val_accuracy: 0.7997\n",
      "Epoch 144/200\n",
      "81/86 [===========================>..] - ETA: 0s - loss: 0.3747 - accuracy: 0.8492\n",
      "Epoch 144: val_loss did not improve from 0.45613\n",
      "86/86 [==============================] - 1s 10ms/step - loss: 0.3725 - accuracy: 0.8503 - val_loss: 0.5715 - val_accuracy: 0.8014\n",
      "Epoch 145/200\n",
      "84/86 [============================>.] - ETA: 0s - loss: 0.3796 - accuracy: 0.8452\n",
      "Epoch 145: val_loss did not improve from 0.45613\n",
      "86/86 [==============================] - 1s 10ms/step - loss: 0.3779 - accuracy: 0.8470 - val_loss: 0.5216 - val_accuracy: 0.7928\n",
      "Epoch 146/200\n",
      "82/86 [===========================>..] - ETA: 0s - loss: 0.3658 - accuracy: 0.8476\n",
      "Epoch 146: val_loss did not improve from 0.45613\n",
      "86/86 [==============================] - 1s 9ms/step - loss: 0.3644 - accuracy: 0.8481 - val_loss: 0.5182 - val_accuracy: 0.8048\n",
      "Epoch 147/200\n",
      "86/86 [==============================] - ETA: 0s - loss: 0.3645 - accuracy: 0.8492\n",
      "Epoch 147: val_loss did not improve from 0.45613\n",
      "86/86 [==============================] - 1s 9ms/step - loss: 0.3645 - accuracy: 0.8492 - val_loss: 0.5358 - val_accuracy: 0.7877\n",
      "Epoch 148/200\n",
      "83/86 [===========================>..] - ETA: 0s - loss: 0.3630 - accuracy: 0.8532\n",
      "Epoch 148: val_loss did not improve from 0.45613\n",
      "86/86 [==============================] - 1s 9ms/step - loss: 0.3682 - accuracy: 0.8506 - val_loss: 0.5338 - val_accuracy: 0.7757\n",
      "Epoch 149/200\n",
      "84/86 [============================>.] - ETA: 0s - loss: 0.3718 - accuracy: 0.8464\n",
      "Epoch 149: val_loss did not improve from 0.45613\n",
      "86/86 [==============================] - 1s 10ms/step - loss: 0.3742 - accuracy: 0.8451 - val_loss: 0.5299 - val_accuracy: 0.7997\n",
      "Epoch 150/200\n",
      "80/86 [==========================>...] - ETA: 0s - loss: 0.3635 - accuracy: 0.8500\n",
      "Epoch 150: val_loss did not improve from 0.45613\n",
      "86/86 [==============================] - 1s 10ms/step - loss: 0.3643 - accuracy: 0.8492 - val_loss: 0.5960 - val_accuracy: 0.7997\n",
      "Epoch 151/200\n",
      "86/86 [==============================] - ETA: 0s - loss: 0.3632 - accuracy: 0.8448\n",
      "Epoch 151: val_loss did not improve from 0.45613\n",
      "86/86 [==============================] - 1s 9ms/step - loss: 0.3632 - accuracy: 0.8448 - val_loss: 0.6078 - val_accuracy: 0.7842\n",
      "Epoch 152/200\n",
      "84/86 [============================>.] - ETA: 0s - loss: 0.3727 - accuracy: 0.8490\n",
      "Epoch 152: val_loss did not improve from 0.45613\n",
      "86/86 [==============================] - 1s 11ms/step - loss: 0.3723 - accuracy: 0.8492 - val_loss: 0.5391 - val_accuracy: 0.8014\n",
      "Epoch 153/200\n",
      "82/86 [===========================>..] - ETA: 0s - loss: 0.3525 - accuracy: 0.8571\n",
      "Epoch 153: val_loss did not improve from 0.45613\n",
      "86/86 [==============================] - 1s 10ms/step - loss: 0.3551 - accuracy: 0.8554 - val_loss: 0.6133 - val_accuracy: 0.7979\n",
      "Epoch 154/200\n",
      "85/86 [============================>.] - ETA: 0s - loss: 0.3660 - accuracy: 0.8496\n",
      "Epoch 154: val_loss did not improve from 0.45613\n",
      "86/86 [==============================] - 1s 10ms/step - loss: 0.3669 - accuracy: 0.8488 - val_loss: 0.5424 - val_accuracy: 0.8031\n",
      "Epoch 155/200\n",
      "83/86 [===========================>..] - ETA: 0s - loss: 0.3723 - accuracy: 0.8490\n",
      "Epoch 155: val_loss did not improve from 0.45613\n",
      "86/86 [==============================] - 1s 9ms/step - loss: 0.3731 - accuracy: 0.8488 - val_loss: 0.5987 - val_accuracy: 0.7997\n",
      "Epoch 156/200\n",
      "81/86 [===========================>..] - ETA: 0s - loss: 0.3624 - accuracy: 0.8549\n",
      "Epoch 156: val_loss did not improve from 0.45613\n",
      "86/86 [==============================] - 1s 9ms/step - loss: 0.3626 - accuracy: 0.8550 - val_loss: 0.5356 - val_accuracy: 0.7997\n",
      "Epoch 157/200\n",
      "82/86 [===========================>..] - ETA: 0s - loss: 0.3676 - accuracy: 0.8548\n",
      "Epoch 157: val_loss did not improve from 0.45613\n",
      "86/86 [==============================] - 1s 9ms/step - loss: 0.3666 - accuracy: 0.8558 - val_loss: 0.5546 - val_accuracy: 0.8014\n",
      "Epoch 158/200\n",
      "85/86 [============================>.] - ETA: 0s - loss: 0.3734 - accuracy: 0.8485\n",
      "Epoch 158: val_loss did not improve from 0.45613\n",
      "86/86 [==============================] - 1s 10ms/step - loss: 0.3732 - accuracy: 0.8488 - val_loss: 0.5504 - val_accuracy: 0.7962\n",
      "Epoch 159/200\n",
      "81/86 [===========================>..] - ETA: 0s - loss: 0.3637 - accuracy: 0.8507\n",
      "Epoch 159: val_loss did not improve from 0.45613\n",
      "86/86 [==============================] - 1s 10ms/step - loss: 0.3642 - accuracy: 0.8495 - val_loss: 0.5855 - val_accuracy: 0.7928\n",
      "Epoch 160/200\n",
      "81/86 [===========================>..] - ETA: 0s - loss: 0.3619 - accuracy: 0.8588\n",
      "Epoch 160: val_loss did not improve from 0.45613\n",
      "86/86 [==============================] - 1s 10ms/step - loss: 0.3624 - accuracy: 0.8580 - val_loss: 0.6007 - val_accuracy: 0.7928\n",
      "Epoch 161/200\n",
      "82/86 [===========================>..] - ETA: 0s - loss: 0.3635 - accuracy: 0.8544\n",
      "Epoch 161: val_loss did not improve from 0.45613\n",
      "86/86 [==============================] - 1s 10ms/step - loss: 0.3624 - accuracy: 0.8543 - val_loss: 0.5803 - val_accuracy: 0.8014\n",
      "Epoch 162/200\n",
      "86/86 [==============================] - ETA: 0s - loss: 0.3524 - accuracy: 0.8569\n",
      "Epoch 162: val_loss did not improve from 0.45613\n",
      "86/86 [==============================] - 1s 11ms/step - loss: 0.3524 - accuracy: 0.8569 - val_loss: 0.5734 - val_accuracy: 0.7997\n",
      "Epoch 163/200\n",
      "81/86 [===========================>..] - ETA: 0s - loss: 0.3534 - accuracy: 0.8654\n",
      "Epoch 163: val_loss did not improve from 0.45613\n",
      "86/86 [==============================] - 1s 9ms/step - loss: 0.3538 - accuracy: 0.8642 - val_loss: 0.5723 - val_accuracy: 0.8031\n",
      "Epoch 164/200\n",
      "82/86 [===========================>..] - ETA: 0s - loss: 0.3650 - accuracy: 0.8491\n",
      "Epoch 164: val_loss did not improve from 0.45613\n",
      "86/86 [==============================] - 1s 9ms/step - loss: 0.3648 - accuracy: 0.8492 - val_loss: 0.5694 - val_accuracy: 0.8014\n",
      "Epoch 165/200\n",
      "83/86 [===========================>..] - ETA: 0s - loss: 0.3571 - accuracy: 0.8535\n",
      "Epoch 165: val_loss did not improve from 0.45613\n",
      "86/86 [==============================] - 1s 10ms/step - loss: 0.3553 - accuracy: 0.8543 - val_loss: 0.6345 - val_accuracy: 0.7894\n",
      "Epoch 166/200\n",
      "81/86 [===========================>..] - ETA: 0s - loss: 0.3591 - accuracy: 0.8576\n",
      "Epoch 166: val_loss did not improve from 0.45613\n",
      "86/86 [==============================] - 1s 9ms/step - loss: 0.3609 - accuracy: 0.8554 - val_loss: 0.5716 - val_accuracy: 0.7911\n",
      "Epoch 167/200\n",
      "83/86 [===========================>..] - ETA: 0s - loss: 0.3559 - accuracy: 0.8569\n",
      "Epoch 167: val_loss did not improve from 0.45613\n",
      "86/86 [==============================] - 1s 10ms/step - loss: 0.3576 - accuracy: 0.8561 - val_loss: 0.5761 - val_accuracy: 0.7997\n",
      "Epoch 168/200\n",
      "83/86 [===========================>..] - ETA: 0s - loss: 0.3495 - accuracy: 0.8599\n",
      "Epoch 168: val_loss did not improve from 0.45613\n",
      "86/86 [==============================] - 1s 9ms/step - loss: 0.3481 - accuracy: 0.8609 - val_loss: 0.5904 - val_accuracy: 0.7894\n",
      "Epoch 169/200\n",
      "84/86 [============================>.] - ETA: 0s - loss: 0.3548 - accuracy: 0.8568\n",
      "Epoch 169: val_loss did not improve from 0.45613\n",
      "86/86 [==============================] - 1s 10ms/step - loss: 0.3540 - accuracy: 0.8572 - val_loss: 0.6313 - val_accuracy: 0.7791\n",
      "Epoch 170/200\n",
      "86/86 [==============================] - ETA: 0s - loss: 0.3429 - accuracy: 0.8635\n",
      "Epoch 170: val_loss did not improve from 0.45613\n",
      "86/86 [==============================] - 1s 9ms/step - loss: 0.3429 - accuracy: 0.8635 - val_loss: 0.6495 - val_accuracy: 0.8099\n",
      "Epoch 171/200\n",
      "84/86 [============================>.] - ETA: 0s - loss: 0.3480 - accuracy: 0.8624\n",
      "Epoch 171: val_loss did not improve from 0.45613\n",
      "86/86 [==============================] - 1s 10ms/step - loss: 0.3485 - accuracy: 0.8624 - val_loss: 0.5809 - val_accuracy: 0.7945\n",
      "Epoch 172/200\n",
      "83/86 [===========================>..] - ETA: 0s - loss: 0.3560 - accuracy: 0.8607\n",
      "Epoch 172: val_loss did not improve from 0.45613\n",
      "86/86 [==============================] - 1s 10ms/step - loss: 0.3553 - accuracy: 0.8613 - val_loss: 0.6081 - val_accuracy: 0.7894\n",
      "Epoch 173/200\n",
      "86/86 [==============================] - ETA: 0s - loss: 0.3472 - accuracy: 0.8613\n",
      "Epoch 173: val_loss did not improve from 0.45613\n",
      "86/86 [==============================] - 1s 10ms/step - loss: 0.3472 - accuracy: 0.8613 - val_loss: 0.6268 - val_accuracy: 0.7894\n",
      "Epoch 174/200\n",
      "86/86 [==============================] - ETA: 0s - loss: 0.3478 - accuracy: 0.8598\n",
      "Epoch 174: val_loss did not improve from 0.45613\n",
      "86/86 [==============================] - 1s 10ms/step - loss: 0.3478 - accuracy: 0.8598 - val_loss: 0.6062 - val_accuracy: 0.7979\n",
      "Epoch 175/200\n",
      "85/86 [============================>.] - ETA: 0s - loss: 0.3709 - accuracy: 0.8544\n",
      "Epoch 175: val_loss did not improve from 0.45613\n",
      "86/86 [==============================] - 1s 9ms/step - loss: 0.3704 - accuracy: 0.8547 - val_loss: 0.5875 - val_accuracy: 0.7894\n",
      "Epoch 176/200\n",
      "80/86 [==========================>...] - ETA: 0s - loss: 0.3521 - accuracy: 0.8570\n",
      "Epoch 176: val_loss did not improve from 0.45613\n",
      "86/86 [==============================] - 1s 9ms/step - loss: 0.3563 - accuracy: 0.8543 - val_loss: 0.5575 - val_accuracy: 0.7979\n",
      "Epoch 177/200\n",
      "84/86 [============================>.] - ETA: 0s - loss: 0.3450 - accuracy: 0.8635\n",
      "Epoch 177: val_loss did not improve from 0.45613\n",
      "86/86 [==============================] - 1s 9ms/step - loss: 0.3444 - accuracy: 0.8642 - val_loss: 0.5532 - val_accuracy: 0.7962\n",
      "Epoch 178/200\n",
      "80/86 [==========================>...] - ETA: 0s - loss: 0.3543 - accuracy: 0.8598\n",
      "Epoch 178: val_loss did not improve from 0.45613\n",
      "86/86 [==============================] - 1s 9ms/step - loss: 0.3538 - accuracy: 0.8594 - val_loss: 0.5298 - val_accuracy: 0.7979\n",
      "Epoch 179/200\n",
      "84/86 [============================>.] - ETA: 0s - loss: 0.3536 - accuracy: 0.8575\n",
      "Epoch 179: val_loss did not improve from 0.45613\n",
      "86/86 [==============================] - 1s 10ms/step - loss: 0.3518 - accuracy: 0.8580 - val_loss: 0.5666 - val_accuracy: 0.7962\n",
      "Epoch 180/200\n",
      "84/86 [============================>.] - ETA: 0s - loss: 0.3468 - accuracy: 0.8635\n",
      "Epoch 180: val_loss did not improve from 0.45613\n",
      "86/86 [==============================] - 1s 9ms/step - loss: 0.3451 - accuracy: 0.8642 - val_loss: 0.5807 - val_accuracy: 0.7911\n",
      "Epoch 181/200\n",
      "84/86 [============================>.] - ETA: 0s - loss: 0.3386 - accuracy: 0.8646\n",
      "Epoch 181: val_loss did not improve from 0.45613\n",
      "86/86 [==============================] - 1s 10ms/step - loss: 0.3399 - accuracy: 0.8646 - val_loss: 0.6287 - val_accuracy: 0.7945\n",
      "Epoch 182/200\n",
      "83/86 [===========================>..] - ETA: 0s - loss: 0.3545 - accuracy: 0.8524\n",
      "Epoch 182: val_loss did not improve from 0.45613\n",
      "86/86 [==============================] - 1s 9ms/step - loss: 0.3571 - accuracy: 0.8514 - val_loss: 0.6091 - val_accuracy: 0.7894\n",
      "Epoch 183/200\n",
      "83/86 [===========================>..] - ETA: 0s - loss: 0.3490 - accuracy: 0.8596\n",
      "Epoch 183: val_loss did not improve from 0.45613\n",
      "86/86 [==============================] - 1s 9ms/step - loss: 0.3468 - accuracy: 0.8609 - val_loss: 0.5655 - val_accuracy: 0.7808\n",
      "Epoch 184/200\n",
      "80/86 [==========================>...] - ETA: 0s - loss: 0.3450 - accuracy: 0.8613\n",
      "Epoch 184: val_loss did not improve from 0.45613\n",
      "86/86 [==============================] - 1s 11ms/step - loss: 0.3455 - accuracy: 0.8613 - val_loss: 0.5788 - val_accuracy: 0.7997\n",
      "Epoch 185/200\n",
      "80/86 [==========================>...] - ETA: 0s - loss: 0.3386 - accuracy: 0.8598\n",
      "Epoch 185: val_loss did not improve from 0.45613\n",
      "86/86 [==============================] - 1s 10ms/step - loss: 0.3391 - accuracy: 0.8602 - val_loss: 0.6106 - val_accuracy: 0.8014\n",
      "Epoch 186/200\n",
      "83/86 [===========================>..] - ETA: 0s - loss: 0.3406 - accuracy: 0.8686\n",
      "Epoch 186: val_loss did not improve from 0.45613\n",
      "86/86 [==============================] - 1s 11ms/step - loss: 0.3395 - accuracy: 0.8694 - val_loss: 0.6322 - val_accuracy: 0.7945\n",
      "Epoch 187/200\n",
      "82/86 [===========================>..] - ETA: 0s - loss: 0.3548 - accuracy: 0.8575\n",
      "Epoch 187: val_loss did not improve from 0.45613\n",
      "86/86 [==============================] - 1s 10ms/step - loss: 0.3516 - accuracy: 0.8587 - val_loss: 0.5997 - val_accuracy: 0.7911\n",
      "Epoch 188/200\n",
      "85/86 [============================>.] - ETA: 0s - loss: 0.3374 - accuracy: 0.8669\n",
      "Epoch 188: val_loss did not improve from 0.45613\n",
      "86/86 [==============================] - 1s 11ms/step - loss: 0.3407 - accuracy: 0.8664 - val_loss: 0.6344 - val_accuracy: 0.7962\n",
      "Epoch 189/200\n",
      "83/86 [===========================>..] - ETA: 0s - loss: 0.3608 - accuracy: 0.8532\n",
      "Epoch 189: val_loss did not improve from 0.45613\n",
      "86/86 [==============================] - 1s 11ms/step - loss: 0.3607 - accuracy: 0.8532 - val_loss: 0.6171 - val_accuracy: 0.7860\n",
      "Epoch 190/200\n",
      "85/86 [============================>.] - ETA: 0s - loss: 0.3499 - accuracy: 0.8566\n",
      "Epoch 190: val_loss did not improve from 0.45613\n",
      "86/86 [==============================] - 1s 11ms/step - loss: 0.3494 - accuracy: 0.8569 - val_loss: 0.6173 - val_accuracy: 0.8031\n",
      "Epoch 191/200\n",
      "86/86 [==============================] - ETA: 0s - loss: 0.3549 - accuracy: 0.8550\n",
      "Epoch 191: val_loss did not improve from 0.45613\n",
      "86/86 [==============================] - 1s 10ms/step - loss: 0.3549 - accuracy: 0.8550 - val_loss: 0.5989 - val_accuracy: 0.7945\n",
      "Epoch 192/200\n",
      "85/86 [============================>.] - ETA: 0s - loss: 0.3443 - accuracy: 0.8640\n",
      "Epoch 192: val_loss did not improve from 0.45613\n",
      "86/86 [==============================] - 1s 9ms/step - loss: 0.3438 - accuracy: 0.8642 - val_loss: 0.6692 - val_accuracy: 0.7688\n",
      "Epoch 193/200\n",
      "84/86 [============================>.] - ETA: 0s - loss: 0.3491 - accuracy: 0.8653\n",
      "Epoch 193: val_loss did not improve from 0.45613\n",
      "86/86 [==============================] - 1s 9ms/step - loss: 0.3500 - accuracy: 0.8642 - val_loss: 0.5316 - val_accuracy: 0.7894\n",
      "Epoch 194/200\n",
      "84/86 [============================>.] - ETA: 0s - loss: 0.3502 - accuracy: 0.8568\n",
      "Epoch 194: val_loss did not improve from 0.45613\n",
      "86/86 [==============================] - 1s 10ms/step - loss: 0.3507 - accuracy: 0.8569 - val_loss: 0.5748 - val_accuracy: 0.7945\n",
      "Epoch 195/200\n",
      "84/86 [============================>.] - ETA: 0s - loss: 0.3377 - accuracy: 0.8650\n",
      "Epoch 195: val_loss did not improve from 0.45613\n",
      "86/86 [==============================] - 1s 10ms/step - loss: 0.3358 - accuracy: 0.8661 - val_loss: 0.5813 - val_accuracy: 0.7928\n",
      "Epoch 196/200\n",
      "83/86 [===========================>..] - ETA: 0s - loss: 0.3450 - accuracy: 0.8622\n",
      "Epoch 196: val_loss did not improve from 0.45613\n",
      "86/86 [==============================] - 1s 9ms/step - loss: 0.3469 - accuracy: 0.8606 - val_loss: 0.6001 - val_accuracy: 0.7945\n",
      "Epoch 197/200\n",
      "82/86 [===========================>..] - ETA: 0s - loss: 0.3560 - accuracy: 0.8518\n",
      "Epoch 197: val_loss did not improve from 0.45613\n",
      "86/86 [==============================] - 1s 9ms/step - loss: 0.3577 - accuracy: 0.8506 - val_loss: 0.5412 - val_accuracy: 0.8014\n",
      "Epoch 198/200\n",
      "81/86 [===========================>..] - ETA: 0s - loss: 0.3376 - accuracy: 0.8569\n",
      "Epoch 198: val_loss did not improve from 0.45613\n",
      "86/86 [==============================] - 1s 9ms/step - loss: 0.3378 - accuracy: 0.8558 - val_loss: 0.6868 - val_accuracy: 0.7962\n",
      "Epoch 199/200\n",
      "82/86 [===========================>..] - ETA: 0s - loss: 0.3506 - accuracy: 0.8582\n",
      "Epoch 199: val_loss did not improve from 0.45613\n",
      "86/86 [==============================] - 1s 10ms/step - loss: 0.3486 - accuracy: 0.8591 - val_loss: 0.6426 - val_accuracy: 0.7911\n",
      "Epoch 200/200\n",
      "82/86 [===========================>..] - ETA: 0s - loss: 0.3429 - accuracy: 0.8620\n",
      "Epoch 200: val_loss did not improve from 0.45613\n",
      "86/86 [==============================] - 1s 9ms/step - loss: 0.3399 - accuracy: 0.8635 - val_loss: 0.6421 - val_accuracy: 0.7979\n",
      "Training completed in time:  0:03:14.416560\n"
     ]
    }
   ],
   "source": [
    "# Train the model\n",
    "from tensorflow.keras.callbacks import ModelCheckpoint\n",
    "from datetime import datetime \n",
    "\n",
    "num_epochs = 200\n",
    "num_batch_size = 32\n",
    "\n",
    "checkpointer = ModelCheckpoint(filepath='audio_classification_v3.0.hdf5', verbose=1, save_best_only=True)\n",
    "start = datetime.now()\n",
    "\n",
    "model.fit(X_train, y_train, batch_size=num_batch_size, epochs=num_epochs, validation_data=(X_val, y_val), callbacks=[checkpointer], verbose=1)\n",
    "\n",
    "\n",
    "duration = datetime.now() - start\n",
    "print(\"Training completed in time: \", duration)"
   ]
  },
  {
   "cell_type": "code",
   "execution_count": 45,
   "metadata": {},
   "outputs": [
    {
     "name": "stdout",
     "output_type": "stream",
     "text": [
      "0.7948718070983887\n"
     ]
    }
   ],
   "source": [
    "# Check accuracy\n",
    "test_accuracy=model.evaluate(X_test,y_test,verbose=0)\n",
    "print(test_accuracy[1])"
   ]
  },
  {
   "cell_type": "code",
   "execution_count": 46,
   "metadata": {},
   "outputs": [
    {
     "data": {
      "text/plain": [
       "array([-3.93368225e+02,  6.19166145e+01, -1.18123102e+01,  1.24733381e+01,\n",
       "       -2.04239826e+01,  4.88343894e-01, -1.60470066e+01, -6.41277742e+00,\n",
       "       -1.00945244e+01, -3.87368941e+00, -2.12993956e+00, -9.85071754e+00,\n",
       "        1.66219723e+00, -7.17612982e+00,  1.01281452e+00, -5.07499266e+00,\n",
       "       -2.87096715e+00, -2.62793350e+00, -4.56559610e+00,  2.12320614e+00,\n",
       "        2.03287005e+00,  9.79424286e+00,  1.52478943e+01,  1.95722923e+01,\n",
       "        7.83720732e+00,  1.25137067e+00,  9.33553636e-01,  2.18274450e+00,\n",
       "        2.56465507e+00,  6.07995272e-01,  2.88458109e-01,  1.45646557e-01,\n",
       "        1.17428996e-01,  1.53275549e-01,  2.80597121e-01,  8.10180977e-02,\n",
       "        1.47207648e-01,  7.37456232e-02,  7.26600701e-04,  1.59219073e-08],\n",
       "      dtype=float32)"
      ]
     },
     "execution_count": 46,
     "metadata": {},
     "output_type": "execute_result"
    }
   ],
   "source": [
    "X_test[1]"
   ]
  },
  {
   "cell_type": "code",
   "execution_count": 48,
   "metadata": {},
   "outputs": [
    {
     "name": "stdout",
     "output_type": "stream",
     "text": [
      "19/19 [==============================] - 0s 3ms/step\n"
     ]
    },
    {
     "data": {
      "text/plain": [
       "array([[0.92391104, 0.07608894],\n",
       "       [0.7785867 , 0.22141328],\n",
       "       [0.95422995, 0.04577005],\n",
       "       ...,\n",
       "       [0.91480887, 0.08519111],\n",
       "       [0.92381835, 0.07618158],\n",
       "       [0.06672721, 0.93327284]], dtype=float32)"
      ]
     },
     "execution_count": 48,
     "metadata": {},
     "output_type": "execute_result"
    }
   ],
   "source": [
    "model.predict(X_test)"
   ]
  },
  {
   "cell_type": "code",
   "execution_count": 49,
   "metadata": {},
   "outputs": [
    {
     "name": "stdout",
     "output_type": "stream",
     "text": [
      "19/19 [==============================] - 0s 3ms/step\n"
     ]
    }
   ],
   "source": [
    "import numpy as np\n",
    "from sklearn.metrics import classification_report\n",
    "\n",
    "# Assuming you have already trained your ANN model and obtained the predictions and true labels\n",
    "predictions = model.predict(X_test)  # Replace X_test with your test data\n",
    "predicted_labels = np.argmax(predictions, axis=1)\n",
    "true_labels = np.argmax(y_test, axis=1)  # Replace y_test with your true labels"
   ]
  },
  {
   "cell_type": "code",
   "execution_count": 50,
   "metadata": {},
   "outputs": [
    {
     "name": "stdout",
     "output_type": "stream",
     "text": [
      "              precision    recall  f1-score   support\n",
      "\n",
      "           0       0.80      0.95      0.87       416\n",
      "           1       0.77      0.41      0.54       169\n",
      "\n",
      "    accuracy                           0.79       585\n",
      "   macro avg       0.78      0.68      0.70       585\n",
      "weighted avg       0.79      0.79      0.77       585\n",
      "\n"
     ]
    }
   ],
   "source": [
    "# Calculate precision, recall, and F1 score\n",
    "report = classification_report(true_labels, predicted_labels)\n",
    "\n",
    "# Print the classification report\n",
    "print(report)"
   ]
  },
  {
   "cell_type": "code",
   "execution_count": null,
   "metadata": {},
   "outputs": [],
   "source": []
  },
  {
   "cell_type": "code",
   "execution_count": null,
   "metadata": {},
   "outputs": [],
   "source": [
    "# BUILD A CNN MODEL"
   ]
  },
  {
   "cell_type": "code",
   "execution_count": null,
   "metadata": {},
   "outputs": [],
   "source": [
    "# Preprocess the data to match proper input shape for CNN"
   ]
  },
  {
   "cell_type": "code",
   "execution_count": null,
   "metadata": {},
   "outputs": [],
   "source": [
    "# Define the Model"
   ]
  },
  {
   "cell_type": "code",
   "execution_count": null,
   "metadata": {},
   "outputs": [],
   "source": [
    "# Compile the model with loss and optimizer"
   ]
  },
  {
   "cell_type": "code",
   "execution_count": null,
   "metadata": {},
   "outputs": [],
   "source": [
    "# Train the model"
   ]
  },
  {
   "cell_type": "code",
   "execution_count": null,
   "metadata": {},
   "outputs": [],
   "source": [
    "# Check the accuracy score"
   ]
  },
  {
   "cell_type": "code",
   "execution_count": null,
   "metadata": {},
   "outputs": [],
   "source": []
  },
  {
   "cell_type": "code",
   "execution_count": null,
   "metadata": {},
   "outputs": [],
   "source": [
    "# BUILD A LSTM MODEL"
   ]
  },
  {
   "cell_type": "code",
   "execution_count": null,
   "metadata": {},
   "outputs": [],
   "source": [
    "# Preprocess the data to match proper input shape for LSTM"
   ]
  },
  {
   "cell_type": "code",
   "execution_count": null,
   "metadata": {},
   "outputs": [],
   "source": [
    "# Define the Model"
   ]
  },
  {
   "cell_type": "code",
   "execution_count": null,
   "metadata": {},
   "outputs": [],
   "source": [
    "# Compile the model with loss and optimizer\n"
   ]
  },
  {
   "cell_type": "code",
   "execution_count": null,
   "metadata": {},
   "outputs": [],
   "source": [
    "# Train the model"
   ]
  },
  {
   "cell_type": "code",
   "execution_count": null,
   "metadata": {},
   "outputs": [],
   "source": [
    "# Check the accuracy score\n"
   ]
  },
  {
   "cell_type": "code",
   "execution_count": null,
   "metadata": {},
   "outputs": [],
   "source": []
  },
  {
   "cell_type": "code",
   "execution_count": null,
   "metadata": {},
   "outputs": [],
   "source": []
  }
 ],
 "metadata": {
  "kernelspec": {
   "display_name": "gendev",
   "language": "python",
   "name": "python3"
  },
  "language_info": {
   "codemirror_mode": {
    "name": "ipython",
    "version": 3
   },
   "file_extension": ".py",
   "mimetype": "text/x-python",
   "name": "python",
   "nbconvert_exporter": "python",
   "pygments_lexer": "ipython3",
   "version": "3.8.13"
  },
  "orig_nbformat": 4
 },
 "nbformat": 4,
 "nbformat_minor": 2
}
