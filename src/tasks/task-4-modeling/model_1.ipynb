{
 "cells": [
  {
   "cell_type": "code",
   "execution_count": 120,
   "metadata": {},
   "outputs": [],
   "source": [
    "import pandas as pd\n",
    "import os\n",
    "import numpy as np\n",
    "import IPython.display as ipd\n",
    "import librosa\n",
    "import librosa.display\n",
    "import matplotlib.pyplot as plt\n",
    "%matplotlib inline"
   ]
  },
  {
   "cell_type": "code",
   "execution_count": null,
   "metadata": {},
   "outputs": [],
   "source": [
    "# Download dataset from \"https://www.kaggle.com/datasets/nasrulhakim86/coughvid-wav\"\n",
    "# Extract it and add the location paths"
   ]
  },
  {
   "cell_type": "code",
   "execution_count": 121,
   "metadata": {},
   "outputs": [],
   "source": [
    "audio_dataset_path = 'D:/work3/Omdena/NewDelhi_Chapter/data/archive/public_dataset/'\n",
    "metadata_file_path = 'D:/work3/Omdena/NewDelhi_Chapter/data/archive/public_dataset/metadata_compiled.csv'"
   ]
  },
  {
   "cell_type": "code",
   "execution_count": 122,
   "metadata": {},
   "outputs": [
    {
     "data": {
      "text/html": [
       "<div>\n",
       "<style scoped>\n",
       "    .dataframe tbody tr th:only-of-type {\n",
       "        vertical-align: middle;\n",
       "    }\n",
       "\n",
       "    .dataframe tbody tr th {\n",
       "        vertical-align: top;\n",
       "    }\n",
       "\n",
       "    .dataframe thead th {\n",
       "        text-align: right;\n",
       "    }\n",
       "</style>\n",
       "<table border=\"1\" class=\"dataframe\">\n",
       "  <thead>\n",
       "    <tr style=\"text-align: right;\">\n",
       "      <th></th>\n",
       "      <th>uuid</th>\n",
       "      <th>datetime</th>\n",
       "      <th>cough_detected</th>\n",
       "      <th>SNR</th>\n",
       "      <th>latitude</th>\n",
       "      <th>longitude</th>\n",
       "      <th>age</th>\n",
       "      <th>gender</th>\n",
       "      <th>respiratory_condition</th>\n",
       "      <th>fever_muscle_pain</th>\n",
       "      <th>...</th>\n",
       "      <th>quality_4</th>\n",
       "      <th>cough_type_4</th>\n",
       "      <th>dyspnea_4</th>\n",
       "      <th>wheezing_4</th>\n",
       "      <th>stridor_4</th>\n",
       "      <th>choking_4</th>\n",
       "      <th>congestion_4</th>\n",
       "      <th>nothing_4</th>\n",
       "      <th>diagnosis_4</th>\n",
       "      <th>severity_4</th>\n",
       "    </tr>\n",
       "  </thead>\n",
       "  <tbody>\n",
       "    <tr>\n",
       "      <th>0</th>\n",
       "      <td>00014dcc-0f06-4c27-8c7b-737b18a2cf4c</td>\n",
       "      <td>2020-11-25T18:58:50.488301+00:00</td>\n",
       "      <td>0.0155</td>\n",
       "      <td>7.326171</td>\n",
       "      <td>48.9</td>\n",
       "      <td>2.4</td>\n",
       "      <td>NaN</td>\n",
       "      <td>NaN</td>\n",
       "      <td>NaN</td>\n",
       "      <td>NaN</td>\n",
       "      <td>...</td>\n",
       "      <td>NaN</td>\n",
       "      <td>NaN</td>\n",
       "      <td>NaN</td>\n",
       "      <td>NaN</td>\n",
       "      <td>NaN</td>\n",
       "      <td>NaN</td>\n",
       "      <td>NaN</td>\n",
       "      <td>NaN</td>\n",
       "      <td>NaN</td>\n",
       "      <td>NaN</td>\n",
       "    </tr>\n",
       "    <tr>\n",
       "      <th>1</th>\n",
       "      <td>00039425-7f3a-42aa-ac13-834aaa2b6b92</td>\n",
       "      <td>2020-04-13T21:30:59.801831+00:00</td>\n",
       "      <td>0.9609</td>\n",
       "      <td>16.151433</td>\n",
       "      <td>31.3</td>\n",
       "      <td>34.8</td>\n",
       "      <td>15.0</td>\n",
       "      <td>male</td>\n",
       "      <td>False</td>\n",
       "      <td>False</td>\n",
       "      <td>...</td>\n",
       "      <td>NaN</td>\n",
       "      <td>NaN</td>\n",
       "      <td>NaN</td>\n",
       "      <td>NaN</td>\n",
       "      <td>NaN</td>\n",
       "      <td>NaN</td>\n",
       "      <td>NaN</td>\n",
       "      <td>NaN</td>\n",
       "      <td>NaN</td>\n",
       "      <td>NaN</td>\n",
       "    </tr>\n",
       "    <tr>\n",
       "      <th>2</th>\n",
       "      <td>0007c6f1-5441-40e6-9aaf-a761d8f2da3b</td>\n",
       "      <td>2020-10-18T15:38:38.205870+00:00</td>\n",
       "      <td>0.1643</td>\n",
       "      <td>16.217201</td>\n",
       "      <td>NaN</td>\n",
       "      <td>NaN</td>\n",
       "      <td>46.0</td>\n",
       "      <td>female</td>\n",
       "      <td>False</td>\n",
       "      <td>False</td>\n",
       "      <td>...</td>\n",
       "      <td>NaN</td>\n",
       "      <td>NaN</td>\n",
       "      <td>NaN</td>\n",
       "      <td>NaN</td>\n",
       "      <td>NaN</td>\n",
       "      <td>NaN</td>\n",
       "      <td>NaN</td>\n",
       "      <td>NaN</td>\n",
       "      <td>NaN</td>\n",
       "      <td>NaN</td>\n",
       "    </tr>\n",
       "    <tr>\n",
       "      <th>3</th>\n",
       "      <td>0009eb28-d8be-4dc1-92bb-907e53bc5c7a</td>\n",
       "      <td>2020-04-12T04:02:18.159383+00:00</td>\n",
       "      <td>0.9301</td>\n",
       "      <td>20.146058</td>\n",
       "      <td>40.0</td>\n",
       "      <td>-75.1</td>\n",
       "      <td>34.0</td>\n",
       "      <td>male</td>\n",
       "      <td>True</td>\n",
       "      <td>False</td>\n",
       "      <td>...</td>\n",
       "      <td>NaN</td>\n",
       "      <td>NaN</td>\n",
       "      <td>NaN</td>\n",
       "      <td>NaN</td>\n",
       "      <td>NaN</td>\n",
       "      <td>NaN</td>\n",
       "      <td>NaN</td>\n",
       "      <td>NaN</td>\n",
       "      <td>NaN</td>\n",
       "      <td>NaN</td>\n",
       "    </tr>\n",
       "    <tr>\n",
       "      <th>4</th>\n",
       "      <td>0012c608-33d0-4ef7-bde3-75a0b1a0024e</td>\n",
       "      <td>2020-04-15T01:03:59.029326+00:00</td>\n",
       "      <td>0.0482</td>\n",
       "      <td>0.000000</td>\n",
       "      <td>-16.5</td>\n",
       "      <td>-71.5</td>\n",
       "      <td>NaN</td>\n",
       "      <td>NaN</td>\n",
       "      <td>NaN</td>\n",
       "      <td>NaN</td>\n",
       "      <td>...</td>\n",
       "      <td>NaN</td>\n",
       "      <td>NaN</td>\n",
       "      <td>NaN</td>\n",
       "      <td>NaN</td>\n",
       "      <td>NaN</td>\n",
       "      <td>NaN</td>\n",
       "      <td>NaN</td>\n",
       "      <td>NaN</td>\n",
       "      <td>NaN</td>\n",
       "      <td>NaN</td>\n",
       "    </tr>\n",
       "  </tbody>\n",
       "</table>\n",
       "<p>5 rows × 51 columns</p>\n",
       "</div>"
      ],
      "text/plain": [
       "                                   uuid                          datetime  \\\n",
       "0  00014dcc-0f06-4c27-8c7b-737b18a2cf4c  2020-11-25T18:58:50.488301+00:00   \n",
       "1  00039425-7f3a-42aa-ac13-834aaa2b6b92  2020-04-13T21:30:59.801831+00:00   \n",
       "2  0007c6f1-5441-40e6-9aaf-a761d8f2da3b  2020-10-18T15:38:38.205870+00:00   \n",
       "3  0009eb28-d8be-4dc1-92bb-907e53bc5c7a  2020-04-12T04:02:18.159383+00:00   \n",
       "4  0012c608-33d0-4ef7-bde3-75a0b1a0024e  2020-04-15T01:03:59.029326+00:00   \n",
       "\n",
       "   cough_detected        SNR  latitude  longitude   age  gender  \\\n",
       "0          0.0155   7.326171      48.9        2.4   NaN     NaN   \n",
       "1          0.9609  16.151433      31.3       34.8  15.0    male   \n",
       "2          0.1643  16.217201       NaN        NaN  46.0  female   \n",
       "3          0.9301  20.146058      40.0      -75.1  34.0    male   \n",
       "4          0.0482   0.000000     -16.5      -71.5   NaN     NaN   \n",
       "\n",
       "  respiratory_condition fever_muscle_pain  ... quality_4 cough_type_4  \\\n",
       "0                   NaN               NaN  ...       NaN          NaN   \n",
       "1                 False             False  ...       NaN          NaN   \n",
       "2                 False             False  ...       NaN          NaN   \n",
       "3                  True             False  ...       NaN          NaN   \n",
       "4                   NaN               NaN  ...       NaN          NaN   \n",
       "\n",
       "  dyspnea_4 wheezing_4 stridor_4 choking_4 congestion_4 nothing_4 diagnosis_4  \\\n",
       "0       NaN        NaN       NaN       NaN          NaN       NaN         NaN   \n",
       "1       NaN        NaN       NaN       NaN          NaN       NaN         NaN   \n",
       "2       NaN        NaN       NaN       NaN          NaN       NaN         NaN   \n",
       "3       NaN        NaN       NaN       NaN          NaN       NaN         NaN   \n",
       "4       NaN        NaN       NaN       NaN          NaN       NaN         NaN   \n",
       "\n",
       "  severity_4  \n",
       "0        NaN  \n",
       "1        NaN  \n",
       "2        NaN  \n",
       "3        NaN  \n",
       "4        NaN  \n",
       "\n",
       "[5 rows x 51 columns]"
      ]
     },
     "execution_count": 122,
     "metadata": {},
     "output_type": "execute_result"
    }
   ],
   "source": [
    "metadf = pd.read_csv(metadata_file_path)\n",
    "metadf.head()"
   ]
  },
  {
   "cell_type": "code",
   "execution_count": 49,
   "metadata": {},
   "outputs": [
    {
     "name": "stdout",
     "output_type": "stream",
     "text": [
      "Index(['uuid', 'datetime', 'cough_detected', 'SNR', 'latitude', 'longitude',\n",
      "       'age', 'gender', 'respiratory_condition', 'fever_muscle_pain', 'status',\n",
      "       'quality_1', 'cough_type_1', 'dyspnea_1', 'wheezing_1', 'stridor_1',\n",
      "       'choking_1', 'congestion_1', 'nothing_1', 'diagnosis_1', 'severity_1',\n",
      "       'quality_2', 'cough_type_2', 'dyspnea_2', 'wheezing_2', 'stridor_2',\n",
      "       'choking_2', 'congestion_2', 'nothing_2', 'diagnosis_2', 'severity_2',\n",
      "       'quality_3', 'cough_type_3', 'dyspnea_3', 'wheezing_3', 'stridor_3',\n",
      "       'choking_3', 'congestion_3', 'nothing_3', 'diagnosis_3', 'severity_3',\n",
      "       'quality_4', 'cough_type_4', 'dyspnea_4', 'wheezing_4', 'stridor_4',\n",
      "       'choking_4', 'congestion_4', 'nothing_4', 'diagnosis_4', 'severity_4'],\n",
      "      dtype='object')\n"
     ]
    }
   ],
   "source": [
    "print(metadf.columns)"
   ]
  },
  {
   "cell_type": "code",
   "execution_count": 50,
   "metadata": {},
   "outputs": [
    {
     "data": {
      "text/plain": [
       "healthy        12479\n",
       "symptomatic     2590\n",
       "COVID-19        1155\n",
       "Name: status, dtype: int64"
      ]
     },
     "execution_count": 50,
     "metadata": {},
     "output_type": "execute_result"
    }
   ],
   "source": [
    "metadf['status'].value_counts()"
   ]
  },
  {
   "cell_type": "code",
   "execution_count": 310,
   "metadata": {},
   "outputs": [
    {
     "data": {
      "text/plain": [
       "False    13403\n",
       "True      2821\n",
       "Name: respiratory_condition, dtype: int64"
      ]
     },
     "execution_count": 310,
     "metadata": {},
     "output_type": "execute_result"
    }
   ],
   "source": [
    "#metadf['respiratory_condition'].value_counts()"
   ]
  },
  {
   "cell_type": "code",
   "execution_count": 311,
   "metadata": {},
   "outputs": [
    {
     "data": {
      "text/plain": [
       "False    14296\n",
       "True      1928\n",
       "Name: fever_muscle_pain, dtype: int64"
      ]
     },
     "execution_count": 311,
     "metadata": {},
     "output_type": "execute_result"
    }
   ],
   "source": [
    "#metadf['fever_muscle_pain'].value_counts()"
   ]
  },
  {
   "cell_type": "code",
   "execution_count": 312,
   "metadata": {},
   "outputs": [
    {
     "data": {
      "text/plain": [
       "1.0000    2816\n",
       "0.0000     106\n",
       "0.9956      55\n",
       "0.9958      52\n",
       "0.9955      51\n",
       "          ... \n",
       "0.1348       1\n",
       "0.0027       1\n",
       "0.1947       1\n",
       "0.4124       1\n",
       "0.5257       1\n",
       "Name: cough_detected, Length: 7212, dtype: int64"
      ]
     },
     "execution_count": 312,
     "metadata": {},
     "output_type": "execute_result"
    }
   ],
   "source": [
    "#metadf['cough_detected'].value_counts()"
   ]
  },
  {
   "cell_type": "code",
   "execution_count": 51,
   "metadata": {},
   "outputs": [],
   "source": [
    "metadf2 = metadf[((metadf['cough_detected'] > 0.99) & (metadf['status'] == 'healthy')) |\n",
    "                 ((metadf['cough_detected'] > 0) & (metadf['status'] == 'COVID-19')) |\n",
    "                 ((metadf['cough_detected'] > 0) & (metadf['status'] == 'symptomatic'))]"
   ]
  },
  {
   "cell_type": "code",
   "execution_count": 369,
   "metadata": {},
   "outputs": [],
   "source": [
    "# This would create a bit more balanced dataset\n",
    "'''\n",
    "metadf2 = metadf[((metadf['cough_detected'] > 0.996) & (metadf['status'] == 'healthy')) |\n",
    "                 ((metadf['cough_detected'] > 0.5) & (metadf['status'] == 'COVID-19')) |\n",
    "                 ((metadf['cough_detected'] > 0.98) & (metadf['status'] == 'symptomatic'))]\n",
    "'''"
   ]
  },
  {
   "cell_type": "code",
   "execution_count": 52,
   "metadata": {},
   "outputs": [
    {
     "data": {
      "text/plain": [
       "healthy        2761\n",
       "symptomatic    2575\n",
       "COVID-19       1133\n",
       "Name: status, dtype: int64"
      ]
     },
     "execution_count": 52,
     "metadata": {},
     "output_type": "execute_result"
    }
   ],
   "source": [
    "metadf2['status'].value_counts()"
   ]
  },
  {
   "cell_type": "code",
   "execution_count": 389,
   "metadata": {},
   "outputs": [
    {
     "data": {
      "text/plain": [
       "1.0000    2500\n",
       "0.9958      42\n",
       "0.9955      42\n",
       "0.9936      39\n",
       "0.9956      38\n",
       "          ... \n",
       "0.8955       1\n",
       "0.0260       1\n",
       "0.5336       1\n",
       "0.3786       1\n",
       "0.5257       1\n",
       "Name: cough_detected, Length: 1581, dtype: int64"
      ]
     },
     "execution_count": 389,
     "metadata": {},
     "output_type": "execute_result"
    }
   ],
   "source": [
    "#metadf2['cough_detected'].value_counts()"
   ]
  },
  {
   "cell_type": "code",
   "execution_count": 316,
   "metadata": {},
   "outputs": [
    {
     "data": {
      "text/plain": [
       "False    2878\n",
       "True      982\n",
       "Name: respiratory_condition, dtype: int64"
      ]
     },
     "execution_count": 316,
     "metadata": {},
     "output_type": "execute_result"
    }
   ],
   "source": [
    "#metadf2['respiratory_condition'].value_counts()"
   ]
  },
  {
   "cell_type": "code",
   "execution_count": 317,
   "metadata": {},
   "outputs": [
    {
     "data": {
      "text/plain": [
       "False    3095\n",
       "True      765\n",
       "Name: fever_muscle_pain, dtype: int64"
      ]
     },
     "execution_count": 317,
     "metadata": {},
     "output_type": "execute_result"
    }
   ],
   "source": [
    "#metadf2['fever_muscle_pain'].value_counts()"
   ]
  },
  {
   "cell_type": "code",
   "execution_count": 319,
   "metadata": {},
   "outputs": [
    {
     "data": {
      "text/plain": [
       "ok      521\n",
       "poor    137\n",
       "good     31\n",
       "Name: quality_1, dtype: int64"
      ]
     },
     "execution_count": 319,
     "metadata": {},
     "output_type": "execute_result"
    }
   ],
   "source": [
    "#metadf2['quality_1'].value_counts()"
   ]
  },
  {
   "cell_type": "code",
   "execution_count": 320,
   "metadata": {},
   "outputs": [
    {
     "data": {
      "text/plain": [
       "dry        368\n",
       "unknown    263\n",
       "wet         58\n",
       "Name: cough_type_1, dtype: int64"
      ]
     },
     "execution_count": 320,
     "metadata": {},
     "output_type": "execute_result"
    }
   ],
   "source": [
    "#metadf2['cough_type_1'].value_counts()"
   ]
  },
  {
   "cell_type": "code",
   "execution_count": 321,
   "metadata": {},
   "outputs": [
    {
     "data": {
      "text/plain": [
       "False    685\n",
       "True       4\n",
       "Name: dyspnea_1, dtype: int64"
      ]
     },
     "execution_count": 321,
     "metadata": {},
     "output_type": "execute_result"
    }
   ],
   "source": [
    "#metadf2['dyspnea_1'].value_counts()"
   ]
  },
  {
   "cell_type": "code",
   "execution_count": 322,
   "metadata": {},
   "outputs": [
    {
     "data": {
      "text/plain": [
       "False    640\n",
       "True      49\n",
       "Name: wheezing_1, dtype: int64"
      ]
     },
     "execution_count": 322,
     "metadata": {},
     "output_type": "execute_result"
    }
   ],
   "source": [
    "#metadf2['wheezing_1'].value_counts()"
   ]
  },
  {
   "cell_type": "code",
   "execution_count": 323,
   "metadata": {},
   "outputs": [
    {
     "data": {
      "text/plain": [
       "False    689\n",
       "Name: stridor_1, dtype: int64"
      ]
     },
     "execution_count": 323,
     "metadata": {},
     "output_type": "execute_result"
    }
   ],
   "source": [
    "#metadf2['stridor_1'].value_counts()"
   ]
  },
  {
   "cell_type": "code",
   "execution_count": 324,
   "metadata": {},
   "outputs": [
    {
     "data": {
      "text/plain": [
       "False    688\n",
       "True       1\n",
       "Name: choking_1, dtype: int64"
      ]
     },
     "execution_count": 324,
     "metadata": {},
     "output_type": "execute_result"
    }
   ],
   "source": [
    "#metadf2['choking_1'].value_counts()"
   ]
  },
  {
   "cell_type": "code",
   "execution_count": 325,
   "metadata": {},
   "outputs": [
    {
     "data": {
      "text/plain": [
       "False    675\n",
       "True      14\n",
       "Name: congestion_1, dtype: int64"
      ]
     },
     "execution_count": 325,
     "metadata": {},
     "output_type": "execute_result"
    }
   ],
   "source": [
    "#metadf2['congestion_1'].value_counts()"
   ]
  },
  {
   "cell_type": "code",
   "execution_count": 326,
   "metadata": {},
   "outputs": [
    {
     "data": {
      "text/plain": [
       "True     625\n",
       "False     64\n",
       "Name: nothing_1, dtype: int64"
      ]
     },
     "execution_count": 326,
     "metadata": {},
     "output_type": "execute_result"
    }
   ],
   "source": [
    "#metadf2['nothing_1'].value_counts()"
   ]
  },
  {
   "cell_type": "code",
   "execution_count": 327,
   "metadata": {},
   "outputs": [
    {
     "data": {
      "text/plain": [
       "COVID-19               244\n",
       "healthy_cough          207\n",
       "lower_infection        204\n",
       "upper_infection         20\n",
       "obstructive_disease     14\n",
       "Name: diagnosis_1, dtype: int64"
      ]
     },
     "execution_count": 327,
     "metadata": {},
     "output_type": "execute_result"
    }
   ],
   "source": [
    "#metadf2['diagnosis_1'].value_counts()"
   ]
  },
  {
   "cell_type": "code",
   "execution_count": 328,
   "metadata": {},
   "outputs": [
    {
     "data": {
      "text/plain": [
       "mild           447\n",
       "pseudocough    199\n",
       "severe          31\n",
       "unknown         12\n",
       "Name: severity_1, dtype: int64"
      ]
     },
     "execution_count": 328,
     "metadata": {},
     "output_type": "execute_result"
    }
   ],
   "source": [
    "#metadf2['severity_1'].value_counts()"
   ]
  },
  {
   "cell_type": "code",
   "execution_count": 53,
   "metadata": {},
   "outputs": [],
   "source": [
    "newdf = metadf2"
   ]
  },
  {
   "cell_type": "code",
   "execution_count": 272,
   "metadata": {},
   "outputs": [],
   "source": [
    "'''\n",
    "newdf = metadf[(((metadf['cough_detected'] > 0.5) & (metadf['status'] == 'healthy')) \n",
    "                & (((metadf['quality_1'] == 'good') | (metadf['quality_1'] == 'ok')) |\n",
    "                 ((metadf['quality_2'] == 'good') | (metadf['quality_2'] == 'ok')) |\n",
    "                 ((metadf['quality_3'] == 'good') | (metadf['quality_3'] == 'ok')) |\n",
    "                 ((metadf['quality_4'] == 'good') | (metadf['quality_4'] == 'ok')))) \n",
    "                 |\n",
    "                 (((metadf['cough_detected'] > 0.5) & (metadf['status'] == 'symptomatic')) \n",
    "                & (((metadf['quality_1'] == 'good') | (metadf['quality_1'] == 'ok')) |\n",
    "                 ((metadf['quality_2'] == 'good') | (metadf['quality_2'] == 'ok')) |\n",
    "                 ((metadf['quality_3'] == 'good') | (metadf['quality_3'] == 'ok')) |\n",
    "                 ((metadf['quality_4'] == 'good') | (metadf['quality_4'] == 'ok'))))\n",
    "                 |\n",
    "                 ((metadf['cough_detected'] > 0) & (metadf['status'] == 'COVID-19'))]\n",
    "'''"
   ]
  },
  {
   "cell_type": "code",
   "execution_count": 54,
   "metadata": {},
   "outputs": [
    {
     "data": {
      "text/html": [
       "<div>\n",
       "<style scoped>\n",
       "    .dataframe tbody tr th:only-of-type {\n",
       "        vertical-align: middle;\n",
       "    }\n",
       "\n",
       "    .dataframe tbody tr th {\n",
       "        vertical-align: top;\n",
       "    }\n",
       "\n",
       "    .dataframe thead th {\n",
       "        text-align: right;\n",
       "    }\n",
       "</style>\n",
       "<table border=\"1\" class=\"dataframe\">\n",
       "  <thead>\n",
       "    <tr style=\"text-align: right;\">\n",
       "      <th></th>\n",
       "      <th>uuid</th>\n",
       "      <th>datetime</th>\n",
       "      <th>cough_detected</th>\n",
       "      <th>SNR</th>\n",
       "      <th>latitude</th>\n",
       "      <th>longitude</th>\n",
       "      <th>age</th>\n",
       "      <th>gender</th>\n",
       "      <th>respiratory_condition</th>\n",
       "      <th>fever_muscle_pain</th>\n",
       "      <th>...</th>\n",
       "      <th>quality_4</th>\n",
       "      <th>cough_type_4</th>\n",
       "      <th>dyspnea_4</th>\n",
       "      <th>wheezing_4</th>\n",
       "      <th>stridor_4</th>\n",
       "      <th>choking_4</th>\n",
       "      <th>congestion_4</th>\n",
       "      <th>nothing_4</th>\n",
       "      <th>diagnosis_4</th>\n",
       "      <th>severity_4</th>\n",
       "    </tr>\n",
       "  </thead>\n",
       "  <tbody>\n",
       "    <tr>\n",
       "      <th>5</th>\n",
       "      <td>001328dc-ea5d-4847-9ccf-c5aa2a3f2d0f</td>\n",
       "      <td>2020-04-13T22:23:06.997578+00:00</td>\n",
       "      <td>0.9968</td>\n",
       "      <td>13.146502</td>\n",
       "      <td>NaN</td>\n",
       "      <td>NaN</td>\n",
       "      <td>21.0</td>\n",
       "      <td>male</td>\n",
       "      <td>False</td>\n",
       "      <td>False</td>\n",
       "      <td>...</td>\n",
       "      <td>NaN</td>\n",
       "      <td>NaN</td>\n",
       "      <td>NaN</td>\n",
       "      <td>NaN</td>\n",
       "      <td>NaN</td>\n",
       "      <td>NaN</td>\n",
       "      <td>NaN</td>\n",
       "      <td>NaN</td>\n",
       "      <td>NaN</td>\n",
       "      <td>NaN</td>\n",
       "    </tr>\n",
       "    <tr>\n",
       "      <th>7</th>\n",
       "      <td>001d8e33-a4af-4edb-98ba-b03f891d9a6c</td>\n",
       "      <td>2020-05-13T01:27:42.552773+00:00</td>\n",
       "      <td>0.0306</td>\n",
       "      <td>12.713480</td>\n",
       "      <td>13.8</td>\n",
       "      <td>-89.6</td>\n",
       "      <td>NaN</td>\n",
       "      <td>female</td>\n",
       "      <td>False</td>\n",
       "      <td>True</td>\n",
       "      <td>...</td>\n",
       "      <td>NaN</td>\n",
       "      <td>NaN</td>\n",
       "      <td>NaN</td>\n",
       "      <td>NaN</td>\n",
       "      <td>NaN</td>\n",
       "      <td>NaN</td>\n",
       "      <td>NaN</td>\n",
       "      <td>NaN</td>\n",
       "      <td>NaN</td>\n",
       "      <td>NaN</td>\n",
       "    </tr>\n",
       "    <tr>\n",
       "      <th>12</th>\n",
       "      <td>0029d048-898a-4c70-89c7-0815cdcf7391</td>\n",
       "      <td>2020-07-16T03:01:55.059762+00:00</td>\n",
       "      <td>1.0000</td>\n",
       "      <td>9.624196</td>\n",
       "      <td>NaN</td>\n",
       "      <td>NaN</td>\n",
       "      <td>35.0</td>\n",
       "      <td>male</td>\n",
       "      <td>True</td>\n",
       "      <td>False</td>\n",
       "      <td>...</td>\n",
       "      <td>good</td>\n",
       "      <td>dry</td>\n",
       "      <td>False</td>\n",
       "      <td>False</td>\n",
       "      <td>False</td>\n",
       "      <td>False</td>\n",
       "      <td>False</td>\n",
       "      <td>True</td>\n",
       "      <td>upper_infection</td>\n",
       "      <td>mild</td>\n",
       "    </tr>\n",
       "    <tr>\n",
       "      <th>13</th>\n",
       "      <td>002d28bc-7806-4dfb-9c9b-afa8cb623cac</td>\n",
       "      <td>2020-04-16T22:10:24.107938+00:00</td>\n",
       "      <td>0.9959</td>\n",
       "      <td>35.641847</td>\n",
       "      <td>NaN</td>\n",
       "      <td>NaN</td>\n",
       "      <td>46.0</td>\n",
       "      <td>female</td>\n",
       "      <td>False</td>\n",
       "      <td>False</td>\n",
       "      <td>...</td>\n",
       "      <td>NaN</td>\n",
       "      <td>NaN</td>\n",
       "      <td>NaN</td>\n",
       "      <td>NaN</td>\n",
       "      <td>NaN</td>\n",
       "      <td>NaN</td>\n",
       "      <td>NaN</td>\n",
       "      <td>NaN</td>\n",
       "      <td>NaN</td>\n",
       "      <td>NaN</td>\n",
       "    </tr>\n",
       "    <tr>\n",
       "      <th>17</th>\n",
       "      <td>00357712-dd5a-4c0a-90a4-39f1f4b9d5fd</td>\n",
       "      <td>2020-04-10T12:48:17.554497+00:00</td>\n",
       "      <td>0.0576</td>\n",
       "      <td>0.000000</td>\n",
       "      <td>46.8</td>\n",
       "      <td>6.6</td>\n",
       "      <td>NaN</td>\n",
       "      <td>male</td>\n",
       "      <td>True</td>\n",
       "      <td>False</td>\n",
       "      <td>...</td>\n",
       "      <td>NaN</td>\n",
       "      <td>NaN</td>\n",
       "      <td>NaN</td>\n",
       "      <td>NaN</td>\n",
       "      <td>NaN</td>\n",
       "      <td>NaN</td>\n",
       "      <td>NaN</td>\n",
       "      <td>NaN</td>\n",
       "      <td>NaN</td>\n",
       "      <td>NaN</td>\n",
       "    </tr>\n",
       "    <tr>\n",
       "      <th>...</th>\n",
       "      <td>...</td>\n",
       "      <td>...</td>\n",
       "      <td>...</td>\n",
       "      <td>...</td>\n",
       "      <td>...</td>\n",
       "      <td>...</td>\n",
       "      <td>...</td>\n",
       "      <td>...</td>\n",
       "      <td>...</td>\n",
       "      <td>...</td>\n",
       "      <td>...</td>\n",
       "      <td>...</td>\n",
       "      <td>...</td>\n",
       "      <td>...</td>\n",
       "      <td>...</td>\n",
       "      <td>...</td>\n",
       "      <td>...</td>\n",
       "      <td>...</td>\n",
       "      <td>...</td>\n",
       "      <td>...</td>\n",
       "      <td>...</td>\n",
       "    </tr>\n",
       "    <tr>\n",
       "      <th>27534</th>\n",
       "      <td>ffd18a56-096d-40fc-9862-e5c5a8ca1fcd</td>\n",
       "      <td>2020-04-14T05:56:02.587585+00:00</td>\n",
       "      <td>1.0000</td>\n",
       "      <td>12.290065</td>\n",
       "      <td>46.5</td>\n",
       "      <td>6.6</td>\n",
       "      <td>25.0</td>\n",
       "      <td>female</td>\n",
       "      <td>False</td>\n",
       "      <td>False</td>\n",
       "      <td>...</td>\n",
       "      <td>ok</td>\n",
       "      <td>dry</td>\n",
       "      <td>False</td>\n",
       "      <td>False</td>\n",
       "      <td>False</td>\n",
       "      <td>False</td>\n",
       "      <td>False</td>\n",
       "      <td>True</td>\n",
       "      <td>COVID-19</td>\n",
       "      <td>mild</td>\n",
       "    </tr>\n",
       "    <tr>\n",
       "      <th>27539</th>\n",
       "      <td>ffe0658f-bade-4654-ad79-40a468aabb03</td>\n",
       "      <td>2020-04-14T01:58:32.200245+00:00</td>\n",
       "      <td>1.0000</td>\n",
       "      <td>21.960583</td>\n",
       "      <td>41.6</td>\n",
       "      <td>60.9</td>\n",
       "      <td>22.0</td>\n",
       "      <td>male</td>\n",
       "      <td>True</td>\n",
       "      <td>True</td>\n",
       "      <td>...</td>\n",
       "      <td>poor</td>\n",
       "      <td>unknown</td>\n",
       "      <td>False</td>\n",
       "      <td>False</td>\n",
       "      <td>False</td>\n",
       "      <td>False</td>\n",
       "      <td>False</td>\n",
       "      <td>False</td>\n",
       "      <td>NaN</td>\n",
       "      <td>unknown</td>\n",
       "    </tr>\n",
       "    <tr>\n",
       "      <th>27540</th>\n",
       "      <td>ffe13fcf-c5c2-4a6a-a9fc-e010f4f033c1</td>\n",
       "      <td>2020-04-13T21:08:50.708320+00:00</td>\n",
       "      <td>0.9485</td>\n",
       "      <td>9.966762</td>\n",
       "      <td>41.1</td>\n",
       "      <td>28.8</td>\n",
       "      <td>31.0</td>\n",
       "      <td>male</td>\n",
       "      <td>False</td>\n",
       "      <td>False</td>\n",
       "      <td>...</td>\n",
       "      <td>NaN</td>\n",
       "      <td>NaN</td>\n",
       "      <td>NaN</td>\n",
       "      <td>NaN</td>\n",
       "      <td>NaN</td>\n",
       "      <td>NaN</td>\n",
       "      <td>NaN</td>\n",
       "      <td>NaN</td>\n",
       "      <td>NaN</td>\n",
       "      <td>NaN</td>\n",
       "    </tr>\n",
       "    <tr>\n",
       "      <th>27542</th>\n",
       "      <td>ffedc843-bfc2-4ad6-a749-2bc86bdac84a</td>\n",
       "      <td>2020-06-05T03:41:37.481463+00:00</td>\n",
       "      <td>1.0000</td>\n",
       "      <td>33.661082</td>\n",
       "      <td>-34.5</td>\n",
       "      <td>-58.5</td>\n",
       "      <td>23.0</td>\n",
       "      <td>male</td>\n",
       "      <td>False</td>\n",
       "      <td>False</td>\n",
       "      <td>...</td>\n",
       "      <td>good</td>\n",
       "      <td>dry</td>\n",
       "      <td>False</td>\n",
       "      <td>False</td>\n",
       "      <td>False</td>\n",
       "      <td>False</td>\n",
       "      <td>False</td>\n",
       "      <td>True</td>\n",
       "      <td>healthy_cough</td>\n",
       "      <td>pseudocough</td>\n",
       "    </tr>\n",
       "    <tr>\n",
       "      <th>27546</th>\n",
       "      <td>fff3ff61-2387-4139-938b-539db01e6be5</td>\n",
       "      <td>2020-06-28T21:28:21.530881+00:00</td>\n",
       "      <td>0.5257</td>\n",
       "      <td>43.932829</td>\n",
       "      <td>51.6</td>\n",
       "      <td>-0.2</td>\n",
       "      <td>NaN</td>\n",
       "      <td>female</td>\n",
       "      <td>False</td>\n",
       "      <td>False</td>\n",
       "      <td>...</td>\n",
       "      <td>NaN</td>\n",
       "      <td>NaN</td>\n",
       "      <td>NaN</td>\n",
       "      <td>NaN</td>\n",
       "      <td>NaN</td>\n",
       "      <td>NaN</td>\n",
       "      <td>NaN</td>\n",
       "      <td>NaN</td>\n",
       "      <td>NaN</td>\n",
       "      <td>NaN</td>\n",
       "    </tr>\n",
       "  </tbody>\n",
       "</table>\n",
       "<p>6469 rows × 51 columns</p>\n",
       "</div>"
      ],
      "text/plain": [
       "                                       uuid                          datetime  \\\n",
       "5      001328dc-ea5d-4847-9ccf-c5aa2a3f2d0f  2020-04-13T22:23:06.997578+00:00   \n",
       "7      001d8e33-a4af-4edb-98ba-b03f891d9a6c  2020-05-13T01:27:42.552773+00:00   \n",
       "12     0029d048-898a-4c70-89c7-0815cdcf7391  2020-07-16T03:01:55.059762+00:00   \n",
       "13     002d28bc-7806-4dfb-9c9b-afa8cb623cac  2020-04-16T22:10:24.107938+00:00   \n",
       "17     00357712-dd5a-4c0a-90a4-39f1f4b9d5fd  2020-04-10T12:48:17.554497+00:00   \n",
       "...                                     ...                               ...   \n",
       "27534  ffd18a56-096d-40fc-9862-e5c5a8ca1fcd  2020-04-14T05:56:02.587585+00:00   \n",
       "27539  ffe0658f-bade-4654-ad79-40a468aabb03  2020-04-14T01:58:32.200245+00:00   \n",
       "27540  ffe13fcf-c5c2-4a6a-a9fc-e010f4f033c1  2020-04-13T21:08:50.708320+00:00   \n",
       "27542  ffedc843-bfc2-4ad6-a749-2bc86bdac84a  2020-06-05T03:41:37.481463+00:00   \n",
       "27546  fff3ff61-2387-4139-938b-539db01e6be5  2020-06-28T21:28:21.530881+00:00   \n",
       "\n",
       "       cough_detected        SNR  latitude  longitude   age  gender  \\\n",
       "5              0.9968  13.146502       NaN        NaN  21.0    male   \n",
       "7              0.0306  12.713480      13.8      -89.6   NaN  female   \n",
       "12             1.0000   9.624196       NaN        NaN  35.0    male   \n",
       "13             0.9959  35.641847       NaN        NaN  46.0  female   \n",
       "17             0.0576   0.000000      46.8        6.6   NaN    male   \n",
       "...               ...        ...       ...        ...   ...     ...   \n",
       "27534          1.0000  12.290065      46.5        6.6  25.0  female   \n",
       "27539          1.0000  21.960583      41.6       60.9  22.0    male   \n",
       "27540          0.9485   9.966762      41.1       28.8  31.0    male   \n",
       "27542          1.0000  33.661082     -34.5      -58.5  23.0    male   \n",
       "27546          0.5257  43.932829      51.6       -0.2   NaN  female   \n",
       "\n",
       "      respiratory_condition fever_muscle_pain  ... quality_4 cough_type_4  \\\n",
       "5                     False             False  ...       NaN          NaN   \n",
       "7                     False              True  ...       NaN          NaN   \n",
       "12                     True             False  ...      good          dry   \n",
       "13                    False             False  ...       NaN          NaN   \n",
       "17                     True             False  ...       NaN          NaN   \n",
       "...                     ...               ...  ...       ...          ...   \n",
       "27534                 False             False  ...        ok          dry   \n",
       "27539                  True              True  ...      poor      unknown   \n",
       "27540                 False             False  ...       NaN          NaN   \n",
       "27542                 False             False  ...      good          dry   \n",
       "27546                 False             False  ...       NaN          NaN   \n",
       "\n",
       "      dyspnea_4 wheezing_4 stridor_4 choking_4 congestion_4 nothing_4  \\\n",
       "5           NaN        NaN       NaN       NaN          NaN       NaN   \n",
       "7           NaN        NaN       NaN       NaN          NaN       NaN   \n",
       "12        False      False     False     False        False      True   \n",
       "13          NaN        NaN       NaN       NaN          NaN       NaN   \n",
       "17          NaN        NaN       NaN       NaN          NaN       NaN   \n",
       "...         ...        ...       ...       ...          ...       ...   \n",
       "27534     False      False     False     False        False      True   \n",
       "27539     False      False     False     False        False     False   \n",
       "27540       NaN        NaN       NaN       NaN          NaN       NaN   \n",
       "27542     False      False     False     False        False      True   \n",
       "27546       NaN        NaN       NaN       NaN          NaN       NaN   \n",
       "\n",
       "           diagnosis_4   severity_4  \n",
       "5                  NaN          NaN  \n",
       "7                  NaN          NaN  \n",
       "12     upper_infection         mild  \n",
       "13                 NaN          NaN  \n",
       "17                 NaN          NaN  \n",
       "...                ...          ...  \n",
       "27534         COVID-19         mild  \n",
       "27539              NaN      unknown  \n",
       "27540              NaN          NaN  \n",
       "27542    healthy_cough  pseudocough  \n",
       "27546              NaN          NaN  \n",
       "\n",
       "[6469 rows x 51 columns]"
      ]
     },
     "execution_count": 54,
     "metadata": {},
     "output_type": "execute_result"
    }
   ],
   "source": [
    "newdf"
   ]
  },
  {
   "cell_type": "code",
   "execution_count": 55,
   "metadata": {},
   "outputs": [
    {
     "data": {
      "text/plain": [
       "healthy        2761\n",
       "symptomatic    2575\n",
       "COVID-19       1133\n",
       "Name: status, dtype: int64"
      ]
     },
     "execution_count": 55,
     "metadata": {},
     "output_type": "execute_result"
    }
   ],
   "source": [
    "# This indicates we have a somewhat balanced dataset\n",
    "newdf['status'].value_counts()"
   ]
  },
  {
   "cell_type": "code",
   "execution_count": 56,
   "metadata": {},
   "outputs": [],
   "source": [
    "newdf = newdf.fillna(\"\")"
   ]
  },
  {
   "cell_type": "code",
   "execution_count": 57,
   "metadata": {},
   "outputs": [],
   "source": [
    "newdf.drop(newdf.loc[newdf['status']==\"unknown\"].index, inplace=True)\n",
    "newdf.drop(newdf.loc[newdf['status']==\"\"].index, inplace=True)\n"
   ]
  },
  {
   "cell_type": "code",
   "execution_count": 58,
   "metadata": {},
   "outputs": [
    {
     "data": {
      "text/html": [
       "<div>\n",
       "<style scoped>\n",
       "    .dataframe tbody tr th:only-of-type {\n",
       "        vertical-align: middle;\n",
       "    }\n",
       "\n",
       "    .dataframe tbody tr th {\n",
       "        vertical-align: top;\n",
       "    }\n",
       "\n",
       "    .dataframe thead th {\n",
       "        text-align: right;\n",
       "    }\n",
       "</style>\n",
       "<table border=\"1\" class=\"dataframe\">\n",
       "  <thead>\n",
       "    <tr style=\"text-align: right;\">\n",
       "      <th></th>\n",
       "      <th>uuid</th>\n",
       "      <th>datetime</th>\n",
       "      <th>cough_detected</th>\n",
       "      <th>SNR</th>\n",
       "      <th>latitude</th>\n",
       "      <th>longitude</th>\n",
       "      <th>age</th>\n",
       "      <th>gender</th>\n",
       "      <th>respiratory_condition</th>\n",
       "      <th>fever_muscle_pain</th>\n",
       "      <th>...</th>\n",
       "      <th>quality_4</th>\n",
       "      <th>cough_type_4</th>\n",
       "      <th>dyspnea_4</th>\n",
       "      <th>wheezing_4</th>\n",
       "      <th>stridor_4</th>\n",
       "      <th>choking_4</th>\n",
       "      <th>congestion_4</th>\n",
       "      <th>nothing_4</th>\n",
       "      <th>diagnosis_4</th>\n",
       "      <th>severity_4</th>\n",
       "    </tr>\n",
       "  </thead>\n",
       "  <tbody>\n",
       "    <tr>\n",
       "      <th>5</th>\n",
       "      <td>001328dc-ea5d-4847-9ccf-c5aa2a3f2d0f</td>\n",
       "      <td>2020-04-13T22:23:06.997578+00:00</td>\n",
       "      <td>0.9968</td>\n",
       "      <td>13.146502</td>\n",
       "      <td></td>\n",
       "      <td></td>\n",
       "      <td>21.0</td>\n",
       "      <td>male</td>\n",
       "      <td>False</td>\n",
       "      <td>False</td>\n",
       "      <td>...</td>\n",
       "      <td></td>\n",
       "      <td></td>\n",
       "      <td></td>\n",
       "      <td></td>\n",
       "      <td></td>\n",
       "      <td></td>\n",
       "      <td></td>\n",
       "      <td></td>\n",
       "      <td></td>\n",
       "      <td></td>\n",
       "    </tr>\n",
       "    <tr>\n",
       "      <th>7</th>\n",
       "      <td>001d8e33-a4af-4edb-98ba-b03f891d9a6c</td>\n",
       "      <td>2020-05-13T01:27:42.552773+00:00</td>\n",
       "      <td>0.0306</td>\n",
       "      <td>12.713480</td>\n",
       "      <td>13.8</td>\n",
       "      <td>-89.6</td>\n",
       "      <td></td>\n",
       "      <td>female</td>\n",
       "      <td>False</td>\n",
       "      <td>True</td>\n",
       "      <td>...</td>\n",
       "      <td></td>\n",
       "      <td></td>\n",
       "      <td></td>\n",
       "      <td></td>\n",
       "      <td></td>\n",
       "      <td></td>\n",
       "      <td></td>\n",
       "      <td></td>\n",
       "      <td></td>\n",
       "      <td></td>\n",
       "    </tr>\n",
       "    <tr>\n",
       "      <th>12</th>\n",
       "      <td>0029d048-898a-4c70-89c7-0815cdcf7391</td>\n",
       "      <td>2020-07-16T03:01:55.059762+00:00</td>\n",
       "      <td>1.0000</td>\n",
       "      <td>9.624196</td>\n",
       "      <td></td>\n",
       "      <td></td>\n",
       "      <td>35.0</td>\n",
       "      <td>male</td>\n",
       "      <td>True</td>\n",
       "      <td>False</td>\n",
       "      <td>...</td>\n",
       "      <td>good</td>\n",
       "      <td>dry</td>\n",
       "      <td>False</td>\n",
       "      <td>False</td>\n",
       "      <td>False</td>\n",
       "      <td>False</td>\n",
       "      <td>False</td>\n",
       "      <td>True</td>\n",
       "      <td>upper_infection</td>\n",
       "      <td>mild</td>\n",
       "    </tr>\n",
       "    <tr>\n",
       "      <th>13</th>\n",
       "      <td>002d28bc-7806-4dfb-9c9b-afa8cb623cac</td>\n",
       "      <td>2020-04-16T22:10:24.107938+00:00</td>\n",
       "      <td>0.9959</td>\n",
       "      <td>35.641847</td>\n",
       "      <td></td>\n",
       "      <td></td>\n",
       "      <td>46.0</td>\n",
       "      <td>female</td>\n",
       "      <td>False</td>\n",
       "      <td>False</td>\n",
       "      <td>...</td>\n",
       "      <td></td>\n",
       "      <td></td>\n",
       "      <td></td>\n",
       "      <td></td>\n",
       "      <td></td>\n",
       "      <td></td>\n",
       "      <td></td>\n",
       "      <td></td>\n",
       "      <td></td>\n",
       "      <td></td>\n",
       "    </tr>\n",
       "    <tr>\n",
       "      <th>17</th>\n",
       "      <td>00357712-dd5a-4c0a-90a4-39f1f4b9d5fd</td>\n",
       "      <td>2020-04-10T12:48:17.554497+00:00</td>\n",
       "      <td>0.0576</td>\n",
       "      <td>0.000000</td>\n",
       "      <td>46.8</td>\n",
       "      <td>6.6</td>\n",
       "      <td></td>\n",
       "      <td>male</td>\n",
       "      <td>True</td>\n",
       "      <td>False</td>\n",
       "      <td>...</td>\n",
       "      <td></td>\n",
       "      <td></td>\n",
       "      <td></td>\n",
       "      <td></td>\n",
       "      <td></td>\n",
       "      <td></td>\n",
       "      <td></td>\n",
       "      <td></td>\n",
       "      <td></td>\n",
       "      <td></td>\n",
       "    </tr>\n",
       "    <tr>\n",
       "      <th>...</th>\n",
       "      <td>...</td>\n",
       "      <td>...</td>\n",
       "      <td>...</td>\n",
       "      <td>...</td>\n",
       "      <td>...</td>\n",
       "      <td>...</td>\n",
       "      <td>...</td>\n",
       "      <td>...</td>\n",
       "      <td>...</td>\n",
       "      <td>...</td>\n",
       "      <td>...</td>\n",
       "      <td>...</td>\n",
       "      <td>...</td>\n",
       "      <td>...</td>\n",
       "      <td>...</td>\n",
       "      <td>...</td>\n",
       "      <td>...</td>\n",
       "      <td>...</td>\n",
       "      <td>...</td>\n",
       "      <td>...</td>\n",
       "      <td>...</td>\n",
       "    </tr>\n",
       "    <tr>\n",
       "      <th>27534</th>\n",
       "      <td>ffd18a56-096d-40fc-9862-e5c5a8ca1fcd</td>\n",
       "      <td>2020-04-14T05:56:02.587585+00:00</td>\n",
       "      <td>1.0000</td>\n",
       "      <td>12.290065</td>\n",
       "      <td>46.5</td>\n",
       "      <td>6.6</td>\n",
       "      <td>25.0</td>\n",
       "      <td>female</td>\n",
       "      <td>False</td>\n",
       "      <td>False</td>\n",
       "      <td>...</td>\n",
       "      <td>ok</td>\n",
       "      <td>dry</td>\n",
       "      <td>False</td>\n",
       "      <td>False</td>\n",
       "      <td>False</td>\n",
       "      <td>False</td>\n",
       "      <td>False</td>\n",
       "      <td>True</td>\n",
       "      <td>COVID-19</td>\n",
       "      <td>mild</td>\n",
       "    </tr>\n",
       "    <tr>\n",
       "      <th>27539</th>\n",
       "      <td>ffe0658f-bade-4654-ad79-40a468aabb03</td>\n",
       "      <td>2020-04-14T01:58:32.200245+00:00</td>\n",
       "      <td>1.0000</td>\n",
       "      <td>21.960583</td>\n",
       "      <td>41.6</td>\n",
       "      <td>60.9</td>\n",
       "      <td>22.0</td>\n",
       "      <td>male</td>\n",
       "      <td>True</td>\n",
       "      <td>True</td>\n",
       "      <td>...</td>\n",
       "      <td>poor</td>\n",
       "      <td>unknown</td>\n",
       "      <td>False</td>\n",
       "      <td>False</td>\n",
       "      <td>False</td>\n",
       "      <td>False</td>\n",
       "      <td>False</td>\n",
       "      <td>False</td>\n",
       "      <td></td>\n",
       "      <td>unknown</td>\n",
       "    </tr>\n",
       "    <tr>\n",
       "      <th>27540</th>\n",
       "      <td>ffe13fcf-c5c2-4a6a-a9fc-e010f4f033c1</td>\n",
       "      <td>2020-04-13T21:08:50.708320+00:00</td>\n",
       "      <td>0.9485</td>\n",
       "      <td>9.966762</td>\n",
       "      <td>41.1</td>\n",
       "      <td>28.8</td>\n",
       "      <td>31.0</td>\n",
       "      <td>male</td>\n",
       "      <td>False</td>\n",
       "      <td>False</td>\n",
       "      <td>...</td>\n",
       "      <td></td>\n",
       "      <td></td>\n",
       "      <td></td>\n",
       "      <td></td>\n",
       "      <td></td>\n",
       "      <td></td>\n",
       "      <td></td>\n",
       "      <td></td>\n",
       "      <td></td>\n",
       "      <td></td>\n",
       "    </tr>\n",
       "    <tr>\n",
       "      <th>27542</th>\n",
       "      <td>ffedc843-bfc2-4ad6-a749-2bc86bdac84a</td>\n",
       "      <td>2020-06-05T03:41:37.481463+00:00</td>\n",
       "      <td>1.0000</td>\n",
       "      <td>33.661082</td>\n",
       "      <td>-34.5</td>\n",
       "      <td>-58.5</td>\n",
       "      <td>23.0</td>\n",
       "      <td>male</td>\n",
       "      <td>False</td>\n",
       "      <td>False</td>\n",
       "      <td>...</td>\n",
       "      <td>good</td>\n",
       "      <td>dry</td>\n",
       "      <td>False</td>\n",
       "      <td>False</td>\n",
       "      <td>False</td>\n",
       "      <td>False</td>\n",
       "      <td>False</td>\n",
       "      <td>True</td>\n",
       "      <td>healthy_cough</td>\n",
       "      <td>pseudocough</td>\n",
       "    </tr>\n",
       "    <tr>\n",
       "      <th>27546</th>\n",
       "      <td>fff3ff61-2387-4139-938b-539db01e6be5</td>\n",
       "      <td>2020-06-28T21:28:21.530881+00:00</td>\n",
       "      <td>0.5257</td>\n",
       "      <td>43.932829</td>\n",
       "      <td>51.6</td>\n",
       "      <td>-0.2</td>\n",
       "      <td></td>\n",
       "      <td>female</td>\n",
       "      <td>False</td>\n",
       "      <td>False</td>\n",
       "      <td>...</td>\n",
       "      <td></td>\n",
       "      <td></td>\n",
       "      <td></td>\n",
       "      <td></td>\n",
       "      <td></td>\n",
       "      <td></td>\n",
       "      <td></td>\n",
       "      <td></td>\n",
       "      <td></td>\n",
       "      <td></td>\n",
       "    </tr>\n",
       "  </tbody>\n",
       "</table>\n",
       "<p>6469 rows × 51 columns</p>\n",
       "</div>"
      ],
      "text/plain": [
       "                                       uuid                          datetime  \\\n",
       "5      001328dc-ea5d-4847-9ccf-c5aa2a3f2d0f  2020-04-13T22:23:06.997578+00:00   \n",
       "7      001d8e33-a4af-4edb-98ba-b03f891d9a6c  2020-05-13T01:27:42.552773+00:00   \n",
       "12     0029d048-898a-4c70-89c7-0815cdcf7391  2020-07-16T03:01:55.059762+00:00   \n",
       "13     002d28bc-7806-4dfb-9c9b-afa8cb623cac  2020-04-16T22:10:24.107938+00:00   \n",
       "17     00357712-dd5a-4c0a-90a4-39f1f4b9d5fd  2020-04-10T12:48:17.554497+00:00   \n",
       "...                                     ...                               ...   \n",
       "27534  ffd18a56-096d-40fc-9862-e5c5a8ca1fcd  2020-04-14T05:56:02.587585+00:00   \n",
       "27539  ffe0658f-bade-4654-ad79-40a468aabb03  2020-04-14T01:58:32.200245+00:00   \n",
       "27540  ffe13fcf-c5c2-4a6a-a9fc-e010f4f033c1  2020-04-13T21:08:50.708320+00:00   \n",
       "27542  ffedc843-bfc2-4ad6-a749-2bc86bdac84a  2020-06-05T03:41:37.481463+00:00   \n",
       "27546  fff3ff61-2387-4139-938b-539db01e6be5  2020-06-28T21:28:21.530881+00:00   \n",
       "\n",
       "       cough_detected        SNR latitude longitude   age  gender  \\\n",
       "5              0.9968  13.146502                     21.0    male   \n",
       "7              0.0306  12.713480     13.8     -89.6        female   \n",
       "12             1.0000   9.624196                     35.0    male   \n",
       "13             0.9959  35.641847                     46.0  female   \n",
       "17             0.0576   0.000000     46.8       6.6          male   \n",
       "...               ...        ...      ...       ...   ...     ...   \n",
       "27534          1.0000  12.290065     46.5       6.6  25.0  female   \n",
       "27539          1.0000  21.960583     41.6      60.9  22.0    male   \n",
       "27540          0.9485   9.966762     41.1      28.8  31.0    male   \n",
       "27542          1.0000  33.661082    -34.5     -58.5  23.0    male   \n",
       "27546          0.5257  43.932829     51.6      -0.2        female   \n",
       "\n",
       "       respiratory_condition  fever_muscle_pain  ... quality_4 cough_type_4  \\\n",
       "5                      False              False  ...                          \n",
       "7                      False               True  ...                          \n",
       "12                      True              False  ...      good          dry   \n",
       "13                     False              False  ...                          \n",
       "17                      True              False  ...                          \n",
       "...                      ...                ...  ...       ...          ...   \n",
       "27534                  False              False  ...        ok          dry   \n",
       "27539                   True               True  ...      poor      unknown   \n",
       "27540                  False              False  ...                          \n",
       "27542                  False              False  ...      good          dry   \n",
       "27546                  False              False  ...                          \n",
       "\n",
       "      dyspnea_4 wheezing_4 stridor_4 choking_4 congestion_4 nothing_4  \\\n",
       "5                                                                       \n",
       "7                                                                       \n",
       "12        False      False     False     False        False      True   \n",
       "13                                                                      \n",
       "17                                                                      \n",
       "...         ...        ...       ...       ...          ...       ...   \n",
       "27534     False      False     False     False        False      True   \n",
       "27539     False      False     False     False        False     False   \n",
       "27540                                                                   \n",
       "27542     False      False     False     False        False      True   \n",
       "27546                                                                   \n",
       "\n",
       "           diagnosis_4   severity_4  \n",
       "5                                    \n",
       "7                                    \n",
       "12     upper_infection         mild  \n",
       "13                                   \n",
       "17                                   \n",
       "...                ...          ...  \n",
       "27534         COVID-19         mild  \n",
       "27539                       unknown  \n",
       "27540                                \n",
       "27542    healthy_cough  pseudocough  \n",
       "27546                                \n",
       "\n",
       "[6469 rows x 51 columns]"
      ]
     },
     "execution_count": 58,
     "metadata": {},
     "output_type": "execute_result"
    }
   ],
   "source": [
    "newdf"
   ]
  },
  {
   "cell_type": "code",
   "execution_count": 63,
   "metadata": {},
   "outputs": [],
   "source": [
    "status_label_map = {\"healthy\":0, \"symptomatic\": 1, \"COVID-19\": 2}\n",
    "newdf = newdf.replace({\"status\": status_label_map})"
   ]
  },
  {
   "cell_type": "code",
   "execution_count": 64,
   "metadata": {},
   "outputs": [
    {
     "data": {
      "text/plain": [
       "0    2761\n",
       "1    2575\n",
       "2    1133\n",
       "Name: status, dtype: int64"
      ]
     },
     "execution_count": 64,
     "metadata": {},
     "output_type": "execute_result"
    }
   ],
   "source": [
    "newdf.status.value_counts()"
   ]
  },
  {
   "cell_type": "code",
   "execution_count": 65,
   "metadata": {},
   "outputs": [],
   "source": [
    "from sklearn.preprocessing import StandardScaler\n",
    "from sklearn.preprocessing import scale\n",
    "def features_extractor(file_name):\n",
    "    audio, sample_rate = librosa.load(file_name)\n",
    "\n",
    "    mfccs_features = librosa.feature.mfcc(y=audio, sr=sample_rate, n_mfcc=20)\n",
    "    mfccs_scaled_features = np.mean(mfccs_features.T,axis=0)\n",
    "\n",
    "    mel_spectrogram = librosa.feature.melspectrogram(y=audio, sr=sample_rate, n_fft=2048, hop_length=512, n_mels=20)\n",
    "    mel_scaled_features = np.mean(mel_spectrogram.T,axis=0)\n",
    "\n",
    "    #stft = np.abs(librosa.stft(audio))\n",
    "    #chroma = librosa.feature.chroma_stft(S=stft, sr=sample_rate)\n",
    "    #chroma_scaled_features = np.mean(chroma.T,axis=0)\n",
    "\n",
    "\n",
    "    return mfccs_scaled_features, mel_scaled_features #, chroma_scaled_features\n",
    "    "
   ]
  },
  {
   "cell_type": "code",
   "execution_count": 66,
   "metadata": {},
   "outputs": [
    {
     "name": "stderr",
     "output_type": "stream",
     "text": [
      "6469it [06:17, 17.15it/s]\n"
     ]
    }
   ],
   "source": [
    "import numpy as np\n",
    "from tqdm import tqdm\n",
    "# Extract Mel Frequency Cepstral Coefficients and Mel Spectogram\n",
    "extracted_features=[]\n",
    "for index_num,row in tqdm(newdf.iterrows()):\n",
    "    file_name = os.path.join(audio_dataset_path,str(row[\"uuid\"])+\".wav\")\n",
    "    final_class_labels=row[\"status\"]\n",
    "    mfcc, melspec = features_extractor(file_name)\n",
    "    extracted_features.append([mfcc,melspec,final_class_labels])"
   ]
  },
  {
   "cell_type": "code",
   "execution_count": 67,
   "metadata": {},
   "outputs": [
    {
     "data": {
      "text/html": [
       "<div>\n",
       "<style scoped>\n",
       "    .dataframe tbody tr th:only-of-type {\n",
       "        vertical-align: middle;\n",
       "    }\n",
       "\n",
       "    .dataframe tbody tr th {\n",
       "        vertical-align: top;\n",
       "    }\n",
       "\n",
       "    .dataframe thead th {\n",
       "        text-align: right;\n",
       "    }\n",
       "</style>\n",
       "<table border=\"1\" class=\"dataframe\">\n",
       "  <thead>\n",
       "    <tr style=\"text-align: right;\">\n",
       "      <th></th>\n",
       "      <th>feature1</th>\n",
       "      <th>feature2</th>\n",
       "      <th>status</th>\n",
       "    </tr>\n",
       "  </thead>\n",
       "  <tbody>\n",
       "    <tr>\n",
       "      <th>0</th>\n",
       "      <td>[-519.8622, 26.079721, -28.713432, 7.9876924, ...</td>\n",
       "      <td>[0.7552014, 1.6019976, 1.7519484, 0.89610916, ...</td>\n",
       "      <td>0</td>\n",
       "    </tr>\n",
       "    <tr>\n",
       "      <th>1</th>\n",
       "      <td>[-517.534, 125.805275, -59.390606, -13.782511,...</td>\n",
       "      <td>[0.05159273, 0.09458568, 0.079764344, 0.082790...</td>\n",
       "      <td>2</td>\n",
       "    </tr>\n",
       "    <tr>\n",
       "      <th>2</th>\n",
       "      <td>[-492.71045, 16.865747, -3.735841, -0.9161602,...</td>\n",
       "      <td>[4.0721083, 3.1780303, 1.1660261, 0.21596567, ...</td>\n",
       "      <td>1</td>\n",
       "    </tr>\n",
       "    <tr>\n",
       "      <th>3</th>\n",
       "      <td>[-507.23135, 19.040976, -16.899456, 5.4804497,...</td>\n",
       "      <td>[1.23425, 1.3887762, 3.1613564, 5.6069775, 0.7...</td>\n",
       "      <td>0</td>\n",
       "    </tr>\n",
       "    <tr>\n",
       "      <th>4</th>\n",
       "      <td>[-957.87195, -0.9061077, -0.47938585, -3.27202...</td>\n",
       "      <td>[1.8812892e-07, 4.6140246e-07, 2.4876701e-06, ...</td>\n",
       "      <td>2</td>\n",
       "    </tr>\n",
       "  </tbody>\n",
       "</table>\n",
       "</div>"
      ],
      "text/plain": [
       "                                            feature1  \\\n",
       "0  [-519.8622, 26.079721, -28.713432, 7.9876924, ...   \n",
       "1  [-517.534, 125.805275, -59.390606, -13.782511,...   \n",
       "2  [-492.71045, 16.865747, -3.735841, -0.9161602,...   \n",
       "3  [-507.23135, 19.040976, -16.899456, 5.4804497,...   \n",
       "4  [-957.87195, -0.9061077, -0.47938585, -3.27202...   \n",
       "\n",
       "                                            feature2  status  \n",
       "0  [0.7552014, 1.6019976, 1.7519484, 0.89610916, ...       0  \n",
       "1  [0.05159273, 0.09458568, 0.079764344, 0.082790...       2  \n",
       "2  [4.0721083, 3.1780303, 1.1660261, 0.21596567, ...       1  \n",
       "3  [1.23425, 1.3887762, 3.1613564, 5.6069775, 0.7...       0  \n",
       "4  [1.8812892e-07, 4.6140246e-07, 2.4876701e-06, ...       2  "
      ]
     },
     "execution_count": 67,
     "metadata": {},
     "output_type": "execute_result"
    }
   ],
   "source": [
    "### converting extracted_features to Pandas dataframe\n",
    "extracted_features_df = pd.DataFrame(extracted_features,columns=['feature1','feature2','status'])\n",
    "extracted_features_df.head()"
   ]
  },
  {
   "cell_type": "code",
   "execution_count": 68,
   "metadata": {},
   "outputs": [
    {
     "data": {
      "text/plain": [
       "(6469, 3)"
      ]
     },
     "execution_count": 68,
     "metadata": {},
     "output_type": "execute_result"
    }
   ],
   "source": [
    "extracted_features_df.shape"
   ]
  },
  {
   "cell_type": "code",
   "execution_count": 18,
   "metadata": {},
   "outputs": [],
   "source": [
    "#extracted_features_df.to_parquet(\"mfcc120_melspec120_coughvid.parquet\", index=False)"
   ]
  },
  {
   "cell_type": "code",
   "execution_count": 69,
   "metadata": {},
   "outputs": [],
   "source": [
    "### Split the dataset into independent and dependent dataset\n",
    "X1 = np.array(extracted_features_df['feature1'].tolist())\n",
    "X2 = np.array(extracted_features_df['feature2'].tolist())\n",
    "#X3 = np.array(extracted_features_df['feature3'].tolist())\n",
    "X = np.concatenate((X1, X2), axis=1)\n",
    "#X = np.concatenate((X, X3), axis=1)\n",
    "y = np.array(extracted_features_df['status'].tolist())"
   ]
  },
  {
   "cell_type": "code",
   "execution_count": 70,
   "metadata": {},
   "outputs": [
    {
     "data": {
      "text/plain": [
       "array([[-5.19862183e+02,  2.60797215e+01, -2.87134323e+01, ...,\n",
       "         6.74860850e-02,  6.51411572e-03,  2.23455629e-07],\n",
       "       [-5.17533997e+02,  1.25805275e+02, -5.93906059e+01, ...,\n",
       "         1.39014261e-07,  2.55018993e-08,  1.24391333e-08],\n",
       "       [-4.92710449e+02,  1.68657475e+01, -3.73584104e+00, ...,\n",
       "         1.42640760e-02,  2.26114839e-02,  3.19071822e-02],\n",
       "       ...,\n",
       "       [-4.77452209e+02,  5.04670677e+01, -2.13637428e+01, ...,\n",
       "         7.58189857e-02,  4.89415554e-03,  3.58007753e-07],\n",
       "       [-4.20832428e+02,  2.41599216e+01, -7.46264648e+00, ...,\n",
       "         5.03229257e-03,  4.55800124e-04,  3.49893909e-08],\n",
       "       [-4.48928497e+02,  3.12053547e+01, -5.50211754e+01, ...,\n",
       "         1.14069000e-04,  3.62838750e-06,  4.13157997e-09]], dtype=float32)"
      ]
     },
     "execution_count": 70,
     "metadata": {},
     "output_type": "execute_result"
    }
   ],
   "source": [
    "X"
   ]
  },
  {
   "cell_type": "code",
   "execution_count": 71,
   "metadata": {},
   "outputs": [
    {
     "data": {
      "text/plain": [
       "(6469, 40)"
      ]
     },
     "execution_count": 71,
     "metadata": {},
     "output_type": "execute_result"
    }
   ],
   "source": [
    "X.shape"
   ]
  },
  {
   "cell_type": "code",
   "execution_count": 94,
   "metadata": {},
   "outputs": [],
   "source": [
    "### Label Encoding\n",
    "y = np.array(pd.get_dummies(y))"
   ]
  },
  {
   "cell_type": "code",
   "execution_count": 95,
   "metadata": {},
   "outputs": [
    {
     "data": {
      "text/plain": [
       "array([[1, 0, 0],\n",
       "       [0, 0, 1],\n",
       "       [0, 1, 0],\n",
       "       ...,\n",
       "       [0, 1, 0],\n",
       "       [1, 0, 0],\n",
       "       [0, 1, 0]], dtype=uint8)"
      ]
     },
     "execution_count": 95,
     "metadata": {},
     "output_type": "execute_result"
    }
   ],
   "source": [
    "y"
   ]
  },
  {
   "cell_type": "code",
   "execution_count": 96,
   "metadata": {},
   "outputs": [
    {
     "data": {
      "text/plain": [
       "(6469, 3)"
      ]
     },
     "execution_count": 96,
     "metadata": {},
     "output_type": "execute_result"
    }
   ],
   "source": [
    "y.shape"
   ]
  },
  {
   "cell_type": "code",
   "execution_count": 97,
   "metadata": {},
   "outputs": [],
   "source": [
    "### Train Test Split\n",
    "from sklearn.model_selection import train_test_split\n",
    "X_train,X_test,y_train,y_test=train_test_split(X,y,test_size=0.3,random_state=0)"
   ]
  },
  {
   "cell_type": "code",
   "execution_count": 98,
   "metadata": {},
   "outputs": [],
   "source": [
    "from sklearn.model_selection import train_test_split\n",
    "X_val,X_test,y_val,y_test=train_test_split(X_test,y_test,test_size=0.5,random_state=0)"
   ]
  },
  {
   "cell_type": "code",
   "execution_count": 99,
   "metadata": {},
   "outputs": [
    {
     "data": {
      "text/plain": [
       "array([[-4.5111914e+02,  4.7152843e+01, -7.9044811e-02, ...,\n",
       "         4.1990317e-02,  1.2785282e-03,  1.2576055e-07],\n",
       "       [-4.7834470e+02,  9.5170235e+01, -8.1451263e+00, ...,\n",
       "         1.1002996e-03,  5.2689970e-04,  1.8547170e-04],\n",
       "       [-3.7469168e+02,  4.0205624e+01, -1.5869018e+01, ...,\n",
       "         2.3886393e-01,  7.9907961e-03,  3.1211734e-05],\n",
       "       ...,\n",
       "       [-5.2719574e+02,  2.8273001e+01, -1.0320598e+01, ...,\n",
       "         1.0576471e-03,  1.2776282e-04,  1.0527529e-08],\n",
       "       [-4.9230304e+02,  5.6945549e+01, -4.4023633e+00, ...,\n",
       "         9.3883275e-05,  1.2435144e-06,  4.3175548e-09],\n",
       "       [-3.7632587e+02,  4.5872734e+01, -1.6520857e+01, ...,\n",
       "         6.4031027e-02,  4.6478701e-03,  9.4735225e-07]], dtype=float32)"
      ]
     },
     "execution_count": 99,
     "metadata": {},
     "output_type": "execute_result"
    }
   ],
   "source": [
    "X_train"
   ]
  },
  {
   "cell_type": "code",
   "execution_count": 100,
   "metadata": {},
   "outputs": [
    {
     "data": {
      "text/plain": [
       "array([[1, 0, 0],\n",
       "       [0, 0, 1],\n",
       "       [0, 1, 0],\n",
       "       ...,\n",
       "       [0, 1, 0],\n",
       "       [1, 0, 0],\n",
       "       [0, 1, 0]], dtype=uint8)"
      ]
     },
     "execution_count": 100,
     "metadata": {},
     "output_type": "execute_result"
    }
   ],
   "source": [
    "y"
   ]
  },
  {
   "cell_type": "code",
   "execution_count": 101,
   "metadata": {},
   "outputs": [
    {
     "data": {
      "text/plain": [
       "(4528, 40)"
      ]
     },
     "execution_count": 101,
     "metadata": {},
     "output_type": "execute_result"
    }
   ],
   "source": [
    "X_train.shape"
   ]
  },
  {
   "cell_type": "code",
   "execution_count": 102,
   "metadata": {},
   "outputs": [
    {
     "data": {
      "text/plain": [
       "(970, 40)"
      ]
     },
     "execution_count": 102,
     "metadata": {},
     "output_type": "execute_result"
    }
   ],
   "source": [
    "X_val.shape"
   ]
  },
  {
   "cell_type": "code",
   "execution_count": 103,
   "metadata": {},
   "outputs": [
    {
     "data": {
      "text/plain": [
       "(971, 40)"
      ]
     },
     "execution_count": 103,
     "metadata": {},
     "output_type": "execute_result"
    }
   ],
   "source": [
    "X_test.shape"
   ]
  },
  {
   "cell_type": "code",
   "execution_count": 104,
   "metadata": {},
   "outputs": [
    {
     "data": {
      "text/plain": [
       "(4528, 3)"
      ]
     },
     "execution_count": 104,
     "metadata": {},
     "output_type": "execute_result"
    }
   ],
   "source": [
    "y_train.shape"
   ]
  },
  {
   "cell_type": "code",
   "execution_count": 105,
   "metadata": {},
   "outputs": [
    {
     "data": {
      "text/plain": [
       "(970, 3)"
      ]
     },
     "execution_count": 105,
     "metadata": {},
     "output_type": "execute_result"
    }
   ],
   "source": [
    "y_val.shape"
   ]
  },
  {
   "cell_type": "code",
   "execution_count": 106,
   "metadata": {},
   "outputs": [
    {
     "data": {
      "text/plain": [
       "(971, 3)"
      ]
     },
     "execution_count": 106,
     "metadata": {},
     "output_type": "execute_result"
    }
   ],
   "source": [
    "y_test.shape"
   ]
  },
  {
   "cell_type": "code",
   "execution_count": null,
   "metadata": {},
   "outputs": [],
   "source": [
    "# TRAIN an XGBOOST MODEL"
   ]
  },
  {
   "cell_type": "code",
   "execution_count": 107,
   "metadata": {},
   "outputs": [],
   "source": [
    "# Define the model\n",
    "from xgboost import XGBClassifier\n",
    "from sklearn.metrics import accuracy_score\n",
    "model = XGBClassifier()"
   ]
  },
  {
   "cell_type": "code",
   "execution_count": 108,
   "metadata": {},
   "outputs": [
    {
     "data": {
      "text/html": [
       "<style>#sk-container-id-3 {color: black;background-color: white;}#sk-container-id-3 pre{padding: 0;}#sk-container-id-3 div.sk-toggleable {background-color: white;}#sk-container-id-3 label.sk-toggleable__label {cursor: pointer;display: block;width: 100%;margin-bottom: 0;padding: 0.3em;box-sizing: border-box;text-align: center;}#sk-container-id-3 label.sk-toggleable__label-arrow:before {content: \"▸\";float: left;margin-right: 0.25em;color: #696969;}#sk-container-id-3 label.sk-toggleable__label-arrow:hover:before {color: black;}#sk-container-id-3 div.sk-estimator:hover label.sk-toggleable__label-arrow:before {color: black;}#sk-container-id-3 div.sk-toggleable__content {max-height: 0;max-width: 0;overflow: hidden;text-align: left;background-color: #f0f8ff;}#sk-container-id-3 div.sk-toggleable__content pre {margin: 0.2em;color: black;border-radius: 0.25em;background-color: #f0f8ff;}#sk-container-id-3 input.sk-toggleable__control:checked~div.sk-toggleable__content {max-height: 200px;max-width: 100%;overflow: auto;}#sk-container-id-3 input.sk-toggleable__control:checked~label.sk-toggleable__label-arrow:before {content: \"▾\";}#sk-container-id-3 div.sk-estimator input.sk-toggleable__control:checked~label.sk-toggleable__label {background-color: #d4ebff;}#sk-container-id-3 div.sk-label input.sk-toggleable__control:checked~label.sk-toggleable__label {background-color: #d4ebff;}#sk-container-id-3 input.sk-hidden--visually {border: 0;clip: rect(1px 1px 1px 1px);clip: rect(1px, 1px, 1px, 1px);height: 1px;margin: -1px;overflow: hidden;padding: 0;position: absolute;width: 1px;}#sk-container-id-3 div.sk-estimator {font-family: monospace;background-color: #f0f8ff;border: 1px dotted black;border-radius: 0.25em;box-sizing: border-box;margin-bottom: 0.5em;}#sk-container-id-3 div.sk-estimator:hover {background-color: #d4ebff;}#sk-container-id-3 div.sk-parallel-item::after {content: \"\";width: 100%;border-bottom: 1px solid gray;flex-grow: 1;}#sk-container-id-3 div.sk-label:hover label.sk-toggleable__label {background-color: #d4ebff;}#sk-container-id-3 div.sk-serial::before {content: \"\";position: absolute;border-left: 1px solid gray;box-sizing: border-box;top: 0;bottom: 0;left: 50%;z-index: 0;}#sk-container-id-3 div.sk-serial {display: flex;flex-direction: column;align-items: center;background-color: white;padding-right: 0.2em;padding-left: 0.2em;position: relative;}#sk-container-id-3 div.sk-item {position: relative;z-index: 1;}#sk-container-id-3 div.sk-parallel {display: flex;align-items: stretch;justify-content: center;background-color: white;position: relative;}#sk-container-id-3 div.sk-item::before, #sk-container-id-3 div.sk-parallel-item::before {content: \"\";position: absolute;border-left: 1px solid gray;box-sizing: border-box;top: 0;bottom: 0;left: 50%;z-index: -1;}#sk-container-id-3 div.sk-parallel-item {display: flex;flex-direction: column;z-index: 1;position: relative;background-color: white;}#sk-container-id-3 div.sk-parallel-item:first-child::after {align-self: flex-end;width: 50%;}#sk-container-id-3 div.sk-parallel-item:last-child::after {align-self: flex-start;width: 50%;}#sk-container-id-3 div.sk-parallel-item:only-child::after {width: 0;}#sk-container-id-3 div.sk-dashed-wrapped {border: 1px dashed gray;margin: 0 0.4em 0.5em 0.4em;box-sizing: border-box;padding-bottom: 0.4em;background-color: white;}#sk-container-id-3 div.sk-label label {font-family: monospace;font-weight: bold;display: inline-block;line-height: 1.2em;}#sk-container-id-3 div.sk-label-container {text-align: center;}#sk-container-id-3 div.sk-container {/* jupyter's `normalize.less` sets `[hidden] { display: none; }` but bootstrap.min.css set `[hidden] { display: none !important; }` so we also need the `!important` here to be able to override the default hidden behavior on the sphinx rendered scikit-learn.org. See: https://github.com/scikit-learn/scikit-learn/issues/21755 */display: inline-block !important;position: relative;}#sk-container-id-3 div.sk-text-repr-fallback {display: none;}</style><div id=\"sk-container-id-3\" class=\"sk-top-container\"><div class=\"sk-text-repr-fallback\"><pre>XGBClassifier(base_score=0.5, booster=&#x27;gbtree&#x27;, callbacks=None,\n",
       "              colsample_bylevel=1, colsample_bynode=1, colsample_bytree=1,\n",
       "              early_stopping_rounds=None, enable_categorical=False,\n",
       "              eval_metric=None, gamma=0, gpu_id=-1, grow_policy=&#x27;depthwise&#x27;,\n",
       "              importance_type=None, interaction_constraints=&#x27;&#x27;,\n",
       "              learning_rate=0.300000012, max_bin=256, max_cat_to_onehot=4,\n",
       "              max_delta_step=0, max_depth=6, max_leaves=0, min_child_weight=1,\n",
       "              missing=nan, monotone_constraints=&#x27;()&#x27;, n_estimators=100,\n",
       "              n_jobs=0, num_parallel_tree=1, predictor=&#x27;auto&#x27;, random_state=0,\n",
       "              reg_alpha=0, reg_lambda=1, ...)</pre><b>In a Jupyter environment, please rerun this cell to show the HTML representation or trust the notebook. <br />On GitHub, the HTML representation is unable to render, please try loading this page with nbviewer.org.</b></div><div class=\"sk-container\" hidden><div class=\"sk-item\"><div class=\"sk-estimator sk-toggleable\"><input class=\"sk-toggleable__control sk-hidden--visually\" id=\"sk-estimator-id-3\" type=\"checkbox\" checked><label for=\"sk-estimator-id-3\" class=\"sk-toggleable__label sk-toggleable__label-arrow\">XGBClassifier</label><div class=\"sk-toggleable__content\"><pre>XGBClassifier(base_score=0.5, booster=&#x27;gbtree&#x27;, callbacks=None,\n",
       "              colsample_bylevel=1, colsample_bynode=1, colsample_bytree=1,\n",
       "              early_stopping_rounds=None, enable_categorical=False,\n",
       "              eval_metric=None, gamma=0, gpu_id=-1, grow_policy=&#x27;depthwise&#x27;,\n",
       "              importance_type=None, interaction_constraints=&#x27;&#x27;,\n",
       "              learning_rate=0.300000012, max_bin=256, max_cat_to_onehot=4,\n",
       "              max_delta_step=0, max_depth=6, max_leaves=0, min_child_weight=1,\n",
       "              missing=nan, monotone_constraints=&#x27;()&#x27;, n_estimators=100,\n",
       "              n_jobs=0, num_parallel_tree=1, predictor=&#x27;auto&#x27;, random_state=0,\n",
       "              reg_alpha=0, reg_lambda=1, ...)</pre></div></div></div></div></div>"
      ],
      "text/plain": [
       "XGBClassifier(base_score=0.5, booster='gbtree', callbacks=None,\n",
       "              colsample_bylevel=1, colsample_bynode=1, colsample_bytree=1,\n",
       "              early_stopping_rounds=None, enable_categorical=False,\n",
       "              eval_metric=None, gamma=0, gpu_id=-1, grow_policy='depthwise',\n",
       "              importance_type=None, interaction_constraints='',\n",
       "              learning_rate=0.300000012, max_bin=256, max_cat_to_onehot=4,\n",
       "              max_delta_step=0, max_depth=6, max_leaves=0, min_child_weight=1,\n",
       "              missing=nan, monotone_constraints='()', n_estimators=100,\n",
       "              n_jobs=0, num_parallel_tree=1, predictor='auto', random_state=0,\n",
       "              reg_alpha=0, reg_lambda=1, ...)"
      ]
     },
     "execution_count": 108,
     "metadata": {},
     "output_type": "execute_result"
    }
   ],
   "source": [
    "# Train the model\n",
    "model.fit(X_train, y_train)"
   ]
  },
  {
   "cell_type": "code",
   "execution_count": 109,
   "metadata": {},
   "outputs": [],
   "source": [
    "# Get the predictions\n",
    "y_pred = model.predict(X_test)\n",
    "predictions = [np.round(x) for x in y_pred]"
   ]
  },
  {
   "cell_type": "code",
   "execution_count": 110,
   "metadata": {},
   "outputs": [
    {
     "name": "stdout",
     "output_type": "stream",
     "text": [
      "Accuracy: 42.95%\n"
     ]
    }
   ],
   "source": [
    "# Check the accuracy\n",
    "accuracy = accuracy_score(y_test, predictions)\n",
    "print(\"Accuracy: %.2f%%\" % (accuracy * 100.0))"
   ]
  },
  {
   "cell_type": "code",
   "execution_count": null,
   "metadata": {},
   "outputs": [],
   "source": [
    "# Train an ANN model"
   ]
  },
  {
   "cell_type": "code",
   "execution_count": 111,
   "metadata": {},
   "outputs": [],
   "source": [
    "# Define the model\n",
    "from tensorflow.keras.models import Sequential\n",
    "from tensorflow.keras.layers import Dense,Dropout,Activation,Flatten\n",
    "from tensorflow.keras.optimizers import Adam\n",
    "from sklearn import metrics\n",
    "\n",
    "### No of classes\n",
    "num_labels = y.shape[1]\n",
    "\n",
    "model=Sequential()\n",
    "#First Layer\n",
    "model.add(Dense(1024,input_shape=(40,)))\n",
    "model.add(Activation('relu'))\n",
    "model.add(Dropout(0.50))\n",
    "\n",
    "#Second Layer\n",
    "model.add(Dense(512))\n",
    "model.add(Activation('relu'))\n",
    "model.add(Dropout(0.30))\n",
    "\n",
    "#Third Layer\n",
    "model.add(Dense(256))\n",
    "model.add(Activation('relu'))\n",
    "model.add(Dropout(0.25))\n",
    "\n",
    "#Fourth Layer\n",
    "model.add(Dense(128))\n",
    "model.add(Activation('relu'))\n",
    "model.add(Dropout(0.25))\n",
    "\n",
    "#Final Layer\n",
    "model.add(Dense(num_labels))\n",
    "model.add(Activation('softmax'))"
   ]
  },
  {
   "cell_type": "code",
   "execution_count": 112,
   "metadata": {},
   "outputs": [
    {
     "name": "stdout",
     "output_type": "stream",
     "text": [
      "Model: \"sequential_2\"\n",
      "_________________________________________________________________\n",
      " Layer (type)                Output Shape              Param #   \n",
      "=================================================================\n",
      " dense_10 (Dense)            (None, 1024)              41984     \n",
      "                                                                 \n",
      " activation_10 (Activation)  (None, 1024)              0         \n",
      "                                                                 \n",
      " dropout_8 (Dropout)         (None, 1024)              0         \n",
      "                                                                 \n",
      " dense_11 (Dense)            (None, 512)               524800    \n",
      "                                                                 \n",
      " activation_11 (Activation)  (None, 512)               0         \n",
      "                                                                 \n",
      " dropout_9 (Dropout)         (None, 512)               0         \n",
      "                                                                 \n",
      " dense_12 (Dense)            (None, 256)               131328    \n",
      "                                                                 \n",
      " activation_12 (Activation)  (None, 256)               0         \n",
      "                                                                 \n",
      " dropout_10 (Dropout)        (None, 256)               0         \n",
      "                                                                 \n",
      " dense_13 (Dense)            (None, 128)               32896     \n",
      "                                                                 \n",
      " activation_13 (Activation)  (None, 128)               0         \n",
      "                                                                 \n",
      " dropout_11 (Dropout)        (None, 128)               0         \n",
      "                                                                 \n",
      " dense_14 (Dense)            (None, 3)                 387       \n",
      "                                                                 \n",
      " activation_14 (Activation)  (None, 3)                 0         \n",
      "                                                                 \n",
      "=================================================================\n",
      "Total params: 731,395\n",
      "Trainable params: 731,395\n",
      "Non-trainable params: 0\n",
      "_________________________________________________________________\n"
     ]
    }
   ],
   "source": [
    "model.summary()"
   ]
  },
  {
   "cell_type": "code",
   "execution_count": 113,
   "metadata": {},
   "outputs": [],
   "source": [
    "# Compile the model with loss and optimizer\n",
    "model.compile(loss='categorical_crossentropy',metrics=['accuracy'],optimizer='adam')"
   ]
  },
  {
   "cell_type": "code",
   "execution_count": 114,
   "metadata": {},
   "outputs": [
    {
     "name": "stdout",
     "output_type": "stream",
     "text": [
      "Epoch 1/200\n",
      "142/142 [==============================] - ETA: 0s - loss: 4.1936 - accuracy: 0.3801\n",
      "Epoch 1: val_loss improved from inf to 1.07835, saving model to audio_classification_v2.0.hdf5\n",
      "142/142 [==============================] - 3s 13ms/step - loss: 4.1936 - accuracy: 0.3801 - val_loss: 1.0783 - val_accuracy: 0.3639\n",
      "Epoch 2/200\n",
      "141/142 [============================>.] - ETA: 0s - loss: 1.2547 - accuracy: 0.4014\n",
      "Epoch 2: val_loss did not improve from 1.07835\n",
      "142/142 [==============================] - 2s 11ms/step - loss: 1.2543 - accuracy: 0.4013 - val_loss: 1.0991 - val_accuracy: 0.4742\n",
      "Epoch 3/200\n",
      "140/142 [============================>.] - ETA: 0s - loss: 1.1310 - accuracy: 0.4062\n",
      "Epoch 3: val_loss improved from 1.07835 to 1.04778, saving model to audio_classification_v2.0.hdf5\n",
      "142/142 [==============================] - 2s 14ms/step - loss: 1.1289 - accuracy: 0.4072 - val_loss: 1.0478 - val_accuracy: 0.4474\n",
      "Epoch 4/200\n",
      "140/142 [============================>.] - ETA: 0s - loss: 1.0874 - accuracy: 0.4087\n",
      "Epoch 4: val_loss improved from 1.04778 to 1.04392, saving model to audio_classification_v2.0.hdf5\n",
      "142/142 [==============================] - 1s 10ms/step - loss: 1.0873 - accuracy: 0.4083 - val_loss: 1.0439 - val_accuracy: 0.4464\n",
      "Epoch 5/200\n",
      "141/142 [============================>.] - ETA: 0s - loss: 1.0649 - accuracy: 0.4309\n",
      "Epoch 5: val_loss did not improve from 1.04392\n",
      "142/142 [==============================] - 1s 10ms/step - loss: 1.0648 - accuracy: 0.4302 - val_loss: 1.0512 - val_accuracy: 0.3268\n",
      "Epoch 6/200\n",
      "137/142 [===========================>..] - ETA: 0s - loss: 1.0574 - accuracy: 0.4284\n",
      "Epoch 6: val_loss did not improve from 1.04392\n",
      "142/142 [==============================] - 1s 10ms/step - loss: 1.0564 - accuracy: 0.4273 - val_loss: 1.0442 - val_accuracy: 0.4526\n",
      "Epoch 7/200\n",
      "140/142 [============================>.] - ETA: 0s - loss: 1.0505 - accuracy: 0.4297\n",
      "Epoch 7: val_loss improved from 1.04392 to 1.03761, saving model to audio_classification_v2.0.hdf5\n",
      "142/142 [==============================] - 4s 25ms/step - loss: 1.0499 - accuracy: 0.4311 - val_loss: 1.0376 - val_accuracy: 0.4619\n",
      "Epoch 8/200\n",
      "138/142 [============================>.] - ETA: 0s - loss: 1.0415 - accuracy: 0.4321\n",
      "Epoch 8: val_loss improved from 1.03761 to 1.03225, saving model to audio_classification_v2.0.hdf5\n",
      "142/142 [==============================] - 2s 12ms/step - loss: 1.0409 - accuracy: 0.4329 - val_loss: 1.0323 - val_accuracy: 0.4691\n",
      "Epoch 9/200\n",
      "140/142 [============================>.] - ETA: 0s - loss: 1.0406 - accuracy: 0.4424\n",
      "Epoch 9: val_loss improved from 1.03225 to 1.02693, saving model to audio_classification_v2.0.hdf5\n",
      "142/142 [==============================] - 2s 11ms/step - loss: 1.0413 - accuracy: 0.4419 - val_loss: 1.0269 - val_accuracy: 0.4742\n",
      "Epoch 10/200\n",
      "140/142 [============================>.] - ETA: 0s - loss: 1.0245 - accuracy: 0.4571\n",
      "Epoch 10: val_loss did not improve from 1.02693\n",
      "142/142 [==============================] - 1s 9ms/step - loss: 1.0239 - accuracy: 0.4574 - val_loss: 1.0305 - val_accuracy: 0.4753\n",
      "Epoch 11/200\n",
      "142/142 [==============================] - ETA: 0s - loss: 1.0168 - accuracy: 0.4660\n",
      "Epoch 11: val_loss improved from 1.02693 to 1.02546, saving model to audio_classification_v2.0.hdf5\n",
      "142/142 [==============================] - 1s 10ms/step - loss: 1.0168 - accuracy: 0.4660 - val_loss: 1.0255 - val_accuracy: 0.4701\n",
      "Epoch 12/200\n",
      "142/142 [==============================] - ETA: 0s - loss: 1.0145 - accuracy: 0.4596\n",
      "Epoch 12: val_loss did not improve from 1.02546\n",
      "142/142 [==============================] - 1s 10ms/step - loss: 1.0145 - accuracy: 0.4596 - val_loss: 1.0358 - val_accuracy: 0.4701\n",
      "Epoch 13/200\n",
      "140/142 [============================>.] - ETA: 0s - loss: 1.0107 - accuracy: 0.4650\n",
      "Epoch 13: val_loss improved from 1.02546 to 1.01361, saving model to audio_classification_v2.0.hdf5\n",
      "142/142 [==============================] - 2s 17ms/step - loss: 1.0120 - accuracy: 0.4649 - val_loss: 1.0136 - val_accuracy: 0.4948\n",
      "Epoch 14/200\n",
      "141/142 [============================>.] - ETA: 0s - loss: 1.0064 - accuracy: 0.4825\n",
      "Epoch 14: val_loss improved from 1.01361 to 0.99908, saving model to audio_classification_v2.0.hdf5\n",
      "142/142 [==============================] - 2s 12ms/step - loss: 1.0071 - accuracy: 0.4823 - val_loss: 0.9991 - val_accuracy: 0.4979\n",
      "Epoch 15/200\n",
      "142/142 [==============================] - ETA: 0s - loss: 0.9980 - accuracy: 0.4759\n",
      "Epoch 15: val_loss did not improve from 0.99908\n",
      "142/142 [==============================] - 1s 11ms/step - loss: 0.9980 - accuracy: 0.4759 - val_loss: 1.0021 - val_accuracy: 0.5010\n",
      "Epoch 16/200\n",
      "139/142 [============================>.] - ETA: 0s - loss: 0.9923 - accuracy: 0.4906\n",
      "Epoch 16: val_loss improved from 0.99908 to 0.99080, saving model to audio_classification_v2.0.hdf5\n",
      "142/142 [==============================] - 1s 10ms/step - loss: 0.9916 - accuracy: 0.4918 - val_loss: 0.9908 - val_accuracy: 0.5124\n",
      "Epoch 17/200\n",
      "137/142 [===========================>..] - ETA: 0s - loss: 0.9914 - accuracy: 0.4986\n",
      "Epoch 17: val_loss improved from 0.99080 to 0.99002, saving model to audio_classification_v2.0.hdf5\n",
      "142/142 [==============================] - 1s 10ms/step - loss: 0.9918 - accuracy: 0.4985 - val_loss: 0.9900 - val_accuracy: 0.5082\n",
      "Epoch 18/200\n",
      "137/142 [===========================>..] - ETA: 0s - loss: 0.9806 - accuracy: 0.5075\n",
      "Epoch 18: val_loss did not improve from 0.99002\n",
      "142/142 [==============================] - 1s 10ms/step - loss: 0.9815 - accuracy: 0.5082 - val_loss: 0.9919 - val_accuracy: 0.5196\n",
      "Epoch 19/200\n",
      "141/142 [============================>.] - ETA: 0s - loss: 0.9891 - accuracy: 0.4907\n",
      "Epoch 19: val_loss improved from 0.99002 to 0.98352, saving model to audio_classification_v2.0.hdf5\n",
      "142/142 [==============================] - 2s 14ms/step - loss: 0.9889 - accuracy: 0.4912 - val_loss: 0.9835 - val_accuracy: 0.5237\n",
      "Epoch 20/200\n",
      "140/142 [============================>.] - ETA: 0s - loss: 0.9728 - accuracy: 0.5154\n",
      "Epoch 20: val_loss improved from 0.98352 to 0.97730, saving model to audio_classification_v2.0.hdf5\n",
      "142/142 [==============================] - 2s 14ms/step - loss: 0.9742 - accuracy: 0.5141 - val_loss: 0.9773 - val_accuracy: 0.5227\n",
      "Epoch 21/200\n",
      "137/142 [===========================>..] - ETA: 0s - loss: 0.9721 - accuracy: 0.5167\n",
      "Epoch 21: val_loss improved from 0.97730 to 0.96766, saving model to audio_classification_v2.0.hdf5\n",
      "142/142 [==============================] - 1s 11ms/step - loss: 0.9717 - accuracy: 0.5155 - val_loss: 0.9677 - val_accuracy: 0.5309\n",
      "Epoch 22/200\n",
      "141/142 [============================>.] - ETA: 0s - loss: 0.9595 - accuracy: 0.5248\n",
      "Epoch 22: val_loss did not improve from 0.96766\n",
      "142/142 [==============================] - 1s 10ms/step - loss: 0.9586 - accuracy: 0.5258 - val_loss: 0.9766 - val_accuracy: 0.5258\n",
      "Epoch 23/200\n",
      "136/142 [===========================>..] - ETA: 0s - loss: 0.9628 - accuracy: 0.5230\n",
      "Epoch 23: val_loss did not improve from 0.96766\n",
      "142/142 [==============================] - 1s 9ms/step - loss: 0.9599 - accuracy: 0.5252 - val_loss: 1.0096 - val_accuracy: 0.5093\n",
      "Epoch 24/200\n",
      "142/142 [==============================] - ETA: 0s - loss: 0.9600 - accuracy: 0.5331\n",
      "Epoch 24: val_loss improved from 0.96766 to 0.96029, saving model to audio_classification_v2.0.hdf5\n",
      "142/142 [==============================] - 2s 14ms/step - loss: 0.9600 - accuracy: 0.5331 - val_loss: 0.9603 - val_accuracy: 0.5505\n",
      "Epoch 25/200\n",
      "142/142 [==============================] - ETA: 0s - loss: 0.9527 - accuracy: 0.5329\n",
      "Epoch 25: val_loss improved from 0.96029 to 0.94691, saving model to audio_classification_v2.0.hdf5\n",
      "142/142 [==============================] - 2s 11ms/step - loss: 0.9527 - accuracy: 0.5329 - val_loss: 0.9469 - val_accuracy: 0.5660\n",
      "Epoch 26/200\n",
      "138/142 [============================>.] - ETA: 0s - loss: 0.9559 - accuracy: 0.5353\n",
      "Epoch 26: val_loss improved from 0.94691 to 0.94054, saving model to audio_classification_v2.0.hdf5\n",
      "142/142 [==============================] - 2s 12ms/step - loss: 0.9554 - accuracy: 0.5351 - val_loss: 0.9405 - val_accuracy: 0.5701\n",
      "Epoch 27/200\n",
      "138/142 [============================>.] - ETA: 0s - loss: 0.9491 - accuracy: 0.5378\n",
      "Epoch 27: val_loss improved from 0.94054 to 0.93721, saving model to audio_classification_v2.0.hdf5\n",
      "142/142 [==============================] - 2s 11ms/step - loss: 0.9479 - accuracy: 0.5380 - val_loss: 0.9372 - val_accuracy: 0.5598\n",
      "Epoch 28/200\n",
      "137/142 [===========================>..] - ETA: 0s - loss: 0.9415 - accuracy: 0.5502\n",
      "Epoch 28: val_loss did not improve from 0.93721\n",
      "142/142 [==============================] - 1s 10ms/step - loss: 0.9447 - accuracy: 0.5486 - val_loss: 0.9408 - val_accuracy: 0.5753\n",
      "Epoch 29/200\n",
      "140/142 [============================>.] - ETA: 0s - loss: 0.9459 - accuracy: 0.5415\n",
      "Epoch 29: val_loss did not improve from 0.93721\n",
      "142/142 [==============================] - 1s 10ms/step - loss: 0.9452 - accuracy: 0.5417 - val_loss: 0.9399 - val_accuracy: 0.5546\n",
      "Epoch 30/200\n",
      "137/142 [===========================>..] - ETA: 0s - loss: 0.9356 - accuracy: 0.5472\n",
      "Epoch 30: val_loss did not improve from 0.93721\n",
      "142/142 [==============================] - 1s 10ms/step - loss: 0.9379 - accuracy: 0.5459 - val_loss: 0.9588 - val_accuracy: 0.5753\n",
      "Epoch 31/200\n",
      "142/142 [==============================] - ETA: 0s - loss: 0.9367 - accuracy: 0.5539\n",
      "Epoch 31: val_loss did not improve from 0.93721\n",
      "142/142 [==============================] - 1s 10ms/step - loss: 0.9367 - accuracy: 0.5539 - val_loss: 0.9454 - val_accuracy: 0.5649\n",
      "Epoch 32/200\n",
      "141/142 [============================>.] - ETA: 0s - loss: 0.9362 - accuracy: 0.5474\n",
      "Epoch 32: val_loss improved from 0.93721 to 0.93115, saving model to audio_classification_v2.0.hdf5\n",
      "142/142 [==============================] - 1s 8ms/step - loss: 0.9362 - accuracy: 0.5473 - val_loss: 0.9311 - val_accuracy: 0.5773\n",
      "Epoch 33/200\n",
      "139/142 [============================>.] - ETA: 0s - loss: 0.9337 - accuracy: 0.5510\n",
      "Epoch 33: val_loss did not improve from 0.93115\n",
      "142/142 [==============================] - 1s 10ms/step - loss: 0.9342 - accuracy: 0.5486 - val_loss: 0.9457 - val_accuracy: 0.5567\n",
      "Epoch 34/200\n",
      "141/142 [============================>.] - ETA: 0s - loss: 0.9308 - accuracy: 0.5492\n",
      "Epoch 34: val_loss did not improve from 0.93115\n",
      "142/142 [==============================] - 1s 11ms/step - loss: 0.9312 - accuracy: 0.5488 - val_loss: 0.9325 - val_accuracy: 0.5701\n",
      "Epoch 35/200\n",
      "140/142 [============================>.] - ETA: 0s - loss: 0.9320 - accuracy: 0.5467\n",
      "Epoch 35: val_loss did not improve from 0.93115\n",
      "142/142 [==============================] - 1s 10ms/step - loss: 0.9330 - accuracy: 0.5459 - val_loss: 0.9346 - val_accuracy: 0.5567\n",
      "Epoch 36/200\n",
      "141/142 [============================>.] - ETA: 0s - loss: 0.9297 - accuracy: 0.5563\n",
      "Epoch 36: val_loss improved from 0.93115 to 0.92587, saving model to audio_classification_v2.0.hdf5\n",
      "142/142 [==============================] - 2s 11ms/step - loss: 0.9291 - accuracy: 0.5568 - val_loss: 0.9259 - val_accuracy: 0.5794\n",
      "Epoch 37/200\n",
      "140/142 [============================>.] - ETA: 0s - loss: 0.9253 - accuracy: 0.5580\n",
      "Epoch 37: val_loss did not improve from 0.92587\n",
      "142/142 [==============================] - 1s 10ms/step - loss: 0.9259 - accuracy: 0.5583 - val_loss: 0.9374 - val_accuracy: 0.5629\n",
      "Epoch 38/200\n",
      "137/142 [===========================>..] - ETA: 0s - loss: 0.9196 - accuracy: 0.5655\n",
      "Epoch 38: val_loss did not improve from 0.92587\n",
      "142/142 [==============================] - 1s 10ms/step - loss: 0.9192 - accuracy: 0.5665 - val_loss: 0.9490 - val_accuracy: 0.5629\n",
      "Epoch 39/200\n",
      "141/142 [============================>.] - ETA: 0s - loss: 0.9232 - accuracy: 0.5596\n",
      "Epoch 39: val_loss did not improve from 0.92587\n",
      "142/142 [==============================] - 1s 10ms/step - loss: 0.9235 - accuracy: 0.5590 - val_loss: 0.9324 - val_accuracy: 0.5845\n",
      "Epoch 40/200\n",
      "139/142 [============================>.] - ETA: 0s - loss: 0.9176 - accuracy: 0.5580\n",
      "Epoch 40: val_loss improved from 0.92587 to 0.92432, saving model to audio_classification_v2.0.hdf5\n",
      "142/142 [==============================] - 2s 13ms/step - loss: 0.9185 - accuracy: 0.5570 - val_loss: 0.9243 - val_accuracy: 0.5835\n",
      "Epoch 41/200\n",
      "139/142 [============================>.] - ETA: 0s - loss: 0.9171 - accuracy: 0.5591\n",
      "Epoch 41: val_loss did not improve from 0.92432\n",
      "142/142 [==============================] - 2s 11ms/step - loss: 0.9171 - accuracy: 0.5592 - val_loss: 0.9358 - val_accuracy: 0.5649\n",
      "Epoch 42/200\n",
      "139/142 [============================>.] - ETA: 0s - loss: 0.9251 - accuracy: 0.5562\n",
      "Epoch 42: val_loss did not improve from 0.92432\n",
      "142/142 [==============================] - 1s 10ms/step - loss: 0.9247 - accuracy: 0.5559 - val_loss: 0.9287 - val_accuracy: 0.5814\n",
      "Epoch 43/200\n",
      "139/142 [============================>.] - ETA: 0s - loss: 0.9203 - accuracy: 0.5697\n",
      "Epoch 43: val_loss did not improve from 0.92432\n",
      "142/142 [==============================] - 1s 10ms/step - loss: 0.9189 - accuracy: 0.5705 - val_loss: 0.9310 - val_accuracy: 0.5701\n",
      "Epoch 44/200\n",
      "139/142 [============================>.] - ETA: 0s - loss: 0.9217 - accuracy: 0.5674\n",
      "Epoch 44: val_loss did not improve from 0.92432\n",
      "142/142 [==============================] - 1s 10ms/step - loss: 0.9231 - accuracy: 0.5660 - val_loss: 0.9442 - val_accuracy: 0.5423\n",
      "Epoch 45/200\n",
      "138/142 [============================>.] - ETA: 0s - loss: 0.9197 - accuracy: 0.5611\n",
      "Epoch 45: val_loss did not improve from 0.92432\n",
      "142/142 [==============================] - 1s 10ms/step - loss: 0.9192 - accuracy: 0.5623 - val_loss: 0.9313 - val_accuracy: 0.5701\n",
      "Epoch 46/200\n",
      "136/142 [===========================>..] - ETA: 0s - loss: 0.9170 - accuracy: 0.5639\n",
      "Epoch 46: val_loss did not improve from 0.92432\n",
      "142/142 [==============================] - 1s 10ms/step - loss: 0.9181 - accuracy: 0.5638 - val_loss: 0.9510 - val_accuracy: 0.5701\n",
      "Epoch 47/200\n",
      "141/142 [============================>.] - ETA: 0s - loss: 0.9131 - accuracy: 0.5669\n",
      "Epoch 47: val_loss did not improve from 0.92432\n",
      "142/142 [==============================] - 1s 10ms/step - loss: 0.9134 - accuracy: 0.5674 - val_loss: 0.9300 - val_accuracy: 0.5732\n",
      "Epoch 48/200\n",
      "138/142 [============================>.] - ETA: 0s - loss: 0.9144 - accuracy: 0.5596\n",
      "Epoch 48: val_loss did not improve from 0.92432\n",
      "142/142 [==============================] - 1s 10ms/step - loss: 0.9154 - accuracy: 0.5585 - val_loss: 0.9330 - val_accuracy: 0.5794\n",
      "Epoch 49/200\n",
      "140/142 [============================>.] - ETA: 0s - loss: 0.9144 - accuracy: 0.5623\n",
      "Epoch 49: val_loss did not improve from 0.92432\n",
      "142/142 [==============================] - 1s 10ms/step - loss: 0.9144 - accuracy: 0.5618 - val_loss: 0.9298 - val_accuracy: 0.5711\n",
      "Epoch 50/200\n",
      "139/142 [============================>.] - ETA: 0s - loss: 0.9116 - accuracy: 0.5659\n",
      "Epoch 50: val_loss did not improve from 0.92432\n",
      "142/142 [==============================] - 1s 10ms/step - loss: 0.9112 - accuracy: 0.5658 - val_loss: 0.9333 - val_accuracy: 0.5711\n",
      "Epoch 51/200\n",
      "142/142 [==============================] - ETA: 0s - loss: 0.9143 - accuracy: 0.5713\n",
      "Epoch 51: val_loss did not improve from 0.92432\n",
      "142/142 [==============================] - 1s 10ms/step - loss: 0.9143 - accuracy: 0.5713 - val_loss: 0.9292 - val_accuracy: 0.5804\n",
      "Epoch 52/200\n",
      "142/142 [==============================] - ETA: 0s - loss: 0.9126 - accuracy: 0.5753\n",
      "Epoch 52: val_loss did not improve from 0.92432\n",
      "142/142 [==============================] - 1s 10ms/step - loss: 0.9126 - accuracy: 0.5753 - val_loss: 0.9256 - val_accuracy: 0.5773\n",
      "Epoch 53/200\n",
      "139/142 [============================>.] - ETA: 0s - loss: 0.9079 - accuracy: 0.5722\n",
      "Epoch 53: val_loss did not improve from 0.92432\n",
      "142/142 [==============================] - 1s 9ms/step - loss: 0.9098 - accuracy: 0.5707 - val_loss: 0.9298 - val_accuracy: 0.5845\n",
      "Epoch 54/200\n",
      "141/142 [============================>.] - ETA: 0s - loss: 0.9106 - accuracy: 0.5696\n",
      "Epoch 54: val_loss did not improve from 0.92432\n",
      "142/142 [==============================] - 1s 10ms/step - loss: 0.9103 - accuracy: 0.5693 - val_loss: 0.9288 - val_accuracy: 0.5845\n",
      "Epoch 55/200\n",
      "140/142 [============================>.] - ETA: 0s - loss: 0.9128 - accuracy: 0.5717\n",
      "Epoch 55: val_loss did not improve from 0.92432\n",
      "142/142 [==============================] - 1s 10ms/step - loss: 0.9135 - accuracy: 0.5716 - val_loss: 0.9527 - val_accuracy: 0.5443\n",
      "Epoch 56/200\n",
      "141/142 [============================>.] - ETA: 0s - loss: 0.9114 - accuracy: 0.5672\n",
      "Epoch 56: val_loss did not improve from 0.92432\n",
      "142/142 [==============================] - 1s 10ms/step - loss: 0.9109 - accuracy: 0.5676 - val_loss: 0.9308 - val_accuracy: 0.5773\n",
      "Epoch 57/200\n",
      "137/142 [===========================>..] - ETA: 0s - loss: 0.9077 - accuracy: 0.5785\n",
      "Epoch 57: val_loss improved from 0.92432 to 0.92284, saving model to audio_classification_v2.0.hdf5\n",
      "142/142 [==============================] - 2s 11ms/step - loss: 0.9121 - accuracy: 0.5762 - val_loss: 0.9228 - val_accuracy: 0.5835\n",
      "Epoch 58/200\n",
      "137/142 [===========================>..] - ETA: 0s - loss: 0.9130 - accuracy: 0.5728\n",
      "Epoch 58: val_loss improved from 0.92284 to 0.91617, saving model to audio_classification_v2.0.hdf5\n",
      "142/142 [==============================] - 2s 11ms/step - loss: 0.9108 - accuracy: 0.5731 - val_loss: 0.9162 - val_accuracy: 0.5814\n",
      "Epoch 59/200\n",
      "140/142 [============================>.] - ETA: 0s - loss: 0.9079 - accuracy: 0.5768\n",
      "Epoch 59: val_loss did not improve from 0.91617\n",
      "142/142 [==============================] - 1s 9ms/step - loss: 0.9083 - accuracy: 0.5762 - val_loss: 0.9291 - val_accuracy: 0.5784\n",
      "Epoch 60/200\n",
      "137/142 [===========================>..] - ETA: 0s - loss: 0.9014 - accuracy: 0.5819\n",
      "Epoch 60: val_loss did not improve from 0.91617\n",
      "142/142 [==============================] - 1s 9ms/step - loss: 0.9013 - accuracy: 0.5815 - val_loss: 0.9216 - val_accuracy: 0.5753\n",
      "Epoch 61/200\n",
      "139/142 [============================>.] - ETA: 0s - loss: 0.9023 - accuracy: 0.5742\n",
      "Epoch 61: val_loss did not improve from 0.91617\n",
      "142/142 [==============================] - 1s 10ms/step - loss: 0.9027 - accuracy: 0.5744 - val_loss: 0.9328 - val_accuracy: 0.5588\n",
      "Epoch 62/200\n",
      "138/142 [============================>.] - ETA: 0s - loss: 0.9035 - accuracy: 0.5784\n",
      "Epoch 62: val_loss did not improve from 0.91617\n",
      "142/142 [==============================] - 1s 10ms/step - loss: 0.9040 - accuracy: 0.5771 - val_loss: 0.9215 - val_accuracy: 0.5763\n",
      "Epoch 63/200\n",
      "140/142 [============================>.] - ETA: 0s - loss: 0.8982 - accuracy: 0.5754\n",
      "Epoch 63: val_loss did not improve from 0.91617\n",
      "142/142 [==============================] - 1s 10ms/step - loss: 0.8986 - accuracy: 0.5749 - val_loss: 0.9286 - val_accuracy: 0.5619\n",
      "Epoch 64/200\n",
      "138/142 [============================>.] - ETA: 0s - loss: 0.9092 - accuracy: 0.5793\n",
      "Epoch 64: val_loss did not improve from 0.91617\n",
      "142/142 [==============================] - 1s 10ms/step - loss: 0.9102 - accuracy: 0.5788 - val_loss: 0.9204 - val_accuracy: 0.5691\n",
      "Epoch 65/200\n",
      "138/142 [============================>.] - ETA: 0s - loss: 0.8952 - accuracy: 0.5817\n",
      "Epoch 65: val_loss did not improve from 0.91617\n",
      "142/142 [==============================] - 2s 14ms/step - loss: 0.8959 - accuracy: 0.5813 - val_loss: 0.9296 - val_accuracy: 0.5804\n",
      "Epoch 66/200\n",
      "142/142 [==============================] - ETA: 0s - loss: 0.9001 - accuracy: 0.5764\n",
      "Epoch 66: val_loss did not improve from 0.91617\n",
      "142/142 [==============================] - 1s 10ms/step - loss: 0.9001 - accuracy: 0.5764 - val_loss: 0.9206 - val_accuracy: 0.5876\n",
      "Epoch 67/200\n",
      "139/142 [============================>.] - ETA: 0s - loss: 0.8975 - accuracy: 0.5821\n",
      "Epoch 67: val_loss did not improve from 0.91617\n",
      "142/142 [==============================] - 1s 10ms/step - loss: 0.8957 - accuracy: 0.5837 - val_loss: 0.9307 - val_accuracy: 0.5814\n",
      "Epoch 68/200\n",
      "138/142 [============================>.] - ETA: 0s - loss: 0.8997 - accuracy: 0.5768\n",
      "Epoch 68: val_loss did not improve from 0.91617\n",
      "142/142 [==============================] - 1s 10ms/step - loss: 0.8999 - accuracy: 0.5771 - val_loss: 0.9291 - val_accuracy: 0.5711\n",
      "Epoch 69/200\n",
      "139/142 [============================>.] - ETA: 0s - loss: 0.8974 - accuracy: 0.5830\n",
      "Epoch 69: val_loss did not improve from 0.91617\n",
      "142/142 [==============================] - 1s 10ms/step - loss: 0.8966 - accuracy: 0.5830 - val_loss: 0.9340 - val_accuracy: 0.5567\n",
      "Epoch 70/200\n",
      "139/142 [============================>.] - ETA: 0s - loss: 0.9039 - accuracy: 0.5796\n",
      "Epoch 70: val_loss did not improve from 0.91617\n",
      "142/142 [==============================] - 2s 12ms/step - loss: 0.9032 - accuracy: 0.5802 - val_loss: 0.9269 - val_accuracy: 0.5691\n",
      "Epoch 71/200\n",
      "141/142 [============================>.] - ETA: 0s - loss: 0.8927 - accuracy: 0.5875\n",
      "Epoch 71: val_loss did not improve from 0.91617\n",
      "142/142 [==============================] - 1s 10ms/step - loss: 0.8930 - accuracy: 0.5872 - val_loss: 0.9246 - val_accuracy: 0.5804\n",
      "Epoch 72/200\n",
      "141/142 [============================>.] - ETA: 0s - loss: 0.8916 - accuracy: 0.5829\n",
      "Epoch 72: val_loss did not improve from 0.91617\n",
      "142/142 [==============================] - 1s 9ms/step - loss: 0.8915 - accuracy: 0.5830 - val_loss: 0.9289 - val_accuracy: 0.5732\n",
      "Epoch 73/200\n",
      "139/142 [============================>.] - ETA: 0s - loss: 0.8926 - accuracy: 0.5899\n",
      "Epoch 73: val_loss did not improve from 0.91617\n",
      "142/142 [==============================] - 1s 10ms/step - loss: 0.8947 - accuracy: 0.5894 - val_loss: 0.9265 - val_accuracy: 0.5763\n",
      "Epoch 74/200\n",
      "142/142 [==============================] - ETA: 0s - loss: 0.8970 - accuracy: 0.5769\n",
      "Epoch 74: val_loss did not improve from 0.91617\n",
      "142/142 [==============================] - 1s 10ms/step - loss: 0.8970 - accuracy: 0.5769 - val_loss: 0.9257 - val_accuracy: 0.5732\n",
      "Epoch 75/200\n",
      "139/142 [============================>.] - ETA: 0s - loss: 0.9018 - accuracy: 0.5859\n",
      "Epoch 75: val_loss improved from 0.91617 to 0.91609, saving model to audio_classification_v2.0.hdf5\n",
      "142/142 [==============================] - 1s 10ms/step - loss: 0.9007 - accuracy: 0.5875 - val_loss: 0.9161 - val_accuracy: 0.5763\n",
      "Epoch 76/200\n",
      "139/142 [============================>.] - ETA: 0s - loss: 0.8967 - accuracy: 0.5830\n",
      "Epoch 76: val_loss did not improve from 0.91609\n",
      "142/142 [==============================] - 2s 11ms/step - loss: 0.8959 - accuracy: 0.5844 - val_loss: 0.9439 - val_accuracy: 0.5443\n",
      "Epoch 77/200\n",
      "137/142 [===========================>..] - ETA: 0s - loss: 0.8961 - accuracy: 0.5807\n",
      "Epoch 77: val_loss did not improve from 0.91609\n",
      "142/142 [==============================] - 1s 11ms/step - loss: 0.8950 - accuracy: 0.5806 - val_loss: 0.9232 - val_accuracy: 0.5784\n",
      "Epoch 78/200\n",
      "141/142 [============================>.] - ETA: 0s - loss: 0.8877 - accuracy: 0.5847\n",
      "Epoch 78: val_loss did not improve from 0.91609\n",
      "142/142 [==============================] - 1s 10ms/step - loss: 0.8884 - accuracy: 0.5846 - val_loss: 0.9285 - val_accuracy: 0.5670\n",
      "Epoch 79/200\n",
      "138/142 [============================>.] - ETA: 0s - loss: 0.8862 - accuracy: 0.5926\n",
      "Epoch 79: val_loss did not improve from 0.91609\n",
      "142/142 [==============================] - 1s 10ms/step - loss: 0.8887 - accuracy: 0.5921 - val_loss: 0.9194 - val_accuracy: 0.5814\n",
      "Epoch 80/200\n",
      "140/142 [============================>.] - ETA: 0s - loss: 0.8934 - accuracy: 0.5893\n",
      "Epoch 80: val_loss did not improve from 0.91609\n",
      "142/142 [==============================] - 1s 10ms/step - loss: 0.8935 - accuracy: 0.5892 - val_loss: 0.9266 - val_accuracy: 0.5897\n",
      "Epoch 81/200\n",
      "139/142 [============================>.] - ETA: 0s - loss: 0.8835 - accuracy: 0.5920\n",
      "Epoch 81: val_loss did not improve from 0.91609\n",
      "142/142 [==============================] - 1s 10ms/step - loss: 0.8851 - accuracy: 0.5912 - val_loss: 0.9193 - val_accuracy: 0.5897\n",
      "Epoch 82/200\n",
      "137/142 [===========================>..] - ETA: 0s - loss: 0.8927 - accuracy: 0.5812\n",
      "Epoch 82: val_loss did not improve from 0.91609\n",
      "142/142 [==============================] - 1s 10ms/step - loss: 0.8933 - accuracy: 0.5822 - val_loss: 0.9222 - val_accuracy: 0.5866\n",
      "Epoch 83/200\n",
      "137/142 [===========================>..] - ETA: 0s - loss: 0.8909 - accuracy: 0.5801\n",
      "Epoch 83: val_loss did not improve from 0.91609\n",
      "142/142 [==============================] - 1s 10ms/step - loss: 0.8901 - accuracy: 0.5806 - val_loss: 0.9175 - val_accuracy: 0.5814\n",
      "Epoch 84/200\n",
      "137/142 [===========================>..] - ETA: 0s - loss: 0.8869 - accuracy: 0.5899\n",
      "Epoch 84: val_loss did not improve from 0.91609\n",
      "142/142 [==============================] - 2s 11ms/step - loss: 0.8863 - accuracy: 0.5894 - val_loss: 0.9246 - val_accuracy: 0.5845\n",
      "Epoch 85/200\n",
      "139/142 [============================>.] - ETA: 0s - loss: 0.8895 - accuracy: 0.5825\n",
      "Epoch 85: val_loss did not improve from 0.91609\n",
      "142/142 [==============================] - 2s 12ms/step - loss: 0.8907 - accuracy: 0.5824 - val_loss: 0.9214 - val_accuracy: 0.5856\n",
      "Epoch 86/200\n",
      "142/142 [==============================] - ETA: 0s - loss: 0.8833 - accuracy: 0.5917\n",
      "Epoch 86: val_loss did not improve from 0.91609\n",
      "142/142 [==============================] - 1s 11ms/step - loss: 0.8833 - accuracy: 0.5917 - val_loss: 0.9179 - val_accuracy: 0.5887\n",
      "Epoch 87/200\n",
      "141/142 [============================>.] - ETA: 0s - loss: 0.8852 - accuracy: 0.5929\n",
      "Epoch 87: val_loss did not improve from 0.91609\n",
      "142/142 [==============================] - 2s 11ms/step - loss: 0.8859 - accuracy: 0.5928 - val_loss: 0.9214 - val_accuracy: 0.5825\n",
      "Epoch 88/200\n",
      "140/142 [============================>.] - ETA: 0s - loss: 0.8865 - accuracy: 0.5835\n",
      "Epoch 88: val_loss did not improve from 0.91609\n",
      "142/142 [==============================] - 1s 10ms/step - loss: 0.8861 - accuracy: 0.5837 - val_loss: 0.9242 - val_accuracy: 0.5825\n",
      "Epoch 89/200\n",
      "139/142 [============================>.] - ETA: 0s - loss: 0.8927 - accuracy: 0.5872\n",
      "Epoch 89: val_loss did not improve from 0.91609\n",
      "142/142 [==============================] - 1s 11ms/step - loss: 0.8924 - accuracy: 0.5875 - val_loss: 0.9217 - val_accuracy: 0.5784\n",
      "Epoch 90/200\n",
      "141/142 [============================>.] - ETA: 0s - loss: 0.8898 - accuracy: 0.5855\n",
      "Epoch 90: val_loss did not improve from 0.91609\n",
      "142/142 [==============================] - 2s 11ms/step - loss: 0.8899 - accuracy: 0.5848 - val_loss: 0.9164 - val_accuracy: 0.5835\n",
      "Epoch 91/200\n",
      "141/142 [============================>.] - ETA: 0s - loss: 0.8908 - accuracy: 0.5915\n",
      "Epoch 91: val_loss improved from 0.91609 to 0.91343, saving model to audio_classification_v2.0.hdf5\n",
      "142/142 [==============================] - 2s 11ms/step - loss: 0.8900 - accuracy: 0.5919 - val_loss: 0.9134 - val_accuracy: 0.5876\n",
      "Epoch 92/200\n",
      "137/142 [===========================>..] - ETA: 0s - loss: 0.8882 - accuracy: 0.5837\n",
      "Epoch 92: val_loss did not improve from 0.91343\n",
      "142/142 [==============================] - 2s 11ms/step - loss: 0.8886 - accuracy: 0.5833 - val_loss: 0.9303 - val_accuracy: 0.5814\n",
      "Epoch 93/200\n",
      "140/142 [============================>.] - ETA: 0s - loss: 0.8877 - accuracy: 0.5839\n",
      "Epoch 93: val_loss did not improve from 0.91343\n",
      "142/142 [==============================] - 2s 11ms/step - loss: 0.8871 - accuracy: 0.5846 - val_loss: 0.9353 - val_accuracy: 0.5722\n",
      "Epoch 94/200\n",
      "140/142 [============================>.] - ETA: 0s - loss: 0.8832 - accuracy: 0.5982\n",
      "Epoch 94: val_loss did not improve from 0.91343\n",
      "142/142 [==============================] - 2s 11ms/step - loss: 0.8846 - accuracy: 0.5974 - val_loss: 0.9240 - val_accuracy: 0.5866\n",
      "Epoch 95/200\n",
      "142/142 [==============================] - ETA: 0s - loss: 0.8798 - accuracy: 0.5943\n",
      "Epoch 95: val_loss did not improve from 0.91343\n",
      "142/142 [==============================] - 2s 11ms/step - loss: 0.8798 - accuracy: 0.5943 - val_loss: 0.9173 - val_accuracy: 0.5866\n",
      "Epoch 96/200\n",
      "139/142 [============================>.] - ETA: 0s - loss: 0.8842 - accuracy: 0.5960\n",
      "Epoch 96: val_loss did not improve from 0.91343\n",
      "142/142 [==============================] - 2s 11ms/step - loss: 0.8843 - accuracy: 0.5958 - val_loss: 0.9196 - val_accuracy: 0.5856\n",
      "Epoch 97/200\n",
      "141/142 [============================>.] - ETA: 0s - loss: 0.8793 - accuracy: 0.5951\n",
      "Epoch 97: val_loss did not improve from 0.91343\n",
      "142/142 [==============================] - 2s 11ms/step - loss: 0.8792 - accuracy: 0.5950 - val_loss: 0.9165 - val_accuracy: 0.5804\n",
      "Epoch 98/200\n",
      "142/142 [==============================] - ETA: 0s - loss: 0.8773 - accuracy: 0.5947\n",
      "Epoch 98: val_loss did not improve from 0.91343\n",
      "142/142 [==============================] - 1s 11ms/step - loss: 0.8773 - accuracy: 0.5947 - val_loss: 0.9164 - val_accuracy: 0.5876\n",
      "Epoch 99/200\n",
      "141/142 [============================>.] - ETA: 0s - loss: 0.8774 - accuracy: 0.5982\n",
      "Epoch 99: val_loss did not improve from 0.91343\n",
      "142/142 [==============================] - 1s 10ms/step - loss: 0.8775 - accuracy: 0.5981 - val_loss: 0.9144 - val_accuracy: 0.5969\n",
      "Epoch 100/200\n",
      "141/142 [============================>.] - ETA: 0s - loss: 0.8802 - accuracy: 0.5977\n",
      "Epoch 100: val_loss did not improve from 0.91343\n",
      "142/142 [==============================] - 2s 11ms/step - loss: 0.8801 - accuracy: 0.5983 - val_loss: 0.9178 - val_accuracy: 0.5784\n",
      "Epoch 101/200\n",
      "138/142 [============================>.] - ETA: 0s - loss: 0.8780 - accuracy: 0.5951\n",
      "Epoch 101: val_loss did not improve from 0.91343\n",
      "142/142 [==============================] - 1s 11ms/step - loss: 0.8797 - accuracy: 0.5943 - val_loss: 0.9223 - val_accuracy: 0.5845\n",
      "Epoch 102/200\n",
      "140/142 [============================>.] - ETA: 0s - loss: 0.8726 - accuracy: 0.5920\n",
      "Epoch 102: val_loss did not improve from 0.91343\n",
      "142/142 [==============================] - 1s 10ms/step - loss: 0.8732 - accuracy: 0.5917 - val_loss: 0.9165 - val_accuracy: 0.5732\n",
      "Epoch 103/200\n",
      "141/142 [============================>.] - ETA: 0s - loss: 0.8808 - accuracy: 0.5971\n",
      "Epoch 103: val_loss did not improve from 0.91343\n",
      "142/142 [==============================] - 2s 12ms/step - loss: 0.8806 - accuracy: 0.5974 - val_loss: 0.9226 - val_accuracy: 0.5711\n",
      "Epoch 104/200\n",
      "138/142 [============================>.] - ETA: 0s - loss: 0.8724 - accuracy: 0.5999\n",
      "Epoch 104: val_loss did not improve from 0.91343\n",
      "142/142 [==============================] - 1s 11ms/step - loss: 0.8747 - accuracy: 0.5989 - val_loss: 0.9295 - val_accuracy: 0.5825\n",
      "Epoch 105/200\n",
      "141/142 [============================>.] - ETA: 0s - loss: 0.8702 - accuracy: 0.5951\n",
      "Epoch 105: val_loss did not improve from 0.91343\n",
      "142/142 [==============================] - 1s 11ms/step - loss: 0.8700 - accuracy: 0.5950 - val_loss: 0.9328 - val_accuracy: 0.5814\n",
      "Epoch 106/200\n",
      "141/142 [============================>.] - ETA: 0s - loss: 0.8780 - accuracy: 0.5984\n",
      "Epoch 106: val_loss did not improve from 0.91343\n",
      "142/142 [==============================] - 2s 11ms/step - loss: 0.8791 - accuracy: 0.5985 - val_loss: 0.9290 - val_accuracy: 0.5845\n",
      "Epoch 107/200\n",
      "141/142 [============================>.] - ETA: 0s - loss: 0.8723 - accuracy: 0.6008\n",
      "Epoch 107: val_loss did not improve from 0.91343\n",
      "142/142 [==============================] - 2s 11ms/step - loss: 0.8721 - accuracy: 0.6009 - val_loss: 0.9220 - val_accuracy: 0.5814\n",
      "Epoch 108/200\n",
      "139/142 [============================>.] - ETA: 0s - loss: 0.8751 - accuracy: 0.5973\n",
      "Epoch 108: val_loss did not improve from 0.91343\n",
      "142/142 [==============================] - 2s 11ms/step - loss: 0.8763 - accuracy: 0.5974 - val_loss: 0.9178 - val_accuracy: 0.5742\n",
      "Epoch 109/200\n",
      "139/142 [============================>.] - ETA: 0s - loss: 0.8776 - accuracy: 0.5949\n",
      "Epoch 109: val_loss did not improve from 0.91343\n",
      "142/142 [==============================] - 2s 11ms/step - loss: 0.8779 - accuracy: 0.5947 - val_loss: 0.9244 - val_accuracy: 0.5711\n",
      "Epoch 110/200\n",
      "138/142 [============================>.] - ETA: 0s - loss: 0.8733 - accuracy: 0.6001\n",
      "Epoch 110: val_loss did not improve from 0.91343\n",
      "142/142 [==============================] - 1s 10ms/step - loss: 0.8750 - accuracy: 0.6000 - val_loss: 0.9204 - val_accuracy: 0.5845\n",
      "Epoch 111/200\n",
      "141/142 [============================>.] - ETA: 0s - loss: 0.8674 - accuracy: 0.5973\n",
      "Epoch 111: val_loss improved from 0.91343 to 0.91328, saving model to audio_classification_v2.0.hdf5\n",
      "142/142 [==============================] - 2s 11ms/step - loss: 0.8673 - accuracy: 0.5976 - val_loss: 0.9133 - val_accuracy: 0.5794\n",
      "Epoch 112/200\n",
      "142/142 [==============================] - ETA: 0s - loss: 0.8756 - accuracy: 0.5974\n",
      "Epoch 112: val_loss did not improve from 0.91328\n",
      "142/142 [==============================] - 2s 11ms/step - loss: 0.8756 - accuracy: 0.5974 - val_loss: 0.9261 - val_accuracy: 0.5835\n",
      "Epoch 113/200\n",
      "142/142 [==============================] - ETA: 0s - loss: 0.8785 - accuracy: 0.5928\n",
      "Epoch 113: val_loss did not improve from 0.91328\n",
      "142/142 [==============================] - 2s 11ms/step - loss: 0.8785 - accuracy: 0.5928 - val_loss: 0.9254 - val_accuracy: 0.5711\n",
      "Epoch 114/200\n",
      "141/142 [============================>.] - ETA: 0s - loss: 0.8771 - accuracy: 0.5984\n",
      "Epoch 114: val_loss did not improve from 0.91328\n",
      "142/142 [==============================] - 2s 11ms/step - loss: 0.8765 - accuracy: 0.5992 - val_loss: 0.9331 - val_accuracy: 0.5732\n",
      "Epoch 115/200\n",
      "141/142 [============================>.] - ETA: 0s - loss: 0.8733 - accuracy: 0.6017\n",
      "Epoch 115: val_loss did not improve from 0.91328\n",
      "142/142 [==============================] - 2s 11ms/step - loss: 0.8737 - accuracy: 0.6016 - val_loss: 0.9199 - val_accuracy: 0.5814\n",
      "Epoch 116/200\n",
      "139/142 [============================>.] - ETA: 0s - loss: 0.8770 - accuracy: 0.5946\n",
      "Epoch 116: val_loss did not improve from 0.91328\n",
      "142/142 [==============================] - 2s 11ms/step - loss: 0.8745 - accuracy: 0.5956 - val_loss: 0.9254 - val_accuracy: 0.5897\n",
      "Epoch 117/200\n",
      "142/142 [==============================] - ETA: 0s - loss: 0.8684 - accuracy: 0.6009\n",
      "Epoch 117: val_loss did not improve from 0.91328\n",
      "142/142 [==============================] - 2s 11ms/step - loss: 0.8684 - accuracy: 0.6009 - val_loss: 0.9199 - val_accuracy: 0.5866\n",
      "Epoch 118/200\n",
      "139/142 [============================>.] - ETA: 0s - loss: 0.8702 - accuracy: 0.5989\n",
      "Epoch 118: val_loss improved from 0.91328 to 0.91033, saving model to audio_classification_v2.0.hdf5\n",
      "142/142 [==============================] - 2s 12ms/step - loss: 0.8713 - accuracy: 0.5972 - val_loss: 0.9103 - val_accuracy: 0.5845\n",
      "Epoch 119/200\n",
      "142/142 [==============================] - ETA: 0s - loss: 0.8700 - accuracy: 0.5996\n",
      "Epoch 119: val_loss did not improve from 0.91033\n",
      "142/142 [==============================] - 2s 11ms/step - loss: 0.8700 - accuracy: 0.5996 - val_loss: 0.9105 - val_accuracy: 0.5887\n",
      "Epoch 120/200\n",
      "139/142 [============================>.] - ETA: 0s - loss: 0.8623 - accuracy: 0.6097\n",
      "Epoch 120: val_loss did not improve from 0.91033\n",
      "142/142 [==============================] - 2s 11ms/step - loss: 0.8630 - accuracy: 0.6080 - val_loss: 0.9149 - val_accuracy: 0.5897\n",
      "Epoch 121/200\n",
      "138/142 [============================>.] - ETA: 0s - loss: 0.8740 - accuracy: 0.6071\n",
      "Epoch 121: val_loss did not improve from 0.91033\n",
      "142/142 [==============================] - 2s 11ms/step - loss: 0.8722 - accuracy: 0.6091 - val_loss: 0.9233 - val_accuracy: 0.5907\n",
      "Epoch 122/200\n",
      "137/142 [===========================>..] - ETA: 0s - loss: 0.8740 - accuracy: 0.6015\n",
      "Epoch 122: val_loss did not improve from 0.91033\n",
      "142/142 [==============================] - 2s 11ms/step - loss: 0.8729 - accuracy: 0.6029 - val_loss: 0.9189 - val_accuracy: 0.5753\n",
      "Epoch 123/200\n",
      "137/142 [===========================>..] - ETA: 0s - loss: 0.8620 - accuracy: 0.6065\n",
      "Epoch 123: val_loss did not improve from 0.91033\n",
      "142/142 [==============================] - 2s 11ms/step - loss: 0.8651 - accuracy: 0.6049 - val_loss: 0.9271 - val_accuracy: 0.5856\n",
      "Epoch 124/200\n",
      "138/142 [============================>.] - ETA: 0s - loss: 0.8638 - accuracy: 0.6058\n",
      "Epoch 124: val_loss did not improve from 0.91033\n",
      "142/142 [==============================] - 2s 11ms/step - loss: 0.8645 - accuracy: 0.6058 - val_loss: 0.9280 - val_accuracy: 0.5856\n",
      "Epoch 125/200\n",
      "138/142 [============================>.] - ETA: 0s - loss: 0.8631 - accuracy: 0.6091\n",
      "Epoch 125: val_loss did not improve from 0.91033\n",
      "142/142 [==============================] - 1s 10ms/step - loss: 0.8651 - accuracy: 0.6078 - val_loss: 0.9163 - val_accuracy: 0.5845\n",
      "Epoch 126/200\n",
      "138/142 [============================>.] - ETA: 0s - loss: 0.8650 - accuracy: 0.6062\n",
      "Epoch 126: val_loss did not improve from 0.91033\n",
      "142/142 [==============================] - 2s 11ms/step - loss: 0.8648 - accuracy: 0.6060 - val_loss: 0.9185 - val_accuracy: 0.5887\n",
      "Epoch 127/200\n",
      "140/142 [============================>.] - ETA: 0s - loss: 0.8673 - accuracy: 0.6029\n",
      "Epoch 127: val_loss did not improve from 0.91033\n",
      "142/142 [==============================] - 2s 13ms/step - loss: 0.8676 - accuracy: 0.6029 - val_loss: 0.9215 - val_accuracy: 0.5794\n",
      "Epoch 128/200\n",
      "137/142 [===========================>..] - ETA: 0s - loss: 0.8658 - accuracy: 0.6086\n",
      "Epoch 128: val_loss did not improve from 0.91033\n",
      "142/142 [==============================] - 2s 12ms/step - loss: 0.8635 - accuracy: 0.6100 - val_loss: 0.9122 - val_accuracy: 0.5814\n",
      "Epoch 129/200\n",
      "138/142 [============================>.] - ETA: 0s - loss: 0.8563 - accuracy: 0.6064\n",
      "Epoch 129: val_loss did not improve from 0.91033\n",
      "142/142 [==============================] - 2s 12ms/step - loss: 0.8581 - accuracy: 0.6060 - val_loss: 0.9207 - val_accuracy: 0.5897\n",
      "Epoch 130/200\n",
      "139/142 [============================>.] - ETA: 0s - loss: 0.8612 - accuracy: 0.6108\n",
      "Epoch 130: val_loss did not improve from 0.91033\n",
      "142/142 [==============================] - 2s 11ms/step - loss: 0.8589 - accuracy: 0.6113 - val_loss: 0.9349 - val_accuracy: 0.5722\n",
      "Epoch 131/200\n",
      "141/142 [============================>.] - ETA: 0s - loss: 0.8636 - accuracy: 0.5982\n",
      "Epoch 131: val_loss did not improve from 0.91033\n",
      "142/142 [==============================] - 2s 12ms/step - loss: 0.8630 - accuracy: 0.5985 - val_loss: 0.9265 - val_accuracy: 0.5763\n",
      "Epoch 132/200\n",
      "138/142 [============================>.] - ETA: 0s - loss: 0.8627 - accuracy: 0.6087\n",
      "Epoch 132: val_loss did not improve from 0.91033\n",
      "142/142 [==============================] - 2s 12ms/step - loss: 0.8635 - accuracy: 0.6082 - val_loss: 0.9254 - val_accuracy: 0.5825\n",
      "Epoch 133/200\n",
      "139/142 [============================>.] - ETA: 0s - loss: 0.8553 - accuracy: 0.6034\n",
      "Epoch 133: val_loss did not improve from 0.91033\n",
      "142/142 [==============================] - 2s 12ms/step - loss: 0.8563 - accuracy: 0.6018 - val_loss: 0.9261 - val_accuracy: 0.5794\n",
      "Epoch 134/200\n",
      "137/142 [===========================>..] - ETA: 0s - loss: 0.8575 - accuracy: 0.6090\n",
      "Epoch 134: val_loss did not improve from 0.91033\n",
      "142/142 [==============================] - 2s 12ms/step - loss: 0.8629 - accuracy: 0.6058 - val_loss: 0.9226 - val_accuracy: 0.5711\n",
      "Epoch 135/200\n",
      "139/142 [============================>.] - ETA: 0s - loss: 0.8561 - accuracy: 0.6081\n",
      "Epoch 135: val_loss did not improve from 0.91033\n",
      "142/142 [==============================] - 2s 12ms/step - loss: 0.8563 - accuracy: 0.6080 - val_loss: 0.9209 - val_accuracy: 0.5866\n",
      "Epoch 136/200\n",
      "141/142 [============================>.] - ETA: 0s - loss: 0.8605 - accuracy: 0.6059\n",
      "Epoch 136: val_loss did not improve from 0.91033\n",
      "142/142 [==============================] - 2s 12ms/step - loss: 0.8603 - accuracy: 0.6062 - val_loss: 0.9128 - val_accuracy: 0.5845\n",
      "Epoch 137/200\n",
      "141/142 [============================>.] - ETA: 0s - loss: 0.8554 - accuracy: 0.6110\n",
      "Epoch 137: val_loss did not improve from 0.91033\n",
      "142/142 [==============================] - 2s 12ms/step - loss: 0.8548 - accuracy: 0.6113 - val_loss: 0.9176 - val_accuracy: 0.5722\n",
      "Epoch 138/200\n",
      "141/142 [============================>.] - ETA: 0s - loss: 0.8545 - accuracy: 0.6090\n",
      "Epoch 138: val_loss did not improve from 0.91033\n",
      "142/142 [==============================] - 2s 12ms/step - loss: 0.8547 - accuracy: 0.6084 - val_loss: 0.9223 - val_accuracy: 0.5814\n",
      "Epoch 139/200\n",
      "137/142 [===========================>..] - ETA: 0s - loss: 0.8686 - accuracy: 0.6006\n",
      "Epoch 139: val_loss did not improve from 0.91033\n",
      "142/142 [==============================] - 2s 12ms/step - loss: 0.8655 - accuracy: 0.6038 - val_loss: 0.9137 - val_accuracy: 0.5794\n",
      "Epoch 140/200\n",
      "139/142 [============================>.] - ETA: 0s - loss: 0.8507 - accuracy: 0.6167\n",
      "Epoch 140: val_loss did not improve from 0.91033\n",
      "142/142 [==============================] - 2s 12ms/step - loss: 0.8491 - accuracy: 0.6179 - val_loss: 0.9159 - val_accuracy: 0.5845\n",
      "Epoch 141/200\n",
      "138/142 [============================>.] - ETA: 0s - loss: 0.8560 - accuracy: 0.6089\n",
      "Epoch 141: val_loss did not improve from 0.91033\n",
      "142/142 [==============================] - 2s 11ms/step - loss: 0.8549 - accuracy: 0.6100 - val_loss: 0.9134 - val_accuracy: 0.5856\n",
      "Epoch 142/200\n",
      "142/142 [==============================] - ETA: 0s - loss: 0.8444 - accuracy: 0.6179\n",
      "Epoch 142: val_loss did not improve from 0.91033\n",
      "142/142 [==============================] - 2s 12ms/step - loss: 0.8444 - accuracy: 0.6179 - val_loss: 0.9196 - val_accuracy: 0.5876\n",
      "Epoch 143/200\n",
      "142/142 [==============================] - ETA: 0s - loss: 0.8494 - accuracy: 0.6104\n",
      "Epoch 143: val_loss did not improve from 0.91033\n",
      "142/142 [==============================] - 2s 12ms/step - loss: 0.8494 - accuracy: 0.6104 - val_loss: 0.9208 - val_accuracy: 0.5845\n",
      "Epoch 144/200\n",
      "141/142 [============================>.] - ETA: 0s - loss: 0.8526 - accuracy: 0.6184\n",
      "Epoch 144: val_loss did not improve from 0.91033\n",
      "142/142 [==============================] - 2s 12ms/step - loss: 0.8525 - accuracy: 0.6182 - val_loss: 0.9202 - val_accuracy: 0.5804\n",
      "Epoch 145/200\n",
      "139/142 [============================>.] - ETA: 0s - loss: 0.8547 - accuracy: 0.6149\n",
      "Epoch 145: val_loss did not improve from 0.91033\n",
      "142/142 [==============================] - 2s 12ms/step - loss: 0.8567 - accuracy: 0.6142 - val_loss: 0.9189 - val_accuracy: 0.5856\n",
      "Epoch 146/200\n",
      "138/142 [============================>.] - ETA: 0s - loss: 0.8535 - accuracy: 0.6125\n",
      "Epoch 146: val_loss did not improve from 0.91033\n",
      "142/142 [==============================] - 2s 11ms/step - loss: 0.8542 - accuracy: 0.6122 - val_loss: 0.9157 - val_accuracy: 0.5928\n",
      "Epoch 147/200\n",
      "138/142 [============================>.] - ETA: 0s - loss: 0.8460 - accuracy: 0.6130\n",
      "Epoch 147: val_loss did not improve from 0.91033\n",
      "142/142 [==============================] - 1s 11ms/step - loss: 0.8481 - accuracy: 0.6113 - val_loss: 0.9265 - val_accuracy: 0.5814\n",
      "Epoch 148/200\n",
      "137/142 [===========================>..] - ETA: 0s - loss: 0.8604 - accuracy: 0.5976\n",
      "Epoch 148: val_loss improved from 0.91033 to 0.90984, saving model to audio_classification_v2.0.hdf5\n",
      "142/142 [==============================] - 2s 11ms/step - loss: 0.8582 - accuracy: 0.5994 - val_loss: 0.9098 - val_accuracy: 0.5804\n",
      "Epoch 149/200\n",
      "140/142 [============================>.] - ETA: 0s - loss: 0.8561 - accuracy: 0.6129\n",
      "Epoch 149: val_loss did not improve from 0.90984\n",
      "142/142 [==============================] - 2s 12ms/step - loss: 0.8565 - accuracy: 0.6115 - val_loss: 0.9166 - val_accuracy: 0.5711\n",
      "Epoch 150/200\n",
      "140/142 [============================>.] - ETA: 0s - loss: 0.8575 - accuracy: 0.6071\n",
      "Epoch 150: val_loss did not improve from 0.90984\n",
      "142/142 [==============================] - 2s 11ms/step - loss: 0.8575 - accuracy: 0.6076 - val_loss: 0.9099 - val_accuracy: 0.5711\n",
      "Epoch 151/200\n",
      "141/142 [============================>.] - ETA: 0s - loss: 0.8518 - accuracy: 0.6117\n",
      "Epoch 151: val_loss did not improve from 0.90984\n",
      "142/142 [==============================] - 2s 11ms/step - loss: 0.8522 - accuracy: 0.6111 - val_loss: 0.9191 - val_accuracy: 0.5773\n",
      "Epoch 152/200\n",
      "142/142 [==============================] - ETA: 0s - loss: 0.8417 - accuracy: 0.6153\n",
      "Epoch 152: val_loss did not improve from 0.90984\n",
      "142/142 [==============================] - 2s 11ms/step - loss: 0.8417 - accuracy: 0.6153 - val_loss: 0.9124 - val_accuracy: 0.5825\n",
      "Epoch 153/200\n",
      "138/142 [============================>.] - ETA: 0s - loss: 0.8516 - accuracy: 0.6171\n",
      "Epoch 153: val_loss did not improve from 0.90984\n",
      "142/142 [==============================] - 2s 11ms/step - loss: 0.8537 - accuracy: 0.6155 - val_loss: 0.9247 - val_accuracy: 0.5711\n",
      "Epoch 154/200\n",
      "141/142 [============================>.] - ETA: 0s - loss: 0.8616 - accuracy: 0.6066\n",
      "Epoch 154: val_loss did not improve from 0.90984\n",
      "142/142 [==============================] - 1s 11ms/step - loss: 0.8613 - accuracy: 0.6069 - val_loss: 0.9104 - val_accuracy: 0.5825\n",
      "Epoch 155/200\n",
      "138/142 [============================>.] - ETA: 0s - loss: 0.8489 - accuracy: 0.6144\n",
      "Epoch 155: val_loss did not improve from 0.90984\n",
      "142/142 [==============================] - 1s 10ms/step - loss: 0.8481 - accuracy: 0.6140 - val_loss: 0.9274 - val_accuracy: 0.5763\n",
      "Epoch 156/200\n",
      "139/142 [============================>.] - ETA: 0s - loss: 0.8419 - accuracy: 0.6178\n",
      "Epoch 156: val_loss did not improve from 0.90984\n",
      "142/142 [==============================] - 2s 11ms/step - loss: 0.8420 - accuracy: 0.6179 - val_loss: 0.9208 - val_accuracy: 0.5814\n",
      "Epoch 157/200\n",
      "139/142 [============================>.] - ETA: 0s - loss: 0.8444 - accuracy: 0.6126\n",
      "Epoch 157: val_loss did not improve from 0.90984\n",
      "142/142 [==============================] - 2s 11ms/step - loss: 0.8448 - accuracy: 0.6124 - val_loss: 0.9190 - val_accuracy: 0.5773\n",
      "Epoch 158/200\n",
      "137/142 [===========================>..] - ETA: 0s - loss: 0.8420 - accuracy: 0.6214\n",
      "Epoch 158: val_loss did not improve from 0.90984\n",
      "142/142 [==============================] - 2s 11ms/step - loss: 0.8428 - accuracy: 0.6201 - val_loss: 0.9259 - val_accuracy: 0.5804\n",
      "Epoch 159/200\n",
      "138/142 [============================>.] - ETA: 0s - loss: 0.8460 - accuracy: 0.6227\n",
      "Epoch 159: val_loss did not improve from 0.90984\n",
      "142/142 [==============================] - 1s 10ms/step - loss: 0.8456 - accuracy: 0.6237 - val_loss: 0.9174 - val_accuracy: 0.5907\n",
      "Epoch 160/200\n",
      "139/142 [============================>.] - ETA: 0s - loss: 0.8459 - accuracy: 0.6187\n",
      "Epoch 160: val_loss improved from 0.90984 to 0.90810, saving model to audio_classification_v2.0.hdf5\n",
      "142/142 [==============================] - 2s 12ms/step - loss: 0.8458 - accuracy: 0.6188 - val_loss: 0.9081 - val_accuracy: 0.5773\n",
      "Epoch 161/200\n",
      "140/142 [============================>.] - ETA: 0s - loss: 0.8454 - accuracy: 0.6165\n",
      "Epoch 161: val_loss did not improve from 0.90810\n",
      "142/142 [==============================] - 2s 11ms/step - loss: 0.8466 - accuracy: 0.6155 - val_loss: 0.9169 - val_accuracy: 0.5845\n",
      "Epoch 162/200\n",
      "140/142 [============================>.] - ETA: 0s - loss: 0.8503 - accuracy: 0.6125\n",
      "Epoch 162: val_loss did not improve from 0.90810\n",
      "142/142 [==============================] - 2s 11ms/step - loss: 0.8495 - accuracy: 0.6126 - val_loss: 0.9155 - val_accuracy: 0.5856\n",
      "Epoch 163/200\n",
      "140/142 [============================>.] - ETA: 0s - loss: 0.8439 - accuracy: 0.6187\n",
      "Epoch 163: val_loss did not improve from 0.90810\n",
      "142/142 [==============================] - 2s 11ms/step - loss: 0.8431 - accuracy: 0.6190 - val_loss: 0.9222 - val_accuracy: 0.5845\n",
      "Epoch 164/200\n",
      "137/142 [===========================>..] - ETA: 0s - loss: 0.8370 - accuracy: 0.6175\n",
      "Epoch 164: val_loss did not improve from 0.90810\n",
      "142/142 [==============================] - 1s 10ms/step - loss: 0.8412 - accuracy: 0.6148 - val_loss: 0.9196 - val_accuracy: 0.5814\n",
      "Epoch 165/200\n",
      "140/142 [============================>.] - ETA: 0s - loss: 0.8401 - accuracy: 0.6185\n",
      "Epoch 165: val_loss did not improve from 0.90810\n",
      "142/142 [==============================] - 2s 11ms/step - loss: 0.8395 - accuracy: 0.6182 - val_loss: 0.9195 - val_accuracy: 0.5835\n",
      "Epoch 166/200\n",
      "142/142 [==============================] - ETA: 0s - loss: 0.8440 - accuracy: 0.6190\n",
      "Epoch 166: val_loss did not improve from 0.90810\n",
      "142/142 [==============================] - 1s 10ms/step - loss: 0.8440 - accuracy: 0.6190 - val_loss: 0.9184 - val_accuracy: 0.5794\n",
      "Epoch 167/200\n",
      "142/142 [==============================] - ETA: 0s - loss: 0.8367 - accuracy: 0.6252\n",
      "Epoch 167: val_loss did not improve from 0.90810\n",
      "142/142 [==============================] - 1s 10ms/step - loss: 0.8367 - accuracy: 0.6252 - val_loss: 0.9154 - val_accuracy: 0.5794\n",
      "Epoch 168/200\n",
      "141/142 [============================>.] - ETA: 0s - loss: 0.8399 - accuracy: 0.6223\n",
      "Epoch 168: val_loss did not improve from 0.90810\n",
      "142/142 [==============================] - 1s 10ms/step - loss: 0.8401 - accuracy: 0.6219 - val_loss: 0.9209 - val_accuracy: 0.5742\n",
      "Epoch 169/200\n",
      "142/142 [==============================] - ETA: 0s - loss: 0.8359 - accuracy: 0.6170\n",
      "Epoch 169: val_loss did not improve from 0.90810\n",
      "142/142 [==============================] - 1s 10ms/step - loss: 0.8359 - accuracy: 0.6170 - val_loss: 0.9213 - val_accuracy: 0.5773\n",
      "Epoch 170/200\n",
      "139/142 [============================>.] - ETA: 0s - loss: 0.8426 - accuracy: 0.6185\n",
      "Epoch 170: val_loss did not improve from 0.90810\n",
      "142/142 [==============================] - 2s 11ms/step - loss: 0.8407 - accuracy: 0.6195 - val_loss: 0.9188 - val_accuracy: 0.5753\n",
      "Epoch 171/200\n",
      "140/142 [============================>.] - ETA: 0s - loss: 0.8464 - accuracy: 0.6143\n",
      "Epoch 171: val_loss did not improve from 0.90810\n",
      "142/142 [==============================] - 1s 10ms/step - loss: 0.8452 - accuracy: 0.6146 - val_loss: 0.9134 - val_accuracy: 0.5866\n",
      "Epoch 172/200\n",
      "138/142 [============================>.] - ETA: 0s - loss: 0.8311 - accuracy: 0.6245\n",
      "Epoch 172: val_loss did not improve from 0.90810\n",
      "142/142 [==============================] - 1s 10ms/step - loss: 0.8339 - accuracy: 0.6221 - val_loss: 0.9183 - val_accuracy: 0.5804\n",
      "Epoch 173/200\n",
      "142/142 [==============================] - ETA: 0s - loss: 0.8321 - accuracy: 0.6235\n",
      "Epoch 173: val_loss did not improve from 0.90810\n",
      "142/142 [==============================] - 1s 10ms/step - loss: 0.8321 - accuracy: 0.6235 - val_loss: 0.9184 - val_accuracy: 0.5784\n",
      "Epoch 174/200\n",
      "142/142 [==============================] - ETA: 0s - loss: 0.8425 - accuracy: 0.6252\n",
      "Epoch 174: val_loss did not improve from 0.90810\n",
      "142/142 [==============================] - 1s 10ms/step - loss: 0.8425 - accuracy: 0.6252 - val_loss: 0.9215 - val_accuracy: 0.5825\n",
      "Epoch 175/200\n",
      "137/142 [===========================>..] - ETA: 0s - loss: 0.8439 - accuracy: 0.6193\n",
      "Epoch 175: val_loss did not improve from 0.90810\n",
      "142/142 [==============================] - 2s 11ms/step - loss: 0.8455 - accuracy: 0.6184 - val_loss: 0.9268 - val_accuracy: 0.5825\n",
      "Epoch 176/200\n",
      "140/142 [============================>.] - ETA: 0s - loss: 0.8332 - accuracy: 0.6212\n",
      "Epoch 176: val_loss did not improve from 0.90810\n",
      "142/142 [==============================] - 2s 12ms/step - loss: 0.8324 - accuracy: 0.6217 - val_loss: 0.9295 - val_accuracy: 0.5845\n",
      "Epoch 177/200\n",
      "139/142 [============================>.] - ETA: 0s - loss: 0.8472 - accuracy: 0.6198\n",
      "Epoch 177: val_loss did not improve from 0.90810\n",
      "142/142 [==============================] - 2s 11ms/step - loss: 0.8480 - accuracy: 0.6179 - val_loss: 0.9282 - val_accuracy: 0.5773\n",
      "Epoch 178/200\n",
      "140/142 [============================>.] - ETA: 0s - loss: 0.8396 - accuracy: 0.6223\n",
      "Epoch 178: val_loss did not improve from 0.90810\n",
      "142/142 [==============================] - 2s 12ms/step - loss: 0.8389 - accuracy: 0.6228 - val_loss: 0.9096 - val_accuracy: 0.5938\n",
      "Epoch 179/200\n",
      "141/142 [============================>.] - ETA: 0s - loss: 0.8297 - accuracy: 0.6297\n",
      "Epoch 179: val_loss did not improve from 0.90810\n",
      "142/142 [==============================] - 2s 11ms/step - loss: 0.8296 - accuracy: 0.6299 - val_loss: 0.9260 - val_accuracy: 0.5814\n",
      "Epoch 180/200\n",
      "139/142 [============================>.] - ETA: 0s - loss: 0.8322 - accuracy: 0.6176\n",
      "Epoch 180: val_loss did not improve from 0.90810\n",
      "142/142 [==============================] - 2s 12ms/step - loss: 0.8335 - accuracy: 0.6177 - val_loss: 0.9166 - val_accuracy: 0.5784\n",
      "Epoch 181/200\n",
      "139/142 [============================>.] - ETA: 0s - loss: 0.8289 - accuracy: 0.6232\n",
      "Epoch 181: val_loss did not improve from 0.90810\n",
      "142/142 [==============================] - 2s 13ms/step - loss: 0.8294 - accuracy: 0.6237 - val_loss: 0.9179 - val_accuracy: 0.5866\n",
      "Epoch 182/200\n",
      "137/142 [===========================>..] - ETA: 0s - loss: 0.8403 - accuracy: 0.6250\n",
      "Epoch 182: val_loss did not improve from 0.90810\n",
      "142/142 [==============================] - 2s 12ms/step - loss: 0.8391 - accuracy: 0.6257 - val_loss: 0.9250 - val_accuracy: 0.5691\n",
      "Epoch 183/200\n",
      "138/142 [============================>.] - ETA: 0s - loss: 0.8382 - accuracy: 0.6232\n",
      "Epoch 183: val_loss did not improve from 0.90810\n",
      "142/142 [==============================] - 2s 12ms/step - loss: 0.8373 - accuracy: 0.6232 - val_loss: 0.9130 - val_accuracy: 0.5835\n",
      "Epoch 184/200\n",
      "141/142 [============================>.] - ETA: 0s - loss: 0.8283 - accuracy: 0.6312\n",
      "Epoch 184: val_loss did not improve from 0.90810\n",
      "142/142 [==============================] - 2s 12ms/step - loss: 0.8302 - accuracy: 0.6305 - val_loss: 0.9262 - val_accuracy: 0.5753\n",
      "Epoch 185/200\n",
      "142/142 [==============================] - ETA: 0s - loss: 0.8333 - accuracy: 0.6299\n",
      "Epoch 185: val_loss did not improve from 0.90810\n",
      "142/142 [==============================] - 2s 12ms/step - loss: 0.8333 - accuracy: 0.6299 - val_loss: 0.9163 - val_accuracy: 0.5784\n",
      "Epoch 186/200\n",
      "138/142 [============================>.] - ETA: 0s - loss: 0.8270 - accuracy: 0.6286\n",
      "Epoch 186: val_loss did not improve from 0.90810\n",
      "142/142 [==============================] - 2s 12ms/step - loss: 0.8273 - accuracy: 0.6283 - val_loss: 0.9088 - val_accuracy: 0.5907\n",
      "Epoch 187/200\n",
      "138/142 [============================>.] - ETA: 0s - loss: 0.8176 - accuracy: 0.6327\n",
      "Epoch 187: val_loss did not improve from 0.90810\n",
      "142/142 [==============================] - 2s 11ms/step - loss: 0.8192 - accuracy: 0.6314 - val_loss: 0.9127 - val_accuracy: 0.5835\n",
      "Epoch 188/200\n",
      "139/142 [============================>.] - ETA: 0s - loss: 0.8264 - accuracy: 0.6252\n",
      "Epoch 188: val_loss did not improve from 0.90810\n",
      "142/142 [==============================] - 2s 12ms/step - loss: 0.8258 - accuracy: 0.6248 - val_loss: 0.9086 - val_accuracy: 0.5907\n",
      "Epoch 189/200\n",
      "137/142 [===========================>..] - ETA: 0s - loss: 0.8180 - accuracy: 0.6330\n",
      "Epoch 189: val_loss did not improve from 0.90810\n",
      "142/142 [==============================] - 2s 11ms/step - loss: 0.8188 - accuracy: 0.6323 - val_loss: 0.9266 - val_accuracy: 0.5711\n",
      "Epoch 190/200\n",
      "141/142 [============================>.] - ETA: 0s - loss: 0.8244 - accuracy: 0.6332\n",
      "Epoch 190: val_loss did not improve from 0.90810\n",
      "142/142 [==============================] - 1s 11ms/step - loss: 0.8232 - accuracy: 0.6341 - val_loss: 0.9264 - val_accuracy: 0.5835\n",
      "Epoch 191/200\n",
      "141/142 [============================>.] - ETA: 0s - loss: 0.8282 - accuracy: 0.6223\n",
      "Epoch 191: val_loss did not improve from 0.90810\n",
      "142/142 [==============================] - 2s 12ms/step - loss: 0.8282 - accuracy: 0.6221 - val_loss: 0.9275 - val_accuracy: 0.5763\n",
      "Epoch 192/200\n",
      "141/142 [============================>.] - ETA: 0s - loss: 0.8235 - accuracy: 0.6206\n",
      "Epoch 192: val_loss did not improve from 0.90810\n",
      "142/142 [==============================] - 2s 12ms/step - loss: 0.8228 - accuracy: 0.6206 - val_loss: 0.9194 - val_accuracy: 0.5804\n",
      "Epoch 193/200\n",
      "141/142 [============================>.] - ETA: 0s - loss: 0.8262 - accuracy: 0.6332\n",
      "Epoch 193: val_loss did not improve from 0.90810\n",
      "142/142 [==============================] - 2s 12ms/step - loss: 0.8263 - accuracy: 0.6332 - val_loss: 0.9155 - val_accuracy: 0.5845\n",
      "Epoch 194/200\n",
      "141/142 [============================>.] - ETA: 0s - loss: 0.8188 - accuracy: 0.6308\n",
      "Epoch 194: val_loss did not improve from 0.90810\n",
      "142/142 [==============================] - 2s 11ms/step - loss: 0.8194 - accuracy: 0.6301 - val_loss: 0.9217 - val_accuracy: 0.5670\n",
      "Epoch 195/200\n",
      "139/142 [============================>.] - ETA: 0s - loss: 0.8280 - accuracy: 0.6214\n",
      "Epoch 195: val_loss did not improve from 0.90810\n",
      "142/142 [==============================] - 2s 11ms/step - loss: 0.8252 - accuracy: 0.6232 - val_loss: 0.9177 - val_accuracy: 0.5866\n",
      "Epoch 196/200\n",
      "142/142 [==============================] - ETA: 0s - loss: 0.8536 - accuracy: 0.6277\n",
      "Epoch 196: val_loss did not improve from 0.90810\n",
      "142/142 [==============================] - 1s 11ms/step - loss: 0.8536 - accuracy: 0.6277 - val_loss: 0.9173 - val_accuracy: 0.5887\n",
      "Epoch 197/200\n",
      "139/142 [============================>.] - ETA: 0s - loss: 0.8278 - accuracy: 0.6297\n",
      "Epoch 197: val_loss did not improve from 0.90810\n",
      "142/142 [==============================] - 1s 11ms/step - loss: 0.8277 - accuracy: 0.6292 - val_loss: 0.9161 - val_accuracy: 0.5804\n",
      "Epoch 198/200\n",
      "142/142 [==============================] - ETA: 0s - loss: 0.8239 - accuracy: 0.6356\n",
      "Epoch 198: val_loss did not improve from 0.90810\n",
      "142/142 [==============================] - 2s 11ms/step - loss: 0.8239 - accuracy: 0.6356 - val_loss: 0.9139 - val_accuracy: 0.5835\n",
      "Epoch 199/200\n",
      "139/142 [============================>.] - ETA: 0s - loss: 0.8114 - accuracy: 0.6374\n",
      "Epoch 199: val_loss improved from 0.90810 to 0.90788, saving model to audio_classification_v2.0.hdf5\n",
      "142/142 [==============================] - 2s 11ms/step - loss: 0.8112 - accuracy: 0.6374 - val_loss: 0.9079 - val_accuracy: 0.5948\n",
      "Epoch 200/200\n",
      "141/142 [============================>.] - ETA: 0s - loss: 0.8213 - accuracy: 0.6319\n",
      "Epoch 200: val_loss did not improve from 0.90788\n",
      "142/142 [==============================] - 2s 11ms/step - loss: 0.8224 - accuracy: 0.6312 - val_loss: 0.9112 - val_accuracy: 0.5876\n",
      "Training completed in time:  0:05:12.995046\n"
     ]
    }
   ],
   "source": [
    "# Train the model\n",
    "from tensorflow.keras.callbacks import ModelCheckpoint\n",
    "from datetime import datetime \n",
    "\n",
    "num_epochs = 200\n",
    "num_batch_size = 32\n",
    "\n",
    "checkpointer = ModelCheckpoint(filepath='audio_classification_v2.0.hdf5', verbose=1, save_best_only=True)\n",
    "start = datetime.now()\n",
    "\n",
    "model.fit(X_train, y_train, batch_size=num_batch_size, epochs=num_epochs, validation_data=(X_val, y_val), callbacks=[checkpointer], verbose=1)\n",
    "\n",
    "\n",
    "duration = datetime.now() - start\n",
    "print(\"Training completed in time: \", duration)"
   ]
  },
  {
   "cell_type": "code",
   "execution_count": 115,
   "metadata": {},
   "outputs": [
    {
     "name": "stdout",
     "output_type": "stream",
     "text": [
      "0.5890834331512451\n"
     ]
    }
   ],
   "source": [
    "# Check accuracy\n",
    "test_accuracy=model.evaluate(X_test,y_test,verbose=0)\n",
    "print(test_accuracy[1])"
   ]
  },
  {
   "cell_type": "code",
   "execution_count": 116,
   "metadata": {},
   "outputs": [
    {
     "data": {
      "text/plain": [
       "array([-4.6317276e+02,  4.4716148e+01, -1.4099199e+01,  1.4221636e+00,\n",
       "       -2.2469744e+01, -4.9795675e+00, -1.3583936e+01,  1.7993051e+00,\n",
       "       -1.4784613e+01, -7.4627652e+00,  4.2893818e-01, -2.8006210e+00,\n",
       "       -5.3715777e-01, -5.4748554e+00,  5.1840215e+00, -4.1992879e+00,\n",
       "       -1.5206343e+00, -2.8261170e+00, -3.3200803e+00, -1.5136985e+00,\n",
       "        1.8531524e+00,  3.4997027e+00,  4.9135427e+00,  2.7945752e+00,\n",
       "        7.9897308e-01,  4.6146360e-01,  4.0564874e-01,  1.7399962e-01,\n",
       "        7.3732927e-02,  3.7308503e-02,  7.9813480e-02,  2.0730714e-01,\n",
       "        8.3758041e-02,  3.0556312e-02,  2.4447298e-02,  1.0705763e-02,\n",
       "        2.5716284e-02,  1.5574337e-02,  7.5092423e-04,  1.0674194e-07],\n",
       "      dtype=float32)"
      ]
     },
     "execution_count": 116,
     "metadata": {},
     "output_type": "execute_result"
    }
   ],
   "source": [
    "X_test[1]"
   ]
  },
  {
   "cell_type": "code",
   "execution_count": 117,
   "metadata": {},
   "outputs": [
    {
     "name": "stdout",
     "output_type": "stream",
     "text": [
      "31/31 [==============================] - 0s 3ms/step\n"
     ]
    },
    {
     "data": {
      "text/plain": [
       "array([[0.6877256 , 0.24707949, 0.06519488],\n",
       "       [0.18302049, 0.571271  , 0.24570845],\n",
       "       [0.3802635 , 0.44904304, 0.17069343],\n",
       "       ...,\n",
       "       [0.44623992, 0.4074413 , 0.14631878],\n",
       "       [0.00139719, 0.98171633, 0.01688646],\n",
       "       [0.70175713, 0.23777129, 0.06047168]], dtype=float32)"
      ]
     },
     "execution_count": 117,
     "metadata": {},
     "output_type": "execute_result"
    }
   ],
   "source": [
    "model.predict(X_test)"
   ]
  },
  {
   "cell_type": "code",
   "execution_count": 118,
   "metadata": {},
   "outputs": [
    {
     "name": "stdout",
     "output_type": "stream",
     "text": [
      "31/31 [==============================] - 0s 3ms/step\n"
     ]
    }
   ],
   "source": [
    "import numpy as np\n",
    "from sklearn.metrics import classification_report\n",
    "\n",
    "# Assuming you have already trained your ANN model and obtained the predictions and true labels\n",
    "predictions = model.predict(X_test)  # Replace X_test with your test data\n",
    "predicted_labels = np.argmax(predictions, axis=1)\n",
    "true_labels = np.argmax(y_test, axis=1)  # Replace y_test with your true labels"
   ]
  },
  {
   "cell_type": "code",
   "execution_count": 119,
   "metadata": {},
   "outputs": [
    {
     "name": "stdout",
     "output_type": "stream",
     "text": [
      "              precision    recall  f1-score   support\n",
      "\n",
      "           0       0.60      0.86      0.71       408\n",
      "           1       0.56      0.56      0.56       384\n",
      "           2       0.69      0.05      0.09       179\n",
      "\n",
      "    accuracy                           0.59       971\n",
      "   macro avg       0.62      0.49      0.45       971\n",
      "weighted avg       0.60      0.59      0.54       971\n",
      "\n"
     ]
    }
   ],
   "source": [
    "# Calculate precision, recall, and F1 score\n",
    "report = classification_report(true_labels, predicted_labels)\n",
    "\n",
    "# Print the classification report\n",
    "print(report)"
   ]
  },
  {
   "cell_type": "code",
   "execution_count": null,
   "metadata": {},
   "outputs": [],
   "source": [
    "# BUILD A CNN MODEL"
   ]
  },
  {
   "cell_type": "code",
   "execution_count": null,
   "metadata": {},
   "outputs": [],
   "source": [
    "# Preprocess the data to match proper input shape for CNN"
   ]
  },
  {
   "cell_type": "code",
   "execution_count": null,
   "metadata": {},
   "outputs": [],
   "source": [
    "# Define the Model"
   ]
  },
  {
   "cell_type": "code",
   "execution_count": null,
   "metadata": {},
   "outputs": [],
   "source": [
    "# Compile the model with loss and optimizer"
   ]
  },
  {
   "cell_type": "code",
   "execution_count": null,
   "metadata": {},
   "outputs": [],
   "source": [
    "# Train the model"
   ]
  },
  {
   "cell_type": "code",
   "execution_count": null,
   "metadata": {},
   "outputs": [],
   "source": [
    "# Check the accuracy score"
   ]
  },
  {
   "cell_type": "code",
   "execution_count": null,
   "metadata": {},
   "outputs": [],
   "source": []
  },
  {
   "cell_type": "code",
   "execution_count": null,
   "metadata": {},
   "outputs": [],
   "source": [
    "# BUILD A LSTM MODEL"
   ]
  },
  {
   "cell_type": "code",
   "execution_count": null,
   "metadata": {},
   "outputs": [],
   "source": [
    "# Preprocess the data to match proper input shape for LSTM"
   ]
  },
  {
   "cell_type": "code",
   "execution_count": null,
   "metadata": {},
   "outputs": [],
   "source": [
    "# Define the Model"
   ]
  },
  {
   "cell_type": "code",
   "execution_count": null,
   "metadata": {},
   "outputs": [],
   "source": [
    "# Compile the model with loss and optimizer\n"
   ]
  },
  {
   "cell_type": "code",
   "execution_count": null,
   "metadata": {},
   "outputs": [],
   "source": [
    "# Train the model"
   ]
  },
  {
   "cell_type": "code",
   "execution_count": null,
   "metadata": {},
   "outputs": [],
   "source": [
    "# Check the accuracy score\n"
   ]
  },
  {
   "cell_type": "code",
   "execution_count": null,
   "metadata": {},
   "outputs": [],
   "source": []
  },
  {
   "cell_type": "code",
   "execution_count": null,
   "metadata": {},
   "outputs": [],
   "source": []
  }
 ],
 "metadata": {
  "kernelspec": {
   "display_name": "gendev",
   "language": "python",
   "name": "python3"
  },
  "language_info": {
   "codemirror_mode": {
    "name": "ipython",
    "version": 3
   },
   "file_extension": ".py",
   "mimetype": "text/x-python",
   "name": "python",
   "nbconvert_exporter": "python",
   "pygments_lexer": "ipython3",
   "version": "3.8.13"
  },
  "orig_nbformat": 4
 },
 "nbformat": 4,
 "nbformat_minor": 2
}
